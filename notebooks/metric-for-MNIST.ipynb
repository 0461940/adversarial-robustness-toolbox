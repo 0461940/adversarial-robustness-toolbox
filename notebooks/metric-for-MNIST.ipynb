{
 "cells": [
  {
   "cell_type": "markdown",
   "metadata": {},
   "source": [
    "## Metrics on MNIST"
   ]
  },
  {
   "cell_type": "code",
   "execution_count": 1,
   "metadata": {
    "collapsed": true
   },
   "outputs": [],
   "source": [
    "from matplotlib import pyplot as plt\n",
    "import numpy as np\n",
    "\n",
    "import json\n",
    "import os, sys\n",
    "from os.path import join, exists\n",
    "\n",
    "module_path = os.path.abspath(os.path.join('..'))\n",
    "if module_path not in sys.path:\n",
    "    sys.path.append(module_path)\n",
    "\n",
    "from config import DATA_PATH\n",
    "\n",
    "plt.rcdefaults() \n",
    "%matplotlib inline"
   ]
  },
  {
   "cell_type": "markdown",
   "metadata": {},
   "source": [
    "### White box on adversarial examples frm FGSM $(\\epsilon = 0.1)$, MNIST"
   ]
  },
  {
   "cell_type": "markdown",
   "metadata": {},
   "source": [
    "Defences"
   ]
  },
  {
   "cell_type": "code",
   "execution_count": 2,
   "metadata": {
    "collapsed": true
   },
   "outputs": [],
   "source": [
    "\n",
    "CLASSIFIERS = [\"cnn/relu/featsqueeze1\", #Feature Squeezing\n",
    "               \"cnn/relu/labsmooth\", # Label Smoothing\n",
    "               \"cnn/relu/adv-trained/fgsm/eps0.30_train.npy\", # Adversarial training FGSM eps=0.4\n",
    "               \"cnn/relu/adv-trained/vat/eps2.10_train.npy\",  # Adversarial Training VAT eps=2.1\n",
    "               \"cnn/brelu/gaussian/stdev0.40/pert-insts10\"] # Gaussian sigma =0.3 + brelu"
   ]
  },
  {
   "cell_type": "code",
   "execution_count": 3,
   "metadata": {
    "collapsed": true
   },
   "outputs": [],
   "source": [
    "INPUT_PATH = join(DATA_PATH, 'classifiers','mnist')\n",
    "for c in CLASSIFIERS:\n",
    "    assert exists(join(INPUT_PATH, c, \"best-weights.h5\"))\n",
    "    assert exists(join(INPUT_PATH, c, \"model.json\"))\n",
    "    assert exists(join(INPUT_PATH, c, \"params.json\"))"
   ]
  },
  {
   "cell_type": "markdown",
   "metadata": {},
   "source": [
    "Adversarial Images"
   ]
  },
  {
   "cell_type": "code",
   "execution_count": 4,
   "metadata": {},
   "outputs": [
    {
     "name": "stdout",
     "output_type": "stream",
     "text": [
      "cnn/relu/featsqueeze1\n",
      "cnn/relu/labsmooth\n",
      "cnn/relu/adv-trained/\n",
      "cnn/relu/adv-trained/vat/eps2.10_train\n",
      "cnn/brelu/gaussian/stdev0.40/pert-insts10\n"
     ]
    }
   ],
   "source": [
    "WBox_ATTACKS = join(DATA_PATH,\"adversarial\",'mnist')\n",
    "\n",
    "ADV_IMAGES = [\"cnn/relu/featsqueeze1\", #Feature Squeezing\n",
    "               \"cnn/relu/labsmooth\", # Label Smoothing\n",
    "               \"cnn/relu/adv-trained/\", # Adversarial training FGSM eps=0.4\n",
    "               \"cnn/relu/adv-trained/vat/eps2.10_train\",  # Adversarial Training VAT eps=2.1\n",
    "               \"cnn/brelu/gaussian/stdev0.30/pert-insts10\"] # Gaussian sigma =0.3 + brelu\n",
    "\n",
    "for c in ADV_IMAGES[0:]:\n",
    "    print(c)\n",
    "    assert exists(join(WBox_ATTACKS, c, \"fgsm\", \"eps0.10_test.npy\"))"
   ]
  },
  {
   "cell_type": "code",
   "execution_count": 5,
   "metadata": {},
   "outputs": [
    {
     "name": "stderr",
     "output_type": "stream",
     "text": [
      "Using TensorFlow backend.\n"
     ]
    }
   ],
   "source": [
    "# Load Classifiers\n",
    "from src.classifiers.cnn import CNN\n",
    "from src.classifiers.utils import load_classifier\n",
    "from src.utils import load_mnist\n",
    "import keras.backend as K\n",
    "import tensorflow as tf\n",
    "\n",
    "#important for ensuring the model_weights are loaded in the same session as the one where metrics are computed\n",
    "session = tf.Session()\n",
    "K.set_session(session)"
   ]
  },
  {
   "cell_type": "markdown",
   "metadata": {},
   "source": [
    "### Accuracies"
   ]
  },
  {
   "cell_type": "code",
   "execution_count": 6,
   "metadata": {},
   "outputs": [],
   "source": [
    "(X_train,_), (X_test, Y_test) = load_mnist() "
   ]
  },
  {
   "cell_type": "code",
   "execution_count": 6,
   "metadata": {},
   "outputs": [
    {
     "name": "stdout",
     "output_type": "stream",
     "text": [
      "1\n",
      "\n",
      " cnn/relu/featsqueeze1 0.95090000391 \n",
      "\n"
     ]
    }
   ],
   "source": [
    "(X_train,_), (X_test, Y_test) = load_mnist() \n",
    "\n",
    "# get classifier\n",
    "for c,a in zip(CLASSIFIERS[0:],ADV_IMAGES[0:]):\n",
    "    classifier = load_classifier(join(INPUT_PATH, c),'best-weights.h5')\n",
    "    attack_imgs = np.load(join(WBox_ATTACKS,a,\"fgsm\", \"eps0.10_test.npy\"))\n",
    "    print('\\n',c,classifier.evaluate(x_val=attack_imgs,y_val=Y_test,batch_size=100,verbose=0)[1],'\\n')\n",
    "    break\n",
    "    "
   ]
  },
  {
   "cell_type": "markdown",
   "metadata": {},
   "source": [
    "## Robustness"
   ]
  },
  {
   "cell_type": "code",
   "execution_count": 9,
   "metadata": {},
   "outputs": [],
   "source": [
    "from src.metrics import empirical_robustness, nearest_nieghbour_dist"
   ]
  },
  {
   "cell_type": "code",
   "execution_count": 12,
   "metadata": {},
   "outputs": [
    {
     "name": "stdout",
     "output_type": "stream",
     "text": [
      "1\n",
      "0.142908\n"
     ]
    }
   ],
   "source": [
    "params = {\"eps_step\": 0.05,\n",
    "        \"eps_max\": 0.3,\n",
    "        \"clip_min\": None,\n",
    "        \"clip_max\": None}\n",
    "for c,a in zip(CLASSIFIERS[0:],ADV_IMAGES):\n",
    "    classifier = load_classifier(join(INPUT_PATH, c))\n",
    "    emp_robust = empirical_robustness(X_test, classifier.model, session, \"fgsm\", params)\n",
    "    print(emp_robust)\n",
    "    break\n",
    "\n"
   ]
  },
  {
   "cell_type": "markdown",
   "metadata": {
    "collapsed": true
   },
   "source": [
    "### Robustness as measured by proximty of decision boundary to training examples"
   ]
  },
  {
   "cell_type": "code",
   "execution_count": 7,
   "metadata": {},
   "outputs": [
    {
     "name": "stdout",
     "output_type": "stream",
     "text": [
      "1\n",
      "cnn/relu/featsqueeze1 10.3774\n",
      "cnn/relu/labsmooth 10.3338\n",
      "cnn/relu/adv-trained/fgsm/eps0.30_train.npy 3.93939\n",
      "cnn/relu/adv-trained/vat/eps2.10_train.npy 5.41566\n",
      "cnn/brelu/gaussian/stdev0.40/pert-insts10 17.1036\n"
     ]
    }
   ],
   "source": [
    "from src.metrics import nearest_nieghbour_dist\n",
    "\n",
    "params = {\"eps_step\": 0.05,\n",
    "        \"eps_max\": 1.0,\n",
    "        \"clip_min\": 0.0,\n",
    "        \"clip_max\": 1.0}\n",
    "\n",
    "for c,a in zip(CLASSIFIERS[0:],ADV_IMAGES):\n",
    "    classifier = load_classifier(join(INPUT_PATH, c))\n",
    "    avg_nn_dist = nearest_nieghbour_dist(X_test, Y_test, classifier.model, X_train,  session, \"fgsm\", params)\n",
    "    print(c,avg_nn_dist)\n",
    "\n",
    "\n"
   ]
  }
 ],
 "metadata": {
  "kernelspec": {
   "display_name": "Python 3",
   "language": "python",
   "name": "python3"
  },
  "language_info": {
   "codemirror_mode": {
    "name": "ipython",
    "version": 3
   },
   "file_extension": ".py",
   "mimetype": "text/x-python",
   "name": "python",
   "nbconvert_exporter": "python",
   "pygments_lexer": "ipython3",
   "version": "3.4.5"
  }
 },
 "nbformat": 4,
 "nbformat_minor": 2
}
