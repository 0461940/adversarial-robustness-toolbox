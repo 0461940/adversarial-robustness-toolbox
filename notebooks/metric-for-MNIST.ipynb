{
 "cells": [
  {
   "cell_type": "markdown",
   "metadata": {},
   "source": [
    "## White Box on MNIST (Table 3)"
   ]
  },
  {
   "cell_type": "code",
   "execution_count": 1,
   "metadata": {
    "collapsed": true
   },
   "outputs": [],
   "source": [
    "from tabulate import tabulate\n",
    "table = []\n",
    "DEFENSES = ['Feature squeezing',\n",
    "               'Label smoothing',\n",
    "               'FGSM Adversrial Training',\n",
    "               'VAT',\n",
    "               'Gaussian + BRELU ',\n",
    "               'Gaussian + RELU',\n",
    "               'Vanilla CNN'\n",
    "           ]\n",
    "for d in range(len(DEFENSES)):\n",
    "    table.append([DEFENSES[d]])"
   ]
  },
  {
   "cell_type": "code",
   "execution_count": 2,
   "metadata": {
    "collapsed": true
   },
   "outputs": [],
   "source": [
    "import numpy as np\n",
    "\n",
    "import json\n",
    "import os, sys\n",
    "from os.path import join, exists\n",
    "\n",
    "module_path = os.path.abspath(os.path.join('..'))\n",
    "if module_path not in sys.path:\n",
    "    sys.path.append(module_path)\n",
    "\n",
    "from config import DATA_PATH"
   ]
  },
  {
   "cell_type": "markdown",
   "metadata": {},
   "source": [
    "### White box on adversarial examples frm FGSM $(\\epsilon = 0.1)$, MNIST"
   ]
  },
  {
   "cell_type": "markdown",
   "metadata": {},
   "source": [
    "Defences"
   ]
  },
  {
   "cell_type": "code",
   "execution_count": 3,
   "metadata": {
    "collapsed": true
   },
   "outputs": [],
   "source": [
    "\n",
    "CLASSIFIERS = [\"cnn/relu/featsqueeze1\", #Feature Squeezing\n",
    "               \"cnn/relu/labsmooth\", # Label Smoothing\n",
    "               \"cnn/relu/adv-trained/fgsm/eps0.30_train.npy\", # Adversarial training FGSM eps=0.4\n",
    "               \"cnn/relu/adv-trained/vat/eps2.10_train.npy\",  # Adversarial Training VAT eps=2.1\n",
    "               \"cnn/brelu/gaussian/stdev0.30/pert-insts10\", # Gaussian sigma =0.3 + brelu\n",
    "               \"cnn/relu/gaussian/stdev0.30/pert-insts10\",  # Gaussian sigma =0.3 + relu\n",
    "               \"cnn/relu\"]  # vanilla cnn-relu"
   ]
  },
  {
   "cell_type": "code",
   "execution_count": 4,
   "metadata": {
    "collapsed": true
   },
   "outputs": [],
   "source": [
    "INPUT_PATH = join(DATA_PATH, 'classifiers','mnist')\n",
    "for c in CLASSIFIERS:\n",
    "    assert exists(join(INPUT_PATH, c, \"best-weights.h5\"))\n",
    "    assert exists(join(INPUT_PATH, c, \"model.json\"))\n",
    "    assert exists(join(INPUT_PATH, c, \"params.json\"))"
   ]
  },
  {
   "cell_type": "markdown",
   "metadata": {},
   "source": [
    "Adversarial Images"
   ]
  },
  {
   "cell_type": "code",
   "execution_count": 5,
   "metadata": {},
   "outputs": [],
   "source": [
    "WBox_ATTACKS = join(DATA_PATH,\"adversarial\",'mnist')\n",
    "\n",
    "ADV_IMAGES = [\"cnn/relu/featsqueeze1\", #Feature Squeezing\n",
    "               \"cnn/relu/labsmooth\", # Label Smoothing\n",
    "               \"cnn/relu/adv-trained/\", # Adversarial training FGSM eps=0.4\n",
    "               \"cnn/relu/adv-trained/vat/eps2.10_train\",  # Adversarial Training VAT eps=2.1\n",
    "               \"cnn/brelu/gaussian/stdev0.30/pert-insts10\", # Gaussian sigma =0.3 + brelu\n",
    "               \"cnn/relu/gaussian/stdev0.30/pert-insts10\",  # Gaussian sigma =0.3 + relu\n",
    "               \"cnn/relu\"]  # vanilla cnn-relu\n",
    "for c in ADV_IMAGES[0:]:\n",
    "    #print(c)\n",
    "    assert exists(join(WBox_ATTACKS, c, \"fgsm\", \"eps0.10_test.npy\"))\n",
    "    #assert exists(join(WBox_ATTACKS, c, \"deepfool\", \"test.npy\"))"
   ]
  },
  {
   "cell_type": "code",
   "execution_count": 6,
   "metadata": {},
   "outputs": [
    {
     "name": "stderr",
     "output_type": "stream",
     "text": [
      "Using TensorFlow backend.\n"
     ]
    }
   ],
   "source": [
    "# Load Classifiers\n",
    "from src.classifiers.cnn import CNN\n",
    "from src.classifiers.utils import load_classifier\n",
    "from src.utils import load_mnist\n",
    "import keras.backend as K\n",
    "import tensorflow as tf\n",
    "\n",
    "#important for ensuring the model_weights are loaded in the same session as the one where metrics are computed\n",
    "session = tf.Session()\n",
    "K.set_session(session)"
   ]
  },
  {
   "cell_type": "code",
   "execution_count": 7,
   "metadata": {
    "collapsed": true
   },
   "outputs": [],
   "source": [
    "(X_train,_), (X_test, Y_test) = load_mnist() "
   ]
  },
  {
   "cell_type": "markdown",
   "metadata": {},
   "source": [
    "### Accuracies"
   ]
  },
  {
   "cell_type": "code",
   "execution_count": 8,
   "metadata": {},
   "outputs": [
    {
     "name": "stdout",
     "output_type": "stream",
     "text": [
      "1\n",
      "Flips wrt: true  3561  pred  3390\n",
      " 9888/10000 [============================>.] - ETA: 0sFeature squeezing 35.61\n",
      "Flips wrt: true  3706  pred  3547\n",
      " 9888/10000 [============================>.] - ETA: 0sLabel smoothing 37.06\n",
      "Flips wrt: true  5644  pred  5544\n",
      " 9888/10000 [============================>.] - ETA: 0sFGSM Adversrial Training 56.44\n",
      "Flips wrt: true  7332  pred  7251\n",
      "10000/10000 [==============================] - 3s     \n",
      "VAT 73.32\n",
      "Flips wrt: true  6956  pred  6919\n",
      " 9888/10000 [============================>.] - ETA: 0sGaussian + BRELU  69.56\n",
      "Flips wrt: true  7396  pred  7334\n",
      " 9888/10000 [============================>.] - ETA: 0sGaussian + RELU 73.96\n",
      "Flips wrt: true  5207  pred  5129\n",
      " 9888/10000 [============================>.] - ETA: 0sVanilla CNN 52.07\n"
     ]
    }
   ],
   "source": [
    "from src.metrics import accuracy_at_mp\n",
    "\n",
    "params = {\"eps_step\": 0.05,\n",
    "        \"eps_max\": 1.0,\n",
    "        \"clip_min\": 0.0,\n",
    "        \"clip_max\": 1.0}\n",
    "\n",
    "for c,a,d in zip(CLASSIFIERS,ADV_IMAGES,range(len(DEFENSES))):\n",
    "    classifier = load_classifier(join(INPUT_PATH, c),'best-weights.h5')\n",
    "    avg_nn_dist = accuracy_at_mp(X_test, Y_test, classifier.model, session, \"fgsm\", params)\n",
    "    \n",
    "    temp = table[d]\n",
    "    temp.append(avg_nn_dist)\n",
    "    table[d] = temp\n",
    "    print(DEFENSES[d],avg_nn_dist)"
   ]
  },
  {
   "cell_type": "markdown",
   "metadata": {},
   "source": [
    "### Robustness"
   ]
  },
  {
   "cell_type": "code",
   "execution_count": 9,
   "metadata": {},
   "outputs": [
    {
     "name": "stdout",
     "output_type": "stream",
     "text": [
      "1\n",
      "6610\n",
      "Feature squeezing 0.143702\n",
      "6453\n",
      "Label smoothing 0.152006\n",
      "4456\n",
      "FGSM Adversrial Training 0.226028\n",
      "2749\n",
      "VAT 0.308226\n",
      "3081\n",
      "Gaussian + BRELU  0.471461\n",
      "2666\n",
      "Gaussian + RELU 0.44477\n",
      "4871\n",
      "Vanilla CNN 0.202975\n"
     ]
    },
    {
     "data": {
      "text/plain": [
       "'\\ncnn/relu/featsqueeze1 0.161807\\ncnn/relu/labsmooth 0.183515\\ncnn/relu/adv-trained/fgsm/eps0.30_train.npy 0.132598\\ncnn/relu/adv-trained/vat/eps2.10_train.npy 0.0876128\\ncnn/brelu/gaussian/stdev0.30/pert-insts10 0.228296\\ncnn/relu/gaussian/stdev0.30/pert-insts10 0.0665115\\ncnn/relu 0.177879\\n'"
      ]
     },
     "execution_count": 9,
     "metadata": {},
     "output_type": "execute_result"
    }
   ],
   "source": [
    "from src.metrics import empirical_robustness\n",
    "\n",
    "params = {\"eps_step\": 0.05,\n",
    "        \"eps_max\": 1.0,\n",
    "        \"clip_min\": 0.0,\n",
    "        \"clip_max\": 1.0}\n",
    "for c,a,d in zip(CLASSIFIERS,ADV_IMAGES,range(len(DEFENSES))):\n",
    "    classifier = load_classifier(join(INPUT_PATH, c),'best-weights.h5')\n",
    "    emp_robust = empirical_robustness(X_test, classifier.model, session, \"fgsm\", params)\n",
    "    \n",
    "    temp = table[d]\n",
    "    temp.append(emp_robust)\n",
    "    table[d] = temp\n",
    "    print(DEFENSES[d],emp_robust)\n",
    "'''\n",
    "cnn/relu/featsqueeze1 0.161807\n",
    "cnn/relu/labsmooth 0.183515\n",
    "cnn/relu/adv-trained/fgsm/eps0.30_train.npy 0.132598\n",
    "cnn/relu/adv-trained/vat/eps2.10_train.npy 0.0876128\n",
    "cnn/brelu/gaussian/stdev0.30/pert-insts10 0.228296\n",
    "cnn/relu/gaussian/stdev0.30/pert-insts10 0.0665115\n",
    "cnn/relu 0.177879\n",
    "'''"
   ]
  },
  {
   "cell_type": "markdown",
   "metadata": {
    "collapsed": true
   },
   "source": [
    "### Robustness as measured by proximty of decision boundary to training examples"
   ]
  },
  {
   "cell_type": "code",
   "execution_count": 10,
   "metadata": {},
   "outputs": [
    {
     "name": "stdout",
     "output_type": "stream",
     "text": [
      "1\n",
      "Feature squeezing 3.0102\n",
      "Label smoothing 3.18711\n",
      "FGSM Adversrial Training 4.33603\n",
      "VAT 6.6475\n",
      "Gaussian + BRELU  9.31665\n",
      "Gaussian + RELU 10.3671\n",
      "Vanilla CNN 3.90864\n"
     ]
    },
    {
     "data": {
      "text/plain": [
       "'\\ncnn/relu/featsqueeze1 10.3774\\ncnn/relu/labsmooth 10.3338\\ncnn/relu/adv-trained/fgsm/eps0.30_train.npy 3.93939\\ncnn/relu/adv-trained/vat/eps2.10_train.npy 5.41566\\ncnn/brelu/gaussian/stdev0.30/pert-insts10 16.9473\\ncnn/relu/gaussian/stdev0.30/pert-insts10 10.3566\\ncnn/relu 10.5697\\n'"
      ]
     },
     "execution_count": 10,
     "metadata": {},
     "output_type": "execute_result"
    }
   ],
   "source": [
    "from src.metrics import nearest_nieghbour_dist\n",
    "\n",
    "params = {\"eps_step\": 0.05,\n",
    "        \"eps_max\": 1.0,\n",
    "        \"clip_min\": 0.0,\n",
    "        \"clip_max\": 1.0}\n",
    "\n",
    "for c,a,d in zip(CLASSIFIERS,ADV_IMAGES,range(len(DEFENSES))):\n",
    "    classifier = load_classifier(join(INPUT_PATH, c),'best-weights.h5')\n",
    "    avg_nn_dist = nearest_nieghbour_dist(X_test, classifier.model, X_train,  session, \"fgsm\", params)\n",
    "    \n",
    "    temp = table[d]\n",
    "    temp.append(avg_nn_dist)\n",
    "    table[d] = temp\n",
    "    print(DEFENSES[d],avg_nn_dist)\n",
    "    \n",
    "\n",
    "\n",
    "'''\n",
    "cnn/relu/featsqueeze1 10.3774\n",
    "cnn/relu/labsmooth 10.3338\n",
    "cnn/relu/adv-trained/fgsm/eps0.30_train.npy 3.93939\n",
    "cnn/relu/adv-trained/vat/eps2.10_train.npy 5.41566\n",
    "cnn/brelu/gaussian/stdev0.30/pert-insts10 16.9473\n",
    "cnn/relu/gaussian/stdev0.30/pert-insts10 10.3566\n",
    "cnn/relu 10.5697\n",
    "'''"
   ]
  },
  {
   "cell_type": "code",
   "execution_count": 11,
   "metadata": {},
   "outputs": [
    {
     "name": "stdout",
     "output_type": "stream",
     "text": [
      "\\begin{tabular}{lrrr}\n",
      "\\hline\n",
      " Feature squeezing        & 35.61 & 0.143702 &  3.0102  \\\\\n",
      " Label smoothing          & 37.06 & 0.152006 &  3.18711 \\\\\n",
      " FGSM Adversrial Training & 56.44 & 0.226028 &  4.33603 \\\\\n",
      " VAT                      & 73.32 & 0.308226 &  6.6475  \\\\\n",
      " Gaussian + BRELU         & 69.56 & 0.471461 &  9.31665 \\\\\n",
      " Gaussian + RELU          & 73.96 & 0.44477  & 10.3671  \\\\\n",
      " Vanilla CNN              & 52.07 & 0.202975 &  3.90864 \\\\\n",
      "\\hline\n",
      "\\end{tabular}\n"
     ]
    }
   ],
   "source": [
    "print(tabulate(table,tablefmt=\"latex\"))"
   ]
  },
  {
   "cell_type": "code",
   "execution_count": null,
   "metadata": {},
   "outputs": [],
   "source": [
    "'''\n",
    "Flips wrt: true  3561  pred  3390\n",
    " 9888/10000 [============================>.] - ETA: 0sFeature squeezing 35.61\n",
    "Flips wrt: true  3706  pred  3547\n",
    " 9888/10000 [============================>.] - ETA: 0sLabel smoothing 37.06\n",
    "Flips wrt: true  6136  pred  6027\n",
    " 9888/10000 [============================>.] - ETA: 0sFGSM Adversrial Training 61.36\n",
    "Flips wrt: true  8865  pred  8791\n",
    " 9888/10000 [============================>.] - ETA: 0sVAT 88.65\n",
    "Flips wrt: true  9073  pred  9061\n",
    " 9888/10000 [============================>.] - ETA: 0sGaussian + BRELU  90.73\n",
    "Flips wrt: true  9826  pred  9827\n",
    " 9888/10000 [============================>.] - ETA: 0sGaussian + RELU 98.26\n",
    "Flips wrt: true  5549  pred  5448\n",
    " 9856/10000 [============================>.] - ETA: 0sVanilla CNN 55.49\n",
    "'''"
   ]
  },
  {
   "cell_type": "code",
   "execution_count": 8,
   "metadata": {},
   "outputs": [
    {
     "name": "stdout",
     "output_type": "stream",
     "text": [
      "1\n",
      "Feature squeezing 95.090000391\n",
      "Label smoothing 64.4099999666\n",
      "FGSM Adversrial Training 83.619999826\n",
      "VAT 85.9799997211\n",
      "Gaussian + BRELU  97.2000004053\n",
      "Gaussian + RELU 96.680000484\n",
      "Vanilla CNN 73.8800000548\n"
     ]
    }
   ],
   "source": [
    "\n",
    "# get classifier\n",
    "for c,a,d in zip(CLASSIFIERS,ADV_IMAGES,range(len(DEFENSES))):\n",
    "    classifier = load_classifier(join(INPUT_PATH, c),'best-weights.h5')\n",
    "    attack_imgs = np.load(join(WBox_ATTACKS,a,\"fgsm\", \"eps0.10_test.npy\"))\n",
    "    acc = classifier.evaluate(x_val=attack_imgs,y_val=Y_test,batch_size=100,verbose=0)[1]*100\n",
    "    \n",
    "    temp = table[d]\n",
    "    temp.append(acc)\n",
    "    table[d] = temp\n",
    "    print(DEFENSES[d],acc)\n",
    "    \n",
    "    "
   ]
  }
 ],
 "metadata": {
  "kernelspec": {
   "display_name": "Python 3",
   "language": "python",
   "name": "python3"
  },
  "language_info": {
   "codemirror_mode": {
    "name": "ipython",
    "version": 3
   },
   "file_extension": ".py",
   "mimetype": "text/x-python",
   "name": "python",
   "nbconvert_exporter": "python",
   "pygments_lexer": "ipython3",
   "version": "3.4.5"
  }
 },
 "nbformat": 4,
 "nbformat_minor": 2
}
