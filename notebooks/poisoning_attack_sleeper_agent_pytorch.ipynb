{
 "cells": [
  {
   "cell_type": "markdown",
   "id": "167d8f6c",
   "metadata": {},
   "source": [
    "# This notebook implements sleeper agent attack"
   ]
  },
  {
   "cell_type": "markdown",
   "id": "64fc35bd",
   "metadata": {},
   "source": [
    "In this notebook, we will learn how to use ART to run a Hidden Trigger Backdoor Attack Sleeper Agent poisoning attack on a neural network trained with Pytorch. We will be training our data on a subset of the CIFAR-10 dataset. The methods described are derived from [this paper](https://arxiv.org/pdf/2106.08970.pdf) by Hossein Souri, et. al. 2021."
   ]
  },
  {
   "cell_type": "code",
   "execution_count": 1,
   "id": "501c126e",
   "metadata": {},
   "outputs": [],
   "source": [
    "import math\n",
    "from tqdm import trange\n",
    "import numpy as np\n",
    "import os, sys\n",
    "import pdb\n",
    "from PIL import Image\n",
    "from numpy import asarray\n",
    "from skimage.transform import resize\n",
    "import random\n",
    "from art.estimators.classification import PyTorchClassifier\n",
    "from art.utils import load_cifar10\n",
    "from torchvision.models.resnet import BasicBlock, Bottleneck\n",
    "import torch\n",
    "import torch.nn as nn\n",
    "from torch.utils.data import TensorDataset, DataLoader\n",
    "import torchvision\n",
    "import torch.nn.functional as F"
   ]
  },
  {
   "cell_type": "code",
   "execution_count": 2,
   "id": "b9de724d",
   "metadata": {},
   "outputs": [],
   "source": [
    "module_path = os.path.abspath(os.path.join('..'))\n",
    "if module_path not in sys.path:\n",
    "    sys.path.append(module_path)\n",
    "module_path = os.path.abspath(os.path.join('.'))\n",
    "if module_path not in sys.path:\n",
    "    sys.path.append(module_path)"
   ]
  },
  {
   "cell_type": "markdown",
   "id": "50fd61d1",
   "metadata": {},
   "source": [
    "# Substitute Model Training "
   ]
  },
  {
   "cell_type": "code",
   "execution_count": 3,
   "id": "8a4f0cec",
   "metadata": {},
   "outputs": [],
   "source": [
    "(x_train, y_train), (x_test, y_test), min_, max_ = load_cifar10()\n",
    "x_train = np.transpose(x_train, (0, 3, 1, 2)).astype(np.float32)\n",
    "x_test = np.transpose(x_test, (0, 3, 1, 2)).astype(np.float32)\n",
    "mean = np.mean(x_train,axis=(0,1,2,3))\n",
    "std = np.std(x_train,axis=(0,1,2,3))\n",
    "\n",
    "patch_size = 8\n",
    "device = torch.device(\"cuda:0\" if torch.cuda.is_available() else \"cpu\")\n",
    "img = Image.open('trigger_10.png')\n",
    "numpydata = asarray(img)\n",
    "patch = resize(numpydata, (patch_size,patch_size,3))\n",
    "patch = np.transpose(patch,(2,0,1))\n",
    "x_train_orig = np.copy(x_train)"
   ]
  },
  {
   "cell_type": "code",
   "execution_count": 4,
   "id": "69e3ffe8",
   "metadata": {},
   "outputs": [],
   "source": [
    "num_classes = 10\n",
    "loss_fn = nn.CrossEntropyLoss()\n",
    "model = torchvision.models.ResNet(torchvision.models.resnet.BasicBlock, [2, 2, 2, 2], num_classes=num_classes)\n",
    "optimizer = torch.optim.SGD(model.parameters(), lr=0.1, momentum=0.9, weight_decay=5e-4, nesterov=True)\n",
    "model_art = PyTorchClassifier(model,input_shape=x_train.shape[1:], loss=loss_fn, optimizer=optimizer, nb_classes=10, clip_values=(min_, max_), preprocessing=(mean,std))\n",
    "model_art.fit(x_train, y_train, batch_size=128, nb_epochs=80,verbose=0)\n",
    "predictions = model_art.predict(x_test)\n",
    "accuracy = np.sum(np.argmax(predictions, axis=1) == np.argmax(y_test, axis=1)) / len(y_test)\n",
    "print(\"Accuracy on benign test examples: {}%\".format(accuracy * 100))"
   ]
  },
  {
   "cell_type": "code",
   "execution_count": 6,
   "id": "d973a78c",
   "metadata": {},
   "outputs": [
    {
     "data": {
      "text/plain": [
       "art.estimators.classification.pytorch.PyTorchClassifier(model=ModelWrapper(\n",
       "  (_model): ResNet(\n",
       "    (conv1): Conv2d(3, 64, kernel_size=(7, 7), stride=(2, 2), padding=(3, 3), bias=False)\n",
       "    (bn1): BatchNorm2d(64, eps=1e-05, momentum=0.1, affine=True, track_running_stats=True)\n",
       "    (relu): ReLU(inplace=True)\n",
       "    (maxpool): MaxPool2d(kernel_size=3, stride=2, padding=1, dilation=1, ceil_mode=False)\n",
       "    (layer1): Sequential(\n",
       "      (0): BasicBlock(\n",
       "        (conv1): Conv2d(64, 64, kernel_size=(3, 3), stride=(1, 1), padding=(1, 1), bias=False)\n",
       "        (bn1): BatchNorm2d(64, eps=1e-05, momentum=0.1, affine=True, track_running_stats=True)\n",
       "        (relu): ReLU(inplace=True)\n",
       "        (conv2): Conv2d(64, 64, kernel_size=(3, 3), stride=(1, 1), padding=(1, 1), bias=False)\n",
       "        (bn2): BatchNorm2d(64, eps=1e-05, momentum=0.1, affine=True, track_running_stats=True)\n",
       "      )\n",
       "      (1): BasicBlock(\n",
       "        (conv1): Conv2d(64, 64, kernel_size=(3, 3), stride=(1, 1), padding=(1, 1), bias=False)\n",
       "        (bn1): BatchNorm2d(64, eps=1e-05, momentum=0.1, affine=True, track_running_stats=True)\n",
       "        (relu): ReLU(inplace=True)\n",
       "        (conv2): Conv2d(64, 64, kernel_size=(3, 3), stride=(1, 1), padding=(1, 1), bias=False)\n",
       "        (bn2): BatchNorm2d(64, eps=1e-05, momentum=0.1, affine=True, track_running_stats=True)\n",
       "      )\n",
       "    )\n",
       "    (layer2): Sequential(\n",
       "      (0): BasicBlock(\n",
       "        (conv1): Conv2d(64, 128, kernel_size=(3, 3), stride=(2, 2), padding=(1, 1), bias=False)\n",
       "        (bn1): BatchNorm2d(128, eps=1e-05, momentum=0.1, affine=True, track_running_stats=True)\n",
       "        (relu): ReLU(inplace=True)\n",
       "        (conv2): Conv2d(128, 128, kernel_size=(3, 3), stride=(1, 1), padding=(1, 1), bias=False)\n",
       "        (bn2): BatchNorm2d(128, eps=1e-05, momentum=0.1, affine=True, track_running_stats=True)\n",
       "        (downsample): Sequential(\n",
       "          (0): Conv2d(64, 128, kernel_size=(1, 1), stride=(2, 2), bias=False)\n",
       "          (1): BatchNorm2d(128, eps=1e-05, momentum=0.1, affine=True, track_running_stats=True)\n",
       "        )\n",
       "      )\n",
       "      (1): BasicBlock(\n",
       "        (conv1): Conv2d(128, 128, kernel_size=(3, 3), stride=(1, 1), padding=(1, 1), bias=False)\n",
       "        (bn1): BatchNorm2d(128, eps=1e-05, momentum=0.1, affine=True, track_running_stats=True)\n",
       "        (relu): ReLU(inplace=True)\n",
       "        (conv2): Conv2d(128, 128, kernel_size=(3, 3), stride=(1, 1), padding=(1, 1), bias=False)\n",
       "        (bn2): BatchNorm2d(128, eps=1e-05, momentum=0.1, affine=True, track_running_stats=True)\n",
       "      )\n",
       "    )\n",
       "    (layer3): Sequential(\n",
       "      (0): BasicBlock(\n",
       "        (conv1): Conv2d(128, 256, kernel_size=(3, 3), stride=(2, 2), padding=(1, 1), bias=False)\n",
       "        (bn1): BatchNorm2d(256, eps=1e-05, momentum=0.1, affine=True, track_running_stats=True)\n",
       "        (relu): ReLU(inplace=True)\n",
       "        (conv2): Conv2d(256, 256, kernel_size=(3, 3), stride=(1, 1), padding=(1, 1), bias=False)\n",
       "        (bn2): BatchNorm2d(256, eps=1e-05, momentum=0.1, affine=True, track_running_stats=True)\n",
       "        (downsample): Sequential(\n",
       "          (0): Conv2d(128, 256, kernel_size=(1, 1), stride=(2, 2), bias=False)\n",
       "          (1): BatchNorm2d(256, eps=1e-05, momentum=0.1, affine=True, track_running_stats=True)\n",
       "        )\n",
       "      )\n",
       "      (1): BasicBlock(\n",
       "        (conv1): Conv2d(256, 256, kernel_size=(3, 3), stride=(1, 1), padding=(1, 1), bias=False)\n",
       "        (bn1): BatchNorm2d(256, eps=1e-05, momentum=0.1, affine=True, track_running_stats=True)\n",
       "        (relu): ReLU(inplace=True)\n",
       "        (conv2): Conv2d(256, 256, kernel_size=(3, 3), stride=(1, 1), padding=(1, 1), bias=False)\n",
       "        (bn2): BatchNorm2d(256, eps=1e-05, momentum=0.1, affine=True, track_running_stats=True)\n",
       "      )\n",
       "    )\n",
       "    (layer4): Sequential(\n",
       "      (0): BasicBlock(\n",
       "        (conv1): Conv2d(256, 512, kernel_size=(3, 3), stride=(2, 2), padding=(1, 1), bias=False)\n",
       "        (bn1): BatchNorm2d(512, eps=1e-05, momentum=0.1, affine=True, track_running_stats=True)\n",
       "        (relu): ReLU(inplace=True)\n",
       "        (conv2): Conv2d(512, 512, kernel_size=(3, 3), stride=(1, 1), padding=(1, 1), bias=False)\n",
       "        (bn2): BatchNorm2d(512, eps=1e-05, momentum=0.1, affine=True, track_running_stats=True)\n",
       "        (downsample): Sequential(\n",
       "          (0): Conv2d(256, 512, kernel_size=(1, 1), stride=(2, 2), bias=False)\n",
       "          (1): BatchNorm2d(512, eps=1e-05, momentum=0.1, affine=True, track_running_stats=True)\n",
       "        )\n",
       "      )\n",
       "      (1): BasicBlock(\n",
       "        (conv1): Conv2d(512, 512, kernel_size=(3, 3), stride=(1, 1), padding=(1, 1), bias=False)\n",
       "        (bn1): BatchNorm2d(512, eps=1e-05, momentum=0.1, affine=True, track_running_stats=True)\n",
       "        (relu): ReLU(inplace=True)\n",
       "        (conv2): Conv2d(512, 512, kernel_size=(3, 3), stride=(1, 1), padding=(1, 1), bias=False)\n",
       "        (bn2): BatchNorm2d(512, eps=1e-05, momentum=0.1, affine=True, track_running_stats=True)\n",
       "      )\n",
       "    )\n",
       "    (avgpool): AdaptiveAvgPool2d(output_size=(1, 1))\n",
       "    (fc): Linear(in_features=512, out_features=10, bias=True)\n",
       "  )\n",
       "), loss=CrossEntropyLoss(), optimizer=SGD (\n",
       "Parameter Group 0\n",
       "    dampening: 0\n",
       "    lr: 0.1\n",
       "    momentum: 0.9\n",
       "    nesterov: True\n",
       "    weight_decay: 0.0005\n",
       "), input_shape=(3, 32, 32), nb_classes=10, channels_first=True, clip_values=array([0., 1.], dtype=float32), preprocessing_defences=None, postprocessing_defences=None, preprocessing=StandardisationMeanStdPyTorch(mean=0.4733648896217346, std=0.25156906247138977, apply_fit=True, apply_predict=True, device=cuda:0))"
      ]
     },
     "execution_count": 6,
     "metadata": {},
     "output_type": "execute_result"
    }
   ],
   "source": [
    "model_art"
   ]
  },
  {
   "cell_type": "markdown",
   "id": "9b1ca858",
   "metadata": {},
   "source": [
    "# Define Source and Target Class"
   ]
  },
  {
   "cell_type": "code",
   "execution_count": 7,
   "id": "535c3171",
   "metadata": {},
   "outputs": [],
   "source": [
    "class_source = 0\n",
    "class_target = 1\n",
    "K = 1000"
   ]
  },
  {
   "cell_type": "markdown",
   "id": "8898bf97",
   "metadata": {},
   "source": [
    "# Select Triggers from Source Class and helper functions for calculating Success Rate"
   ]
  },
  {
   "cell_type": "code",
   "execution_count": 8,
   "id": "0ffa74a7",
   "metadata": {},
   "outputs": [],
   "source": [
    "from art.utils import to_categorical\n",
    "from art.attacks.poisoning.sleeper_agent_attack import SleeperAgentAttack\n",
    "\n",
    "def select_trigger_train(x_train,y_train,K,class_source,class_target):\n",
    "    x_train_ = np.copy(x_train)\n",
    "    index_source = np.where(y_train.argmax(axis=1)==class_source)[0][0:K]\n",
    "    index_target = np.where(y_train.argmax(axis=1)==class_target)[0]\n",
    "    x_trigger = x_train_[index_source]\n",
    "    y_trigger  = to_categorical([class_target], nb_classes=10)\n",
    "    y_trigger = np.tile(y_trigger,(len(index_source),1))\n",
    "    return x_trigger,y_trigger,index_target\n",
    "   "
   ]
  },
  {
   "cell_type": "markdown",
   "id": "fac33a35",
   "metadata": {},
   "source": [
    "# Generate Poison Images through attack "
   ]
  },
  {
   "cell_type": "code",
   "execution_count": 9,
   "id": "fcb2f48d",
   "metadata": {
    "scrolled": true
   },
   "outputs": [
    {
     "data": {
      "application/vnd.jupyter.widget-view+json": {
       "model_id": "db64b51ddc4a414599e1a424d9aaee5b",
       "version_major": 2,
       "version_minor": 0
      },
      "text/plain": [
       "  0%|          | 0/1 [00:00<?, ?it/s]"
      ]
     },
     "metadata": {},
     "output_type": "display_data"
    },
    {
     "data": {
      "application/vnd.jupyter.widget-view+json": {
       "model_id": "508801f83f46450fb9c52ab5676a0d4a",
       "version_major": 2,
       "version_minor": 0
      },
      "text/plain": [
       "  0%|          | 0/250 [00:00<?, ?it/s]"
      ]
     },
     "metadata": {},
     "output_type": "display_data"
    }
   ],
   "source": [
    "x_trigger,y_trigger,index_target = select_trigger_train(x_train,y_train,K,class_source,class_target)\n",
    "attack = SleeperAgentAttack(model_art,\n",
    "                                percent_poison=0.20,\n",
    "                                max_trials=1,\n",
    "                                max_epochs=250,\n",
    "                                learning_rate_schedule=(np.array([1e-1, 1e-2, 1e-3, 1e-4, 1e-5]), [250, 350, 400, 430, 460]),\n",
    "                                epsilon=16,\n",
    "                                batch_size=500,\n",
    "                                verbose=1,\n",
    "                                indices_target=index_target,\n",
    "                                patching_strategy=\"random\",\n",
    "                                selection_strategy=\"max-norm\",\n",
    "                                patch=patch,\n",
    "                                retraining_factor = 4,\n",
    "                                model_retrain = False,\n",
    "                                model_retraining_epoch = 80,\n",
    "                                class_source = class_source,\n",
    "                                class_target = class_target,\n",
    "                                device_name = str(device)       \n",
    "                           )\n",
    "x_poison, y_poison = attack.poison(x_trigger,y_trigger,x_train,y_train,x_test,y_test) \n",
    "indices_poison = attack.get_poison_indices()"
   ]
  },
  {
   "cell_type": "markdown",
   "id": "4ebe3ce5",
   "metadata": {},
   "source": [
    "# Check indices selected for poisoning"
   ]
  },
  {
   "cell_type": "code",
   "execution_count": 10,
   "id": "8628d43b",
   "metadata": {},
   "outputs": [
    {
     "data": {
      "text/plain": [
       "array([   9,   11,   14,   18,   22,   23,   32,   42,   51,   52,   54,\n",
       "         55,   60,   65,   67,   69,   74,   77,   83,   85,   86,  101,\n",
       "        106,  107,  112,  113,  120,  123,  126,  133,  139,  144,  149,\n",
       "        160,  163,  167,  171,  183,  185,  187,  192,  195,  212,  225,\n",
       "        228,  230,  235,  237,  242,  249,  260,  261,  262,  268,  270,\n",
       "        276,  285,  287,  291,  295,  298,  302,  314,  315,  316,  321,\n",
       "        322,  333,  341,  356,  358,  363,  364,  371,  372,  373,  381,\n",
       "        384,  385,  387,  394,  396,  401,  408,  428,  431,  433,  434,\n",
       "        438,  470,  472,  474,  477,  482,  495,  496,  499,  507,  514,\n",
       "        515,  516,  519,  532,  548,  567,  577,  583,  588,  592,  594,\n",
       "        595,  597,  602,  610,  619,  627,  636,  641,  642,  644,  646,\n",
       "        647,  657,  674,  676,  682,  684,  693,  697,  698,  701,  705,\n",
       "        714,  720,  725,  727,  728,  731,  732,  734,  736,  737,  746,\n",
       "        753,  758,  760,  763,  764,  765,  773,  779,  780,  781,  789,\n",
       "        799,  801,  806,  812,  816,  819,  829,  830,  834,  847,  849,\n",
       "        856,  859,  862,  872,  875,  878,  885,  888,  891,  892,  899,\n",
       "        905,  906,  911,  912,  915,  916,  917,  922,  924,  926,  930,\n",
       "        931,  936,  950,  956,  961,  964,  972,  974,  976,  978,  979,\n",
       "        981,  986,  987,  989,  990, 1005, 1006, 1013, 1015, 1017, 1021,\n",
       "       1023, 1024, 1030, 1031, 1035, 1037, 1046, 1048, 1053, 1054, 1056,\n",
       "       1067, 1080, 1082, 1086, 1088, 1089, 1093, 1102, 1104, 1107, 1111,\n",
       "       1116, 1126, 1128, 1131, 1140, 1144, 1148, 1150, 1151, 1157, 1161,\n",
       "       1162, 1163, 1168, 1172, 1178, 1186, 1189, 1195, 1197, 1199, 1204,\n",
       "       1206, 1207, 1213, 1221, 1227, 1228, 1229, 1231, 1232, 1233, 1237,\n",
       "       1243, 1245, 1248, 1249, 1253, 1254, 1259, 1260, 1262, 1269, 1278,\n",
       "       1281, 1285, 1290, 1291, 1292, 1294, 1299, 1300, 1319, 1324, 1325,\n",
       "       1333, 1334, 1343, 1344, 1345, 1346, 1349, 1350, 1355, 1369, 1370,\n",
       "       1373, 1374, 1375, 1381, 1388, 1390, 1393, 1399, 1401, 1404, 1406,\n",
       "       1418, 1427, 1439, 1455, 1457, 1458, 1460, 1463, 1471, 1478, 1480,\n",
       "       1486, 1487, 1488, 1496, 1500, 1505, 1511, 1516, 1527, 1536, 1539,\n",
       "       1546, 1547, 1552, 1556, 1566, 1573, 1576, 1580, 1581, 1582, 1591,\n",
       "       1594, 1595, 1598, 1599, 1603, 1611, 1615, 1633, 1637, 1657, 1663,\n",
       "       1666, 1677, 1682, 1686, 1694, 1709, 1710, 1711, 1720, 1722, 1723,\n",
       "       1729, 1731, 1734, 1735, 1737, 1740, 1741, 1758, 1765, 1774, 1777,\n",
       "       1779, 1780, 1785, 1796, 1797, 1804, 1811, 1814, 1824, 1826, 1831,\n",
       "       1834, 1839, 1840, 1842, 1843, 1845, 1855, 1859, 1861, 1873, 1883,\n",
       "       1886, 1892, 1894, 1897, 1901, 1904, 1909, 1912, 1922, 1931, 1933,\n",
       "       1934, 1937, 1938, 1944, 1952, 1956, 1957, 1969, 1970, 1977, 1979,\n",
       "       1982, 1984, 1987, 1993, 1999, 2005, 2007, 2027, 2032, 2041, 2045,\n",
       "       2047, 2054, 2056, 2061, 2065, 2067, 2068, 2069, 2070, 2073, 2077,\n",
       "       2081, 2082, 2095, 2097, 2133, 2134, 2140, 2143, 2146, 2156, 2166,\n",
       "       2172, 2173, 2177, 2181, 2182, 2183, 2188, 2190, 2191, 2200, 2204,\n",
       "       2206, 2207, 2214, 2223, 2241, 2242, 2245, 2246, 2251, 2252, 2253,\n",
       "       2259, 2261, 2264, 2265, 2267, 2284, 2289, 2291, 2300, 2317, 2318,\n",
       "       2322, 2341, 2343, 2348, 2354, 2356, 2357, 2360, 2361, 2372, 2389,\n",
       "       2390, 2404, 2406, 2411, 2412, 2413, 2418, 2428, 2445, 2448, 2452,\n",
       "       2453, 2462, 2472, 2480, 2486, 2491, 2495, 2517, 2522, 2523, 2524,\n",
       "       2529, 2543, 2545, 2550, 2555, 2556, 2557, 2560, 2564, 2569, 2572,\n",
       "       2576, 2578, 2586, 2594, 2595, 2599, 2602, 2604, 2608, 2611, 2615,\n",
       "       2617, 2621, 2624, 2627, 2629, 2631, 2642, 2648, 2649, 2656, 2663,\n",
       "       2667, 2668, 2671, 2673, 2685, 2686, 2688, 2689, 2697, 2706, 2716,\n",
       "       2727, 2728, 2732, 2733, 2736, 2737, 2738, 2750, 2751, 2759, 2762,\n",
       "       2763, 2766, 2773, 2777, 2784, 2785, 2786, 2788, 2803, 2812, 2825,\n",
       "       2835, 2842, 2844, 2845, 2872, 2877, 2882, 2885, 2893, 2900, 2906,\n",
       "       2909, 2913, 2919, 2921, 2922, 2928, 2932, 2940, 2950, 2951, 2952,\n",
       "       2955, 2959, 2968, 2971, 2972, 2983, 2984, 2987, 2997, 2998, 3000,\n",
       "       3001, 3004, 3005, 3006, 3007, 3012, 3025, 3029, 3036, 3039, 3040,\n",
       "       3060, 3066, 3071, 3074, 3076, 3092, 3094, 3096, 3099, 3104, 3110,\n",
       "       3112, 3128, 3135, 3142, 3144, 3149, 3154, 3157, 3158, 3159, 3181,\n",
       "       3186, 3190, 3196, 3198, 3202, 3206, 3213, 3214, 3217, 3219, 3225,\n",
       "       3230, 3233, 3236, 3238, 3244, 3245, 3250, 3255, 3256, 3266, 3270,\n",
       "       3278, 3287, 3291, 3292, 3293, 3295, 3299, 3300, 3302, 3314, 3318,\n",
       "       3319, 3321, 3323, 3326, 3329, 3338, 3344, 3352, 3362, 3369, 3371,\n",
       "       3373, 3381, 3383, 3386, 3388, 3392, 3396, 3398, 3400, 3413, 3422,\n",
       "       3423, 3430, 3431, 3441, 3448, 3459, 3460, 3463, 3475, 3487, 3490,\n",
       "       3499, 3513, 3516, 3519, 3528, 3532, 3541, 3548, 3551, 3564, 3571,\n",
       "       3576, 3578, 3583, 3584, 3589, 3599, 3600, 3602, 3604, 3608, 3611,\n",
       "       3613, 3622, 3643, 3652, 3655, 3670, 3684, 3688, 3689, 3693, 3702,\n",
       "       3705, 3710, 3731, 3733, 3734, 3739, 3742, 3751, 3757, 3760, 3769,\n",
       "       3771, 3774, 3777, 3778, 3786, 3790, 3791, 3794, 3800, 3807, 3810,\n",
       "       3812, 3817, 3821, 3825, 3828, 3830, 3835, 3836, 3844, 3863, 3866,\n",
       "       3868, 3869, 3878, 3879, 3883, 3897, 3908, 3923, 3934, 3935, 3944,\n",
       "       3948, 3955, 3956, 3957, 3971, 3972, 3979, 3981, 3989, 3997, 4010,\n",
       "       4015, 4020, 4025, 4027, 4028, 4031, 4036, 4038, 4047, 4051, 4073,\n",
       "       4085, 4092, 4115, 4119, 4124, 4125, 4129, 4132, 4133, 4134, 4141,\n",
       "       4143, 4144, 4145, 4146, 4150, 4171, 4172, 4180, 4195, 4200, 4206,\n",
       "       4207, 4208, 4212, 4227, 4232, 4252, 4255, 4259, 4262, 4271, 4276,\n",
       "       4278, 4279, 4282, 4294, 4302, 4304, 4307, 4308, 4309, 4315, 4336,\n",
       "       4342, 4350, 4355, 4360, 4361, 4371, 4372, 4379, 4383, 4385, 4390,\n",
       "       4392, 4394, 4399, 4402, 4407, 4411, 4416, 4421, 4425, 4429, 4435,\n",
       "       4441, 4443, 4444, 4461, 4466, 4467, 4490, 4497, 4500, 4504, 4505,\n",
       "       4506, 4511, 4525, 4527, 4528, 4530, 4540, 4548, 4550, 4557, 4561,\n",
       "       4562, 4563, 4564, 4567, 4569, 4575, 4576, 4590, 4591, 4603, 4607,\n",
       "       4615, 4619, 4623, 4624, 4633, 4635, 4640, 4643, 4645, 4647, 4648,\n",
       "       4651, 4681, 4685, 4691, 4693, 4695, 4702, 4715, 4716, 4719, 4720,\n",
       "       4721, 4724, 4725, 4728, 4729, 4731, 4739, 4741, 4750, 4757, 4770,\n",
       "       4771, 4772, 4778, 4779, 4788, 4790, 4795, 4797, 4798, 4803, 4805,\n",
       "       4812, 4813, 4814, 4816, 4817, 4819, 4820, 4835, 4851, 4852, 4865,\n",
       "       4870, 4873, 4874, 4875, 4876, 4879, 4880, 4882, 4887, 4888, 4892,\n",
       "       4895, 4903, 4904, 4906, 4914, 4916, 4919, 4924, 4931, 4933, 4951,\n",
       "       4952, 4954, 4956, 4957, 4962, 4966, 4971, 4986, 4992, 4993])"
      ]
     },
     "execution_count": 10,
     "metadata": {},
     "output_type": "execute_result"
    }
   ],
   "source": [
    "indices_poison.sort()\n",
    "indices_poison"
   ]
  },
  {
   "cell_type": "markdown",
   "id": "e90d3224",
   "metadata": {},
   "source": [
    "# Train Victim Model with poisoned images"
   ]
  },
  {
   "cell_type": "code",
   "execution_count": 11,
   "id": "3ddb074d",
   "metadata": {},
   "outputs": [
    {
     "name": "stdout",
     "output_type": "stream",
     "text": [
      "Accuracy on benign test examples: 70.41%\n"
     ]
    }
   ],
   "source": [
    "loss_fn = nn.CrossEntropyLoss()\n",
    "model = torchvision.models.ResNet(torchvision.models.resnet.BasicBlock, [2, 2, 2, 2], num_classes=num_classes)\n",
    "optimizer = torch.optim.SGD(model.parameters(), lr=0.1, momentum=0.9, weight_decay=5e-4, nesterov=True)\n",
    "model_poisoned = PyTorchClassifier(model,input_shape=x_train.shape[1:], loss=loss_fn, \n",
    "                                   optimizer=optimizer, nb_classes=10, clip_values=(min_, max_), \n",
    "                                   preprocessing=(mean,std))\n",
    "model_poisoned.fit(x_poison, y_poison, batch_size=128, nb_epochs=150,verbose=0)\n",
    "predictions = model_poisoned.predict(x_test)\n",
    "accuracy = np.sum(np.argmax(predictions, axis=1) == np.argmax(y_test, axis=1)) / len(y_test)\n",
    "print(\"Accuracy on benign test examples: {}%\".format(accuracy * 100))"
   ]
  },
  {
   "cell_type": "code",
   "execution_count": 17,
   "id": "f65330f3",
   "metadata": {},
   "outputs": [
    {
     "data": {
      "text/plain": [
       "0.0"
      ]
     },
     "execution_count": 17,
     "metadata": {},
     "output_type": "execute_result"
    }
   ],
   "source": [
    "np.min(x_train)"
   ]
  },
  {
   "cell_type": "markdown",
   "id": "cf7b803c",
   "metadata": {},
   "source": [
    "# Visualize Trigger, Original and Poisoned Images "
   ]
  },
  {
   "cell_type": "code",
   "execution_count": 18,
   "id": "58e51496",
   "metadata": {},
   "outputs": [
    {
     "data": {
      "image/png": "[encoded data removed]",
      "text/plain": [
       "<Figure size 432x288 with 1 Axes>"
      ]
     },
     "metadata": {
      "needs_background": "light"
     },
     "output_type": "display_data"
    },
    {
     "data": {
      "image/png": "[encoded data removed]",
      "text/plain": [
       "<Figure size 432x288 with 1 Axes>"
      ]
     },
     "metadata": {
      "needs_background": "light"
     },
     "output_type": "display_data"
    },
    {
     "data": {
      "image/png": "[encoded data removed]",
      "text/plain": [
       "<Figure size 432x288 with 1 Axes>"
      ]
     },
     "metadata": {
      "needs_background": "light"
     },
     "output_type": "display_data"
    }
   ],
   "source": [
    "import matplotlib.pyplot as plt\n",
    "plt.imshow(np.transpose(x_trigger[5],(1,2,0)))\n",
    "plt.title('Trigger image')\n",
    "plt.show()\n",
    "\n",
    "index_poisoned_example = np.where([np.any(p!=o) for (p,o) in zip(x_poison,x_train)])[0]\n",
    "plt.imshow(np.transpose(x_train_orig[index_target[indices_poison][5]],(1,2,0)))\n",
    "plt.title('Original image')\n",
    "plt.show()\n",
    "\n",
    "plt.imshow(np.transpose(x_poison[index_target[indices_poison][5]],(1,2,0)))\n",
    "plt.title('Poisoned image')\n",
    "plt.show()"
   ]
  },
  {
   "cell_type": "markdown",
   "id": "6515b3be",
   "metadata": {},
   "source": [
    "# Calculate Success Rate on x_train and x_test"
   ]
  },
  {
   "cell_type": "code",
   "execution_count": 19,
   "id": "e7f5d3be",
   "metadata": {},
   "outputs": [],
   "source": [
    "def add_trigger_patch(x_set,patch_type=\"fixed\"):\n",
    "    print(x_set.shape)\n",
    "    img = Image.open('trigger_10.png')\n",
    "    numpydata = asarray(img)\n",
    "    print(\"shape of numpydata\",numpydata.shape)\n",
    "    patch = resize(numpydata, (patch_size,patch_size,3))\n",
    "    patch = np.transpose(patch,(2,0,1))\n",
    "    print(\"shape of patch\",patch.shape)\n",
    "    if patch_type == \"fixed\":\n",
    "        x_set[:,:,-patch_size:,-patch_size:] = patch\n",
    "    else:\n",
    "        for x in x_set:\n",
    "            x_cord = random.randrange(0,x.shape[1] - patch.shape[1] + 1)\n",
    "            y_cord = random.randrange(0,x.shape[2] - patch.shape[2] + 1)\n",
    "            x[:,x_cord:x_cord+patch_size,y_cord:y_cord+patch_size]=patch\n",
    "\n",
    "    return x_set"
   ]
  },
  {
   "cell_type": "markdown",
   "id": "0101de38",
   "metadata": {},
   "source": [
    "# Calculate on train images"
   ]
  },
  {
   "cell_type": "code",
   "execution_count": 21,
   "id": "b0b65520",
   "metadata": {},
   "outputs": [
    {
     "name": "stdout",
     "output_type": "stream",
     "text": [
      "(5000, 3, 32, 32)\n",
      "shape of numpydata (80, 80, 3)\n",
      "shape of patch (3, 8, 8)\n",
      "5000\n",
      "Train Success Rate 0.3074\n"
     ]
    },
    {
     "data": {
      "image/png": "[encoded data removed]",
      "text/plain": [
       "<Figure size 432x288 with 1 Axes>"
      ]
     },
     "metadata": {
      "needs_background": "light"
     },
     "output_type": "display_data"
    }
   ],
   "source": [
    "index_source_train = np.where(y_train.argmax(axis=1)==class_source)[0]\n",
    "x_train_trigger = x_train_orig[index_source_train]\n",
    "x_train_trigger = add_trigger_patch(x_train_trigger,\"random\")\n",
    "result_poisoned_train = model_poisoned.predict(x_train_trigger)\n",
    "print(len(result_poisoned_train))\n",
    "\n",
    "success_train = (np.argmax(result_poisoned_train,axis=1)==1).sum()/result_poisoned_train.shape[0]\n",
    "print(\"Train Success Rate\",success_train)\n",
    "plt.imshow(np.transpose(x_train_trigger[1],(1,2,0)))\n",
    "plt.title('Trigger image')\n",
    "plt.show()"
   ]
  },
  {
   "cell_type": "markdown",
   "id": "955b4e7b",
   "metadata": {},
   "source": [
    "# Calculate Success Rate on Test "
   ]
  },
  {
   "cell_type": "code",
   "execution_count": 22,
   "id": "f725cdeb",
   "metadata": {},
   "outputs": [
    {
     "name": "stdout",
     "output_type": "stream",
     "text": [
      "(1000, 3, 32, 32)\n",
      "shape of numpydata (80, 80, 3)\n",
      "shape of patch (3, 8, 8)\n",
      "1000\n",
      "Test Success Rate: 0.313\n"
     ]
    },
    {
     "data": {
      "image/png": "[encoded data removed]",
      "text/plain": [
       "<Figure size 432x288 with 1 Axes>"
      ]
     },
     "metadata": {
      "needs_background": "light"
     },
     "output_type": "display_data"
    }
   ],
   "source": [
    "index_source_test = np.where(y_test.argmax(axis=1)==class_source)[0]\n",
    "x_test_trigger = x_test[index_source_test]\n",
    "x_test_trigger = add_trigger_patch(x_test_trigger,\"random\")\n",
    "result_poisoned_test = model_poisoned.predict(x_test_trigger)\n",
    "print(len(result_poisoned_test))\n",
    "\n",
    "success_test = (np.argmax(result_poisoned_test,axis=1)==1).sum()/result_poisoned_test.shape[0]\n",
    "print(\"Test Success Rate:\",success_test)\n",
    "\n",
    "plt.imshow(np.transpose(x_test_trigger[0],(1,2,0)))\n",
    "plt.title('Trigger image')\n",
    "plt.show()"
   ]
  }
 ],
 "metadata": {
  "kernelspec": {
   "display_name": "Python 3 (ipykernel)",
   "language": "python",
   "name": "python3"
  },
  "language_info": {
   "codemirror_mode": {
    "name": "ipython",
    "version": 3
   },
   "file_extension": ".py",
   "mimetype": "text/x-python",
   "name": "python",
   "nbconvert_exporter": "python",
   "pygments_lexer": "ipython3",
   "version": "3.8.12"
  },
  "vscode": {
   "interpreter": {
    "hash": "4ac3521ab0019a06e3dcc09888d33dc489f9be1674edd39862beb2263a1f08c5"
   }
  }
 },
 "nbformat": 4,
 "nbformat_minor": 5
}
