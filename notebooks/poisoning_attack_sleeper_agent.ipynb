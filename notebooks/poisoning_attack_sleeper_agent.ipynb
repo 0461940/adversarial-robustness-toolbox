{
 "cells": [
  {
   "cell_type": "markdown",
   "id": "21654757",
   "metadata": {},
   "source": [
    "# Import packages and path"
   ]
  },
  {
   "cell_type": "code",
   "execution_count": 1,
   "id": "ee35e7a1",
   "metadata": {},
   "outputs": [],
   "source": [
    "import os, sys\n",
    "\n",
    "module_path = os.path.abspath(os.path.join('..'))\n",
    "if module_path not in sys.path:\n",
    "    sys.path.append(module_path)\n",
    "module_path = os.path.abspath(os.path.join('.'))\n",
    "if module_path not in sys.path:\n",
    "    sys.path.append(module_path)"
   ]
  },
  {
   "cell_type": "markdown",
   "id": "46009e26",
   "metadata": {},
   "source": [
    "# Load data and Model Architecture"
   ]
  },
  {
   "cell_type": "code",
   "execution_count": 2,
   "id": "07a5f2a9",
   "metadata": {},
   "outputs": [
    {
     "name": "stderr",
     "output_type": "stream",
     "text": [
      "2022-09-20 10:52:32.494645: I tensorflow/stream_executor/platform/default/dso_loader.cc:49] Successfully opened dynamic library libcudart.so.10.1\n",
      "2022-09-20 10:52:38.695758: I tensorflow/compiler/jit/xla_cpu_device.cc:41] Not creating XLA devices, tf_xla_enable_xla_devices not set\n",
      "2022-09-20 10:52:38.697058: I tensorflow/stream_executor/platform/default/dso_loader.cc:49] Successfully opened dynamic library libcuda.so.1\n",
      "2022-09-20 10:52:38.717403: I tensorflow/core/common_runtime/gpu/gpu_device.cc:1720] Found device 0 with properties: \n",
      "pciBusID: 0000:af:00.0 name: Tesla V100-PCIE-32GB computeCapability: 7.0\n",
      "coreClock: 1.38GHz coreCount: 80 deviceMemorySize: 31.75GiB deviceMemoryBandwidth: 836.37GiB/s\n",
      "2022-09-20 10:52:38.718072: I tensorflow/core/common_runtime/gpu/gpu_device.cc:1720] Found device 1 with properties: \n",
      "pciBusID: 0000:d8:00.0 name: Tesla V100-PCIE-32GB computeCapability: 7.0\n",
      "coreClock: 1.38GHz coreCount: 80 deviceMemorySize: 31.75GiB deviceMemoryBandwidth: 836.37GiB/s\n",
      "2022-09-20 10:52:38.718099: I tensorflow/stream_executor/platform/default/dso_loader.cc:49] Successfully opened dynamic library libcudart.so.10.1\n",
      "2022-09-20 10:52:38.720410: I tensorflow/stream_executor/platform/default/dso_loader.cc:49] Successfully opened dynamic library libcublas.so.10\n",
      "2022-09-20 10:52:38.720472: I tensorflow/stream_executor/platform/default/dso_loader.cc:49] Successfully opened dynamic library libcublasLt.so.10\n",
      "2022-09-20 10:52:38.722863: I tensorflow/stream_executor/platform/default/dso_loader.cc:49] Successfully opened dynamic library libcufft.so.10\n",
      "2022-09-20 10:52:38.723214: I tensorflow/stream_executor/platform/default/dso_loader.cc:49] Successfully opened dynamic library libcurand.so.10\n",
      "2022-09-20 10:52:38.725746: I tensorflow/stream_executor/platform/default/dso_loader.cc:49] Successfully opened dynamic library libcusolver.so.10\n",
      "2022-09-20 10:52:38.726993: I tensorflow/stream_executor/platform/default/dso_loader.cc:49] Successfully opened dynamic library libcusparse.so.10\n",
      "2022-09-20 10:52:38.732148: I tensorflow/stream_executor/platform/default/dso_loader.cc:49] Successfully opened dynamic library libcudnn.so.7\n",
      "2022-09-20 10:52:38.735163: I tensorflow/core/common_runtime/gpu/gpu_device.cc:1862] Adding visible gpu devices: 0, 1\n",
      "2022-09-20 10:52:38.735762: I tensorflow/core/platform/cpu_feature_guard.cc:142] This TensorFlow binary is optimized with oneAPI Deep Neural Network Library (oneDNN) to use the following CPU instructions in performance-critical operations:  SSE4.1 SSE4.2 AVX AVX2 AVX512F FMA\n",
      "To enable them in other operations, rebuild TensorFlow with the appropriate compiler flags.\n",
      "2022-09-20 10:52:39.340655: I tensorflow/core/common_runtime/gpu/gpu_device.cc:1720] Found device 0 with properties: \n",
      "pciBusID: 0000:af:00.0 name: Tesla V100-PCIE-32GB computeCapability: 7.0\n",
      "coreClock: 1.38GHz coreCount: 80 deviceMemorySize: 31.75GiB deviceMemoryBandwidth: 836.37GiB/s\n",
      "2022-09-20 10:52:39.341369: I tensorflow/core/common_runtime/gpu/gpu_device.cc:1720] Found device 1 with properties: \n",
      "pciBusID: 0000:d8:00.0 name: Tesla V100-PCIE-32GB computeCapability: 7.0\n",
      "coreClock: 1.38GHz coreCount: 80 deviceMemorySize: 31.75GiB deviceMemoryBandwidth: 836.37GiB/s\n",
      "2022-09-20 10:52:39.341409: I tensorflow/stream_executor/platform/default/dso_loader.cc:49] Successfully opened dynamic library libcudart.so.10.1\n",
      "2022-09-20 10:52:39.341449: I tensorflow/stream_executor/platform/default/dso_loader.cc:49] Successfully opened dynamic library libcublas.so.10\n",
      "2022-09-20 10:52:39.341466: I tensorflow/stream_executor/platform/default/dso_loader.cc:49] Successfully opened dynamic library libcublasLt.so.10\n",
      "2022-09-20 10:52:39.341482: I tensorflow/stream_executor/platform/default/dso_loader.cc:49] Successfully opened dynamic library libcufft.so.10\n",
      "2022-09-20 10:52:39.341497: I tensorflow/stream_executor/platform/default/dso_loader.cc:49] Successfully opened dynamic library libcurand.so.10\n",
      "2022-09-20 10:52:39.341513: I tensorflow/stream_executor/platform/default/dso_loader.cc:49] Successfully opened dynamic library libcusolver.so.10\n",
      "2022-09-20 10:52:39.341529: I tensorflow/stream_executor/platform/default/dso_loader.cc:49] Successfully opened dynamic library libcusparse.so.10\n",
      "2022-09-20 10:52:39.341545: I tensorflow/stream_executor/platform/default/dso_loader.cc:49] Successfully opened dynamic library libcudnn.so.7\n",
      "2022-09-20 10:52:39.344448: I tensorflow/core/common_runtime/gpu/gpu_device.cc:1862] Adding visible gpu devices: 0, 1\n",
      "2022-09-20 10:52:39.344494: I tensorflow/stream_executor/platform/default/dso_loader.cc:49] Successfully opened dynamic library libcudart.so.10.1\n",
      "2022-09-20 10:52:43.779701: I tensorflow/core/common_runtime/gpu/gpu_device.cc:1261] Device interconnect StreamExecutor with strength 1 edge matrix:\n",
      "2022-09-20 10:52:43.779763: I tensorflow/core/common_runtime/gpu/gpu_device.cc:1267]      0 1 \n",
      "2022-09-20 10:52:43.779784: I tensorflow/core/common_runtime/gpu/gpu_device.cc:1280] 0:   N Y \n",
      "2022-09-20 10:52:43.779791: I tensorflow/core/common_runtime/gpu/gpu_device.cc:1280] 1:   Y N \n",
      "2022-09-20 10:52:43.784597: I tensorflow/core/common_runtime/gpu/gpu_device.cc:1406] Created TensorFlow device (/job:localhost/replica:0/task:0/device:GPU:0 with 20256 MB memory) -> physical GPU (device: 0, name: Tesla V100-PCIE-32GB, pci bus id: 0000:af:00.0, compute capability: 7.0)\n",
      "2022-09-20 10:52:43.786290: I tensorflow/core/common_runtime/gpu/gpu_device.cc:1406] Created TensorFlow device (/job:localhost/replica:0/task:0/device:GPU:1 with 10401 MB memory) -> physical GPU (device: 1, name: Tesla V100-PCIE-32GB, pci bus id: 0000:d8:00.0, compute capability: 7.0)\n",
      "2022-09-20 10:52:43.786581: I tensorflow/compiler/jit/xla_gpu_device.cc:99] Not creating XLA devices, tf_xla_enable_xla_devices not set\n"
     ]
    }
   ],
   "source": [
    "import tensorflow as tf\n",
    "from art.estimators.classification import TensorFlowV2Classifier\n",
    "from art.utils import load_cifar10\n",
    "import numpy as np\n",
    "\n",
    "from art.utils import load_dataset\n",
    "import numpy as np\n",
    "(x_train, y_train), (x_test, y_test), min_, max_ = load_dataset('cifar10')\n",
    "\n",
    "mean = np.mean(x_train,axis=(0,1,2,3))\n",
    "std = np.std(x_train,axis=(0,1,2,3))\n",
    "x_train = x_train.astype(np.float32)\n",
    "x_test = x_test.astype(np.float32)\n",
    "\n",
    "import numpy as np\n",
    "import tensorflow as tf\n",
    "\n",
    "from tensorflow.keras import layers, models, losses\n",
    "\n",
    "model = models.Sequential()\n",
    "\n",
    "# Source here: https://github.com/keras-team/keras/blob/master/examples/cifar10_cnn.py\n",
    "model.add(layers.Conv2D(32, (3, 3), padding=\"same\", activation='relu', input_shape=x_train.shape[1:]))\n",
    "model.add(layers.Conv2D(32, (3, 3), activation='relu'))\n",
    "model.add(layers.MaxPooling2D(pool_size=(2, 2)))\n",
    "model.add(layers.Dropout(0.25))\n",
    "\n",
    "model.add(layers.Conv2D(64, (3, 3), padding=\"same\", activation='relu'))\n",
    "model.add(layers.Conv2D(64, (3, 3), activation='relu'))\n",
    "model.add(layers.MaxPooling2D(pool_size=(2, 2)))\n",
    "model.add(layers.Dropout(0.25))\n",
    "\n",
    "model.add(layers.Flatten())\n",
    "model.add(layers.Dense(512, activation='relu'))\n",
    "model.add(layers.Dropout(0.5))\n",
    "model.add(layers.Dense(10))\n",
    "\n",
    "# optimizer = tf.keras.optimizers.Adam(learning_rate=0.001)\n",
    "optimizer = tf.keras.optimizers.SGD(learning_rate=0.01, momentum=0.9, nesterov=True)\n",
    "model.compile(loss='categorical_crossentropy', optimizer=optimizer, metrics=['accuracy'])\n",
    "\n",
    "loss_object = losses.CategoricalCrossentropy(from_logits=True)\n",
    "def train_step(model, images, labels):\n",
    "    with tf.GradientTape() as tape:\n",
    "        predictions = model(images, training=True)\n",
    "        loss = loss_object(labels, predictions)\n",
    "    gradients = tape.gradient(loss, model.trainable_variables)\n",
    "    model.optimizer.apply_gradients(zip(gradients, model.trainable_variables))\n"
   ]
  },
  {
   "cell_type": "code",
   "execution_count": 3,
   "id": "bef9586e",
   "metadata": {},
   "outputs": [],
   "source": [
    "# model = tf.keras.models.load_model('save_model.h5')"
   ]
  },
  {
   "cell_type": "markdown",
   "id": "a0e5e789",
   "metadata": {},
   "source": [
    "# Train Substitute Model"
   ]
  },
  {
   "cell_type": "code",
   "execution_count": 4,
   "id": "4ae51156",
   "metadata": {},
   "outputs": [],
   "source": [
    "from art.estimators.classification import TensorFlowV2Classifier\n",
    "\n",
    "classifier = TensorFlowV2Classifier(\n",
    "    model=model,\n",
    "    loss_object=loss_object,\n",
    "    train_step=train_step,\n",
    "    nb_classes=10,\n",
    "    input_shape=(32, 32, 3),\n",
    "    clip_values=(min_, max_),\n",
    "    preprocessing=(mean,std)\n",
    ")"
   ]
  },
  {
   "cell_type": "code",
   "execution_count": 5,
   "id": "eb5daf19",
   "metadata": {},
   "outputs": [
    {
     "name": "stdout",
     "output_type": "stream",
     "text": [
      "0.0 1.0\n",
      "0.0 1.0\n"
     ]
    }
   ],
   "source": [
    "print(np.min(x_test),np.max(x_test))\n",
    "print(np.min(x_train),np.max(x_train))"
   ]
  },
  {
   "cell_type": "code",
   "execution_count": 6,
   "id": "2452f1d4",
   "metadata": {},
   "outputs": [
    {
     "name": "stderr",
     "output_type": "stream",
     "text": [
      "2022-09-20 10:52:47.680886: I tensorflow/stream_executor/platform/default/dso_loader.cc:49] Successfully opened dynamic library libcudnn.so.7\n",
      "2022-09-20 10:52:49.178706: W tensorflow/stream_executor/gpu/asm_compiler.cc:63] Running ptxas --version returned 256\n",
      "2022-09-20 10:52:49.364297: W tensorflow/stream_executor/gpu/redzone_allocator.cc:314] Internal: ptxas exited with non-zero error code 256, output: \n",
      "Relying on driver to perform ptx compilation. \n",
      "Modify $PATH to customize ptxas location.\n",
      "This message will be only logged once.\n",
      "2022-09-20 10:52:51.527049: I tensorflow/stream_executor/platform/default/dso_loader.cc:49] Successfully opened dynamic library libcublas.so.10\n"
     ]
    },
    {
     "name": "stdout",
     "output_type": "stream",
     "text": [
      "Accuracy on benign test examples: 81.55%\n"
     ]
    }
   ],
   "source": [
    "classifier.fit(x_train, y_train, nb_epochs=40, batch_size=128)\n",
    "predictions = classifier.predict(x_test)\n",
    "accuracy = np.sum(np.argmax(predictions, axis=1) == np.argmax(y_test, axis=1)) / len(y_test)\n",
    "print(\"Accuracy on benign test examples: {}%\".format(accuracy * 100))"
   ]
  },
  {
   "cell_type": "code",
   "execution_count": 7,
   "id": "591b9578",
   "metadata": {},
   "outputs": [],
   "source": [
    "classifier.model.save(\"new.h5\")"
   ]
  },
  {
   "cell_type": "code",
   "execution_count": 8,
   "id": "df48eff6",
   "metadata": {},
   "outputs": [],
   "source": [
    "from PIL import Image\n",
    "from numpy import asarray\n",
    "from skimage.transform import resize\n",
    "\n",
    "patch_size = 8\n",
    "img = Image.open('trigger_10.png')\n",
    "numpydata = asarray(img)\n",
    "patch = resize(numpydata, (patch_size,patch_size,3))\n",
    "x_train_orig = np.copy(x_train)"
   ]
  },
  {
   "cell_type": "code",
   "execution_count": 9,
   "id": "9a831040",
   "metadata": {},
   "outputs": [],
   "source": [
    "class_source = 0\n",
    "class_target = 1\n",
    "K = 1000"
   ]
  },
  {
   "cell_type": "markdown",
   "id": "9e0987f5",
   "metadata": {},
   "source": [
    "# Select Triggers for attack"
   ]
  },
  {
   "cell_type": "code",
   "execution_count": 10,
   "id": "ab86ce4b",
   "metadata": {},
   "outputs": [],
   "source": [
    "from art.utils import to_categorical\n",
    "\n",
    "def select_trigger_train(x_train,y_train,K,class_source,class_target):\n",
    "    x_train_ = np.copy(x_train)\n",
    "    index_source = np.where(y_train.argmax(axis=1)==class_source)[0][0:K]\n",
    "    index_target = np.where(y_train.argmax(axis=1)==class_target)[0]\n",
    "    x_trigger = x_train_[index_source]\n",
    "    y_trigger  = to_categorical([class_target], nb_classes=10)\n",
    "    y_trigger = np.tile(y_trigger,(len(index_source),1))\n",
    "    return x_trigger,y_trigger,index_target"
   ]
  },
  {
   "cell_type": "code",
   "execution_count": 11,
   "id": "395ab11a",
   "metadata": {},
   "outputs": [],
   "source": [
    "x_trigger,y_trigger,index_target = select_trigger_train(x_train,y_train,K,class_source,class_target)"
   ]
  },
  {
   "cell_type": "markdown",
   "id": "d6e7dd0a",
   "metadata": {},
   "source": [
    "# Attack and Generate Poison Images"
   ]
  },
  {
   "cell_type": "code",
   "execution_count": 12,
   "id": "57d366c1",
   "metadata": {},
   "outputs": [
    {
     "data": {
      "application/vnd.jupyter.widget-view+json": {
       "model_id": "54bc76a0a4444c09965a31611dd5a97b",
       "version_major": 2,
       "version_minor": 0
      },
      "text/plain": [
       "  0%|          | 0/1 [00:00<?, ?it/s]"
      ]
     },
     "metadata": {},
     "output_type": "display_data"
    },
    {
     "name": "stdout",
     "output_type": "stream",
     "text": [
      "WARNING:tensorflow:\n",
      "The following Variables were used a Lambda layer's call (lambda_1), but\n",
      "are not present in its tracked objects:\n",
      "  <tf.Variable 'conv2d/kernel:0' shape=(3, 3, 3, 32) dtype=float32>\n",
      "  <tf.Variable 'conv2d/bias:0' shape=(32,) dtype=float32>\n",
      "  <tf.Variable 'conv2d_1/kernel:0' shape=(3, 3, 32, 32) dtype=float32>\n",
      "  <tf.Variable 'conv2d_1/bias:0' shape=(32,) dtype=float32>\n",
      "  <tf.Variable 'conv2d_2/kernel:0' shape=(3, 3, 32, 64) dtype=float32>\n",
      "  <tf.Variable 'conv2d_2/bias:0' shape=(64,) dtype=float32>\n",
      "  <tf.Variable 'conv2d_3/kernel:0' shape=(3, 3, 64, 64) dtype=float32>\n",
      "  <tf.Variable 'conv2d_3/bias:0' shape=(64,) dtype=float32>\n",
      "  <tf.Variable 'dense/kernel:0' shape=(2304, 512) dtype=float32>\n",
      "  <tf.Variable 'dense/bias:0' shape=(512,) dtype=float32>\n",
      "  <tf.Variable 'dense_1/kernel:0' shape=(512, 10) dtype=float32>\n",
      "  <tf.Variable 'dense_1/bias:0' shape=(10,) dtype=float32>\n",
      "It is possible that this is intended behavior, but it is more likely\n",
      "an omission. This is a strong indication that this layer should be\n",
      "formulated as a subclassed Layer rather than a Lambda layer.\n"
     ]
    },
    {
     "data": {
      "application/vnd.jupyter.widget-view+json": {
       "model_id": "4f57e1f77a254208ae8dbd207b2f55da",
       "version_major": 2,
       "version_minor": 0
      },
      "text/plain": [
       "0epoch [00:00, ?epoch/s]"
      ]
     },
     "metadata": {},
     "output_type": "display_data"
    },
    {
     "name": "stderr",
     "output_type": "stream",
     "text": [
      "2022-09-20 10:58:56.405259: I tensorflow/compiler/mlir/mlir_graph_optimization_pass.cc:116] None of the MLIR optimization passes are enabled (registered 2)\n",
      "2022-09-20 10:58:56.405920: I tensorflow/core/platform/profile_utils/cpu_utils.cc:112] CPU Frequency: 2200000000 Hz\n"
     ]
    },
    {
     "data": {
      "application/vnd.jupyter.widget-view+json": {
       "model_id": "0b51fbac5fd6494a96ea68780b0c5a9b",
       "version_major": 2,
       "version_minor": 0
      },
      "text/plain": [
       "0epoch [00:00, ?epoch/s]"
      ]
     },
     "metadata": {},
     "output_type": "display_data"
    },
    {
     "data": {
      "application/vnd.jupyter.widget-view+json": {
       "model_id": "dc3f5ac9241e42d18fcd0a2a3d951200",
       "version_major": 2,
       "version_minor": 0
      },
      "text/plain": [
       "0epoch [00:00, ?epoch/s]"
      ]
     },
     "metadata": {},
     "output_type": "display_data"
    },
    {
     "data": {
      "application/vnd.jupyter.widget-view+json": {
       "model_id": "22cf8fa79c1d482ca3c6b7619b366e31",
       "version_major": 2,
       "version_minor": 0
      },
      "text/plain": [
       "0epoch [00:00, ?epoch/s]"
      ]
     },
     "metadata": {},
     "output_type": "display_data"
    }
   ],
   "source": [
    "from art.attacks.poisoning.sleeper_agent_attack import SleeperAgentAttack\n",
    "attack = SleeperAgentAttack(classifier,\n",
    "                                percent_poison=0.2,\n",
    "                                max_trials=1,\n",
    "                                max_epochs=500,\n",
    "                                learning_rate_schedule=(np.array([1e-1, 1e-2, 1e-3, 1e-4, 1e-5]), [250, 350, 400, 430, 460]),\n",
    "                                clip_values=(min_,max_),\n",
    "                                epsilon=16/255,\n",
    "                                batch_size=500,\n",
    "                                verbose=1,\n",
    "                                indices_target=index_target,\n",
    "                                patching_strategy=\"random\",\n",
    "                                selection_strategy=\"max-norm\",\n",
    "                                patch=patch,\n",
    "                                retraining_factor = 4,\n",
    "                                model_retrain = True,\n",
    "                                model_retraining_epoch = 40,\n",
    "                                class_source = class_source,\n",
    "                                class_target = class_target\n",
    "                           )\n",
    "x_poison, y_poison = attack.poison(x_trigger,y_trigger,x_train,y_train,x_test,y_test) \n",
    "indices_poison = attack.get_poison_indices()"
   ]
  },
  {
   "cell_type": "code",
   "execution_count": 13,
   "id": "551670ed",
   "metadata": {},
   "outputs": [],
   "source": [
    "indices_poison.sort()"
   ]
  },
  {
   "cell_type": "code",
   "execution_count": 14,
   "id": "a12c75eb",
   "metadata": {},
   "outputs": [
    {
     "data": {
      "text/plain": [
       "array([  10,   33,   42,   44,   52,   54,   55,   60,   64,   65,   69,\n",
       "         74,   76,   78,   86,   94,   95,   98,   99,  101,  102,  107,\n",
       "        109,  116,  126,  127,  131,  133,  134,  137,  138,  139,  144,\n",
       "        145,  155,  163,  164,  168,  177,  183,  191,  192,  195,  196,\n",
       "        208,  212,  222,  225,  228,  237,  249,  260,  261,  262,  263,\n",
       "        264,  269,  275,  276,  278,  283,  285,  286,  294,  297,  298,\n",
       "        308,  311,  315,  316,  318,  321,  322,  325,  330,  341,  354,\n",
       "        356,  360,  373,  374,  378,  381,  384,  385,  387,  389,  392,\n",
       "        395,  404,  414,  415,  417,  427,  433,  437,  440,  442,  446,\n",
       "        461,  468,  469,  475,  477,  478,  489,  491,  494,  495,  496,\n",
       "        503,  504,  506,  514,  515,  516,  523,  526,  532,  541,  545,\n",
       "        555,  557,  568,  583,  584,  592,  594,  595,  597,  602,  605,\n",
       "        612,  614,  615,  618,  619,  623,  634,  636,  642,  643,  646,\n",
       "        655,  666,  680,  682,  684,  692,  693,  697,  701,  703,  705,\n",
       "        714,  724,  727,  728,  735,  736,  737,  739,  745,  753,  757,\n",
       "        758,  760,  761,  763,  773,  780,  781,  789,  790,  792,  801,\n",
       "        808,  816,  817,  830,  840,  842,  847,  855,  858,  861,  862,\n",
       "        869,  871,  872,  874,  876,  878,  885,  888,  892,  895,  906,\n",
       "        907,  913,  915,  916,  919,  920,  926,  930,  937,  947,  953,\n",
       "        961,  963,  964,  970,  971,  973,  981,  987,  989, 1000, 1005,\n",
       "       1008, 1013, 1023, 1030, 1034, 1042, 1046, 1049, 1050, 1055, 1056,\n",
       "       1058, 1060, 1063, 1067, 1074, 1082, 1084, 1091, 1093, 1100, 1103,\n",
       "       1109, 1111, 1123, 1131, 1140, 1141, 1142, 1144, 1148, 1150, 1153,\n",
       "       1155, 1156, 1161, 1162, 1163, 1166, 1172, 1174, 1178, 1186, 1191,\n",
       "       1193, 1195, 1204, 1210, 1213, 1215, 1219, 1221, 1223, 1227, 1228,\n",
       "       1231, 1232, 1233, 1246, 1248, 1249, 1250, 1254, 1258, 1259, 1260,\n",
       "       1262, 1269, 1277, 1279, 1282, 1285, 1290, 1294, 1295, 1308, 1313,\n",
       "       1314, 1317, 1322, 1325, 1337, 1342, 1343, 1349, 1350, 1355, 1366,\n",
       "       1367, 1370, 1375, 1381, 1390, 1391, 1393, 1401, 1404, 1417, 1418,\n",
       "       1431, 1432, 1445, 1458, 1460, 1464, 1469, 1478, 1480, 1481, 1483,\n",
       "       1488, 1489, 1498, 1499, 1505, 1508, 1510, 1511, 1519, 1524, 1541,\n",
       "       1546, 1548, 1551, 1552, 1555, 1556, 1558, 1561, 1569, 1570, 1572,\n",
       "       1573, 1576, 1579, 1580, 1581, 1582, 1595, 1603, 1605, 1609, 1610,\n",
       "       1612, 1614, 1615, 1616, 1618, 1624, 1625, 1627, 1643, 1646, 1648,\n",
       "       1650, 1652, 1656, 1662, 1674, 1680, 1683, 1684, 1688, 1692, 1694,\n",
       "       1709, 1710, 1711, 1713, 1715, 1716, 1718, 1726, 1731, 1742, 1767,\n",
       "       1777, 1797, 1801, 1805, 1811, 1816, 1820, 1823, 1824, 1828, 1835,\n",
       "       1839, 1845, 1848, 1850, 1860, 1861, 1865, 1871, 1873, 1883, 1894,\n",
       "       1895, 1901, 1909, 1919, 1925, 1933, 1936, 1949, 1956, 1961, 1964,\n",
       "       1968, 1970, 1973, 1974, 1982, 1989, 1991, 1992, 1995, 1999, 2005,\n",
       "       2007, 2027, 2030, 2044, 2045, 2046, 2047, 2052, 2054, 2056, 2058,\n",
       "       2061, 2062, 2071, 2072, 2075, 2077, 2082, 2085, 2097, 2102, 2115,\n",
       "       2122, 2133, 2140, 2143, 2145, 2146, 2156, 2160, 2172, 2177, 2180,\n",
       "       2182, 2188, 2193, 2199, 2208, 2211, 2217, 2223, 2235, 2245, 2246,\n",
       "       2251, 2253, 2258, 2264, 2267, 2271, 2291, 2295, 2297, 2300, 2310,\n",
       "       2314, 2315, 2317, 2328, 2337, 2341, 2348, 2354, 2359, 2360, 2361,\n",
       "       2363, 2376, 2385, 2388, 2389, 2390, 2391, 2404, 2406, 2407, 2412,\n",
       "       2418, 2430, 2431, 2442, 2443, 2445, 2446, 2452, 2474, 2479, 2486,\n",
       "       2494, 2495, 2511, 2513, 2526, 2543, 2545, 2548, 2556, 2560, 2566,\n",
       "       2569, 2588, 2589, 2594, 2608, 2611, 2615, 2621, 2627, 2629, 2631,\n",
       "       2642, 2647, 2648, 2655, 2657, 2659, 2660, 2661, 2669, 2670, 2672,\n",
       "       2674, 2688, 2692, 2695, 2702, 2710, 2714, 2717, 2727, 2728, 2729,\n",
       "       2730, 2731, 2732, 2736, 2738, 2739, 2743, 2751, 2756, 2760, 2762,\n",
       "       2766, 2773, 2778, 2785, 2788, 2790, 2792, 2803, 2804, 2811, 2812,\n",
       "       2813, 2823, 2824, 2827, 2845, 2864, 2869, 2870, 2871, 2872, 2888,\n",
       "       2893, 2895, 2900, 2903, 2907, 2908, 2914, 2919, 2932, 2936, 2947,\n",
       "       2950, 2965, 2967, 2968, 2971, 2972, 3001, 3004, 3019, 3029, 3035,\n",
       "       3039, 3040, 3042, 3044, 3069, 3081, 3082, 3094, 3099, 3104, 3110,\n",
       "       3114, 3122, 3141, 3149, 3156, 3159, 3165, 3171, 3172, 3173, 3181,\n",
       "       3183, 3190, 3198, 3214, 3216, 3219, 3232, 3238, 3241, 3244, 3250,\n",
       "       3256, 3262, 3264, 3270, 3291, 3295, 3298, 3300, 3302, 3311, 3314,\n",
       "       3321, 3327, 3330, 3332, 3341, 3346, 3350, 3362, 3364, 3369, 3371,\n",
       "       3374, 3381, 3383, 3386, 3387, 3392, 3396, 3398, 3410, 3420, 3423,\n",
       "       3431, 3432, 3438, 3441, 3448, 3453, 3459, 3461, 3475, 3485, 3494,\n",
       "       3499, 3519, 3524, 3528, 3532, 3535, 3536, 3538, 3539, 3543, 3554,\n",
       "       3558, 3560, 3564, 3566, 3569, 3571, 3577, 3578, 3583, 3585, 3587,\n",
       "       3594, 3598, 3599, 3602, 3604, 3615, 3617, 3618, 3620, 3630, 3651,\n",
       "       3665, 3666, 3681, 3682, 3684, 3690, 3695, 3700, 3702, 3705, 3710,\n",
       "       3715, 3720, 3731, 3733, 3735, 3739, 3742, 3749, 3756, 3765, 3771,\n",
       "       3778, 3784, 3786, 3790, 3791, 3799, 3800, 3804, 3817, 3825, 3828,\n",
       "       3830, 3831, 3836, 3841, 3849, 3851, 3854, 3868, 3879, 3880, 3896,\n",
       "       3899, 3901, 3902, 3905, 3908, 3911, 3913, 3917, 3919, 3921, 3923,\n",
       "       3932, 3950, 3955, 3957, 3958, 3964, 3969, 3971, 3976, 3979, 3980,\n",
       "       3982, 3990, 3996, 3997, 4000, 4013, 4026, 4027, 4036, 4038, 4044,\n",
       "       4046, 4047, 4049, 4051, 4053, 4061, 4064, 4068, 4076, 4083, 4092,\n",
       "       4094, 4098, 4118, 4119, 4122, 4126, 4130, 4143, 4144, 4145, 4147,\n",
       "       4160, 4164, 4171, 4172, 4178, 4180, 4199, 4201, 4204, 4206, 4207,\n",
       "       4209, 4215, 4219, 4221, 4235, 4239, 4242, 4251, 4255, 4259, 4265,\n",
       "       4272, 4275, 4278, 4280, 4281, 4282, 4290, 4294, 4297, 4300, 4302,\n",
       "       4305, 4306, 4310, 4324, 4327, 4328, 4331, 4336, 4340, 4350, 4351,\n",
       "       4355, 4358, 4361, 4372, 4375, 4381, 4383, 4384, 4385, 4386, 4389,\n",
       "       4390, 4392, 4393, 4394, 4404, 4411, 4412, 4413, 4415, 4425, 4443,\n",
       "       4444, 4449, 4452, 4461, 4467, 4476, 4487, 4488, 4490, 4497, 4503,\n",
       "       4505, 4507, 4508, 4520, 4525, 4528, 4530, 4537, 4550, 4551, 4555,\n",
       "       4557, 4562, 4563, 4564, 4567, 4588, 4594, 4596, 4601, 4605, 4615,\n",
       "       4618, 4619, 4622, 4623, 4626, 4633, 4637, 4639, 4642, 4644, 4648,\n",
       "       4649, 4663, 4664, 4673, 4680, 4681, 4689, 4692, 4702, 4715, 4729,\n",
       "       4738, 4741, 4742, 4745, 4766, 4769, 4778, 4788, 4790, 4792, 4793,\n",
       "       4801, 4817, 4818, 4820, 4824, 4832, 4835, 4840, 4842, 4848, 4851,\n",
       "       4852, 4857, 4865, 4882, 4889, 4892, 4898, 4903, 4906, 4909, 4915,\n",
       "       4916, 4920, 4924, 4927, 4930, 4933, 4934, 4958, 4966, 4993])"
      ]
     },
     "execution_count": 14,
     "metadata": {},
     "output_type": "execute_result"
    }
   ],
   "source": [
    "indices_poison"
   ]
  },
  {
   "cell_type": "code",
   "execution_count": 15,
   "id": "7dd12f80",
   "metadata": {},
   "outputs": [
    {
     "name": "stdout",
     "output_type": "stream",
     "text": [
      "0.0 1.0\n"
     ]
    }
   ],
   "source": [
    "print(np.min(x_poison),np.max(x_poison))"
   ]
  },
  {
   "cell_type": "markdown",
   "id": "0b4a0cbe",
   "metadata": {},
   "source": [
    "# Retrain New Model from Scratch"
   ]
  },
  {
   "cell_type": "code",
   "execution_count": 16,
   "id": "edfc9c73",
   "metadata": {},
   "outputs": [],
   "source": [
    "import numpy as np\n",
    "import tensorflow as tf\n",
    "\n",
    "from tensorflow.keras import layers, models, losses\n",
    "\n",
    "model_poisoned = models.Sequential()\n",
    "\n",
    "# Source here: https://github.com/keras-team/keras/blob/master/examples/cifar10_cnn.py\n",
    "model_poisoned.add(layers.Conv2D(32, (3, 3), padding=\"same\", activation='relu', input_shape=x_train.shape[1:]))\n",
    "model_poisoned.add(layers.Conv2D(32, (3, 3), activation='relu'))\n",
    "model_poisoned.add(layers.MaxPooling2D(pool_size=(2, 2)))\n",
    "model_poisoned.add(layers.Dropout(0.25))\n",
    "\n",
    "model_poisoned.add(layers.Conv2D(64, (3, 3), padding=\"same\", activation='relu'))\n",
    "model_poisoned.add(layers.Conv2D(64, (3, 3), activation='relu'))\n",
    "model_poisoned.add(layers.MaxPooling2D(pool_size=(2, 2)))\n",
    "model_poisoned.add(layers.Dropout(0.25))\n",
    "\n",
    "model_poisoned.add(layers.Flatten())\n",
    "model_poisoned.add(layers.Dense(512, activation='relu'))\n",
    "model_poisoned.add(layers.Dropout(0.5))\n",
    "model_poisoned.add(layers.Dense(10))\n",
    "\n",
    "# optimizer = tf.keras.optimizers.Adam(learning_rate=0.001)\n",
    "optimizer = tf.keras.optimizers.SGD(learning_rate=0.01, momentum=0.9, nesterov=True)\n",
    "model_poisoned.compile(loss='categorical_crossentropy', optimizer=optimizer, metrics=['accuracy'])\n",
    "\n",
    "loss_object = losses.CategoricalCrossentropy(from_logits=True)\n",
    "def train_step(model, images, labels):\n",
    "    with tf.GradientTape() as tape:\n",
    "        predictions = model(images, training=True)\n",
    "        loss = loss_object(labels, predictions)\n",
    "    gradients = tape.gradient(loss, model.trainable_variables)\n",
    "    model.optimizer.apply_gradients(zip(gradients, model.trainable_variables))\n",
    "\n"
   ]
  },
  {
   "cell_type": "code",
   "execution_count": 17,
   "id": "c8660392",
   "metadata": {},
   "outputs": [],
   "source": [
    "from art.estimators.classification import TensorFlowV2Classifier\n",
    "\n",
    "classifier_poisoned = TensorFlowV2Classifier(\n",
    "    model=model_poisoned,\n",
    "    loss_object=loss_object,\n",
    "    train_step=train_step,\n",
    "    nb_classes=10,\n",
    "    input_shape=(32, 32, 3),\n",
    "    clip_values=(min_, max_),\n",
    "    preprocessing=(mean,std)\n",
    ")"
   ]
  },
  {
   "cell_type": "code",
   "execution_count": 18,
   "id": "bff00fce",
   "metadata": {},
   "outputs": [],
   "source": [
    "classifier_poisoned.fit(x_poison, y_poison, nb_epochs=40, batch_size=128)"
   ]
  },
  {
   "cell_type": "code",
   "execution_count": 19,
   "id": "340d0212",
   "metadata": {},
   "outputs": [
    {
     "name": "stdout",
     "output_type": "stream",
     "text": [
      "Accuracy on benign test examples: 81.16%\n"
     ]
    }
   ],
   "source": [
    "predictions = classifier_poisoned.predict(x_test)\n",
    "accuracy = np.sum(np.argmax(predictions, axis=1) == np.argmax(y_test, axis=1)) / len(y_test)\n",
    "print(\"Accuracy on benign test examples: {}%\".format(accuracy * 100))"
   ]
  },
  {
   "cell_type": "code",
   "execution_count": 24,
   "id": "5f0c1d34",
   "metadata": {},
   "outputs": [
    {
     "data": {
      "image/png": "[encoded data removed]",
      "text/plain": [
       "<Figure size 432x288 with 1 Axes>"
      ]
     },
     "metadata": {
      "needs_background": "light"
     },
     "output_type": "display_data"
    },
    {
     "data": {
      "image/png": "[encoded data removed]",
      "text/plain": [
       "<Figure size 432x288 with 1 Axes>"
      ]
     },
     "metadata": {
      "needs_background": "light"
     },
     "output_type": "display_data"
    },
    {
     "data": {
      "image/png": "[encoded data removed]",
      "text/plain": [
       "<Figure size 432x288 with 1 Axes>"
      ]
     },
     "metadata": {
      "needs_background": "light"
     },
     "output_type": "display_data"
    }
   ],
   "source": [
    "import matplotlib.pyplot as plt\n",
    "plt.imshow(x_trigger[0])\n",
    "plt.title('Trigger image')\n",
    "plt.show()\n",
    "\n",
    "index_poisoned_example = np.where([np.any(p!=o) for (p,o) in zip(x_poison,x_train)])[0]\n",
    "plt.imshow(x_train[index_target[indices_poison][0]])\n",
    "plt.title('Original image')\n",
    "plt.show()\n",
    "\n",
    "plt.imshow(x_poison[index_target[indices_poison][0]])\n",
    "plt.title('Poisoned image')\n",
    "plt.show()"
   ]
  },
  {
   "cell_type": "code",
   "execution_count": 21,
   "id": "a2559bf3",
   "metadata": {},
   "outputs": [],
   "source": [
    "def add_trigger_patch(x_set,patch_type=\"fixed\"):\n",
    "    img = Image.open('trigger_10.png')\n",
    "    numpydata = asarray(img)\n",
    "    patch = resize(numpydata, (8,8,3))\n",
    "    if patch_type == \"fixed\":\n",
    "        x_set[:,-patch_size:,-patch_size:,:] = patch\n",
    "    else:\n",
    "        for x in x_set:\n",
    "            x_cord = random.randrange(0,x.shape[0] - patch.shape[0] + 1)\n",
    "            y_cord = random.randrange(0,x.shape[1] - patch.shape[1] + 1)\n",
    "            x[x_cord:x_cord+patch_size,y_cord:y_cord+patch_size,:]=patch\n",
    "\n",
    "    return x_set"
   ]
  },
  {
   "cell_type": "markdown",
   "id": "8b53e979",
   "metadata": {},
   "source": [
    "# Calculate Success Rates"
   ]
  },
  {
   "cell_type": "code",
   "execution_count": 22,
   "id": "b1db3399",
   "metadata": {},
   "outputs": [
    {
     "name": "stdout",
     "output_type": "stream",
     "text": [
      "0.0 1.0\n",
      "0.0 1.0\n",
      "5000\n",
      "Train Success Rate 0.2186\n"
     ]
    },
    {
     "data": {
      "image/png": "[encoded data removed]",
      "text/plain": [
       "<Figure size 432x288 with 1 Axes>"
      ]
     },
     "metadata": {
      "needs_background": "light"
     },
     "output_type": "display_data"
    }
   ],
   "source": [
    "import random\n",
    "index_source_train = np.where(y_train.argmax(axis=1)==class_source)[0]\n",
    "x_train_trigger = x_train[index_source_train]\n",
    "print(np.min(x_train_trigger),np.max(x_train_trigger))\n",
    "x_train_trigger = add_trigger_patch(x_train_trigger,\"random\")\n",
    "print(np.min(x_train_trigger),np.max(x_train_trigger))\n",
    "result_poisoned_train = classifier_poisoned.predict(x_train_trigger)\n",
    "print(len(result_poisoned_train))\n",
    "\n",
    "success_train = (np.argmax(result_poisoned_train,axis=1)==class_target).sum()/result_poisoned_train.shape[0]\n",
    "print(\"Train Success Rate\",success_train)\n",
    "plt.imshow(x_train_trigger[0])\n",
    "plt.title('Trigger image')\n",
    "plt.show()"
   ]
  },
  {
   "cell_type": "code",
   "execution_count": 23,
   "id": "35ee87fe",
   "metadata": {},
   "outputs": [
    {
     "name": "stdout",
     "output_type": "stream",
     "text": [
      "1.0\n",
      "1000\n",
      "Test Success Rate: 0.202\n"
     ]
    },
    {
     "data": {
      "image/png": "[encoded data removed]",
      "text/plain": [
       "<Figure size 432x288 with 1 Axes>"
      ]
     },
     "metadata": {
      "needs_background": "light"
     },
     "output_type": "display_data"
    }
   ],
   "source": [
    "import random\n",
    "index_source_test = np.where(y_test.argmax(axis=1)==class_source)[0]\n",
    "x_test_trigger = x_test[index_source_test]\n",
    "x_test_trigger = add_trigger_patch(x_test_trigger,\"random\")\n",
    "print(np.max(x_test_trigger))\n",
    "result_poisoned_test = classifier_poisoned.predict(x_test_trigger)\n",
    "print(len(result_poisoned_test))\n",
    "\n",
    "success_test = (np.argmax(result_poisoned_test,axis=1)==class_target).sum()/result_poisoned_test.shape[0]\n",
    "print(\"Test Success Rate:\",success_test)\n",
    "\n",
    "plt.imshow(x_test_trigger[0])\n",
    "plt.title('Trigger image')\n",
    "plt.show()"
   ]
  }
 ],
 "metadata": {
  "kernelspec": {
   "display_name": "Python 3 (ipykernel)",
   "language": "python",
   "name": "python3"
  },
  "language_info": {
   "codemirror_mode": {
    "name": "ipython",
    "version": 3
   },
   "file_extension": ".py",
   "mimetype": "text/x-python",
   "name": "python",
   "nbconvert_exporter": "python",
   "pygments_lexer": "ipython3",
   "version": "3.8.12"
  }
 },
 "nbformat": 4,
 "nbformat_minor": 5
}
