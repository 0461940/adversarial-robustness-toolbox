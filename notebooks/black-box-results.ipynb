{
 "cells": [
  {
   "cell_type": "code",
   "execution_count": null,
   "metadata": {
    "collapsed": true
   },
   "outputs": [],
   "source": [
    "from matplotlib import pyplot as plt\n",
    "import numpy as np\n",
    "\n",
    "import json\n",
    "import os, sys\n",
    "from os.path import join\n",
    "\n",
    "module_path = os.path.abspath(os.path.join('..'))\n",
    "if module_path not in sys.path:\n",
    "    sys.path.append(module_path)\n",
    "\n",
    "from config import DATA_PATH\n",
    "\n",
    "plt.rcdefaults() \n",
    "%matplotlib inline\n",
    "\n",
    "INPUT_PATH = join(DATA_PATH, \"classifiers/mnist/\")\n",
    "CLASSIFIERS = [\"resnet/relu\", \"resnet/brelu\", \"cnn/relu\", \"cnn/brelu\", \"cnn/relu/gaussian/stdev0.30/pert-insts10\"]\n",
    "               \n",
    "accuracies = {}\n",
    "for c in CLASSIFIERS:\n",
    "    with open(join(INPUT_PATH, c, \"accuracies.json\"), \"r\") as json_file:\n",
    "        accuracies[c] = json.load(json_file)"
   ]
  }
 ],
 "metadata": {
  "kernelspec": {
   "display_name": "Python 3",
   "language": "python",
   "name": "python3"
  },
  "language_info": {
   "codemirror_mode": {
    "name": "ipython",
    "version": 3
   },
   "file_extension": ".py",
   "mimetype": "text/x-python",
   "name": "python",
   "nbconvert_exporter": "python",
   "pygments_lexer": "ipython3",
   "version": "3.6.0"
  }
 },
 "nbformat": 4,
 "nbformat_minor": 2
}
