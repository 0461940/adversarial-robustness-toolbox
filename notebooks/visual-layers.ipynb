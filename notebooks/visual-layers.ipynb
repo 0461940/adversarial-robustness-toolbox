{
 "cells": [
  {
   "cell_type": "code",
   "execution_count": 106,
   "metadata": {},
   "outputs": [
    {
     "name": "stdout",
     "output_type": "stream",
     "text": [
      "true label: 9, 1.0; adv label: 3, 0.9997710585594177\n"
     ]
    },
    {
     "data": {
      "text/plain": [
       "<matplotlib.image.AxesImage at 0x7fd708d33518>"
      ]
     },
     "execution_count": 106,
     "metadata": {},
     "output_type": "execute_result"
    },
    {
     "data": {
      "image/png": "[encoded data removed]",
      "text/plain": [
       "<matplotlib.figure.Figure at 0x7fd7095ba2e8>"
      ]
     },
     "metadata": {},
     "output_type": "display_data"
    }
   ],
   "source": [
    "import os\n",
    "import sys\n",
    "\n",
    "import numpy as np\n",
    "import matplotlib.pyplot as plt\n",
    "\n",
    "module_path = os.path.abspath(os.path.join('..'))\n",
    "if module_path not in sys.path:\n",
    "    sys.path.append(module_path)\n",
    "\n",
    "from config import DATA_PATH\n",
    "\n",
    "from src.classifiers import cnn\n",
    "from src.utils import load_mnist\n",
    "\n",
    "%matplotlib inline\n",
    "\n",
    "eps = 1\n",
    "pic_index = 1000\n",
    "\n",
    "(_, _), (X_test, Y_test) = load_mnist()\n",
    "\n",
    "model = cnn.load_model(DATA_PATH + \"/classifiers/mnist/cnn/relu/\", \"best-weights.h5\")\n",
    "\n",
    "advs = np.load(DATA_PATH + \"/adversarial/mnist/cnn/relu/fgsm/eps%.2f.npy\" % (eps))\n",
    "y_pred = model.predict(advs)\n",
    "\n",
    "true_max_conf, true_label = max(Y_test[pic_index,:]), np.argmax(Y_test[pic_index,:])\n",
    "pred_max_conf, pred_label = max(y_pred[pic_index,:]), np.argmax(y_pred[pic_index,:])\n",
    "\n",
    "print(\"true label: {}, {}; adv label: {}, {}\".format(true_label, true_max_conf, pred_label, pred_max_conf))\n",
    "\n",
    "pic_relu = advs[pic_index]\n",
    "plt.imshow(pic_relu.reshape((28, 28)), cmap=\"gray\")"
   ]
  },
  {
   "cell_type": "code",
   "execution_count": 107,
   "metadata": {},
   "outputs": [
    {
     "name": "stdout",
     "output_type": "stream",
     "text": [
      "true label: 9, 1.0; adv label: 3, 1.0\n"
     ]
    },
    {
     "data": {
      "text/plain": [
       "<matplotlib.image.AxesImage at 0x7fd709432668>"
      ]
     },
     "execution_count": 107,
     "metadata": {},
     "output_type": "execute_result"
    },
    {
     "data": {
      "image/png": "[encoded data removed]",
      "text/plain": [
       "<matplotlib.figure.Figure at 0x7fd708c9d240>"
      ]
     },
     "metadata": {},
     "output_type": "display_data"
    }
   ],
   "source": [
    "advs = np.load(DATA_PATH + \"/adversarial/mnist/cnn/brelu/fgsm/eps%.2f.npy\" % (eps))\n",
    "y_pred = model.predict(advs)\n",
    "\n",
    "true_max_conf, true_label = max(Y_test[pic_index, :]), np.argmax(Y_test[pic_index, :])\n",
    "pred_max_conf, pred_label = max(y_pred[pic_index, :]), np.argmax(y_pred[pic_index, :])\n",
    "\n",
    "print(\"true label: {}, {}; adv label: {}, {}\".format(true_label, true_max_conf, pred_label, pred_max_conf))\n",
    "\n",
    "pic_brelu = advs[pic_index]\n",
    "plt.imshow(pic_brelu.reshape((28, 28)), cmap=\"gray\")"
   ]
  },
  {
   "cell_type": "code",
   "execution_count": 108,
   "metadata": {},
   "outputs": [],
   "source": [
    "from keras import backend as K\n",
    "\n",
    "layer_idx = 4\n",
    "\n",
    "get_layer_output = K.function([model.layers[0].input],\n",
    "                                  [model.layers[4].output])\n",
    "\n",
    "# true example\n",
    "pic = X_test[pic_index]\n",
    "true_output = get_layer_output([pic.reshape(1, *(pic.shape))])[0]"
   ]
  },
  {
   "cell_type": "code",
   "execution_count": 109,
   "metadata": {},
   "outputs": [],
   "source": [
    "# adversarial examples\n",
    "# relu\n",
    "adv_output = get_layer_output([pic_relu.reshape(1, *(pic_relu.shape))])[0]\n",
    "\n",
    "# brelu\n",
    "adv2_output = get_layer_output([pic_brelu.reshape(1, *(pic_brelu.shape))])[0]\n"
   ]
  },
  {
   "cell_type": "code",
   "execution_count": 110,
   "metadata": {},
   "outputs": [
    {
     "name": "stdout",
     "output_type": "stream",
     "text": [
      "3473.56\n"
     ]
    },
    {
     "data": {
      "image/png": "[encoded data removed]",
      "text/plain": [
       "<matplotlib.figure.Figure at 0x7fd708cad048>"
      ]
     },
     "metadata": {},
     "output_type": "display_data"
    }
   ],
   "source": [
    "diff = true_output - adv_output\n",
    "plt.imshow(diff.reshape(8, 16), cmap=\"gray\")\n",
    "\n",
    "print(np.sum(abs(diff)))"
   ]
  },
  {
   "cell_type": "code",
   "execution_count": 111,
   "metadata": {},
   "outputs": [
    {
     "name": "stdout",
     "output_type": "stream",
     "text": [
      "4685.77\n"
     ]
    },
    {
     "data": {
      "image/png": "[encoded data removed]",
      "text/plain": [
       "<matplotlib.figure.Figure at 0x7fd709883e80>"
      ]
     },
     "metadata": {},
     "output_type": "display_data"
    }
   ],
   "source": [
    "diff = true_output - adv2_output\n",
    "plt.imshow(diff.reshape(8, 16), cmap=\"gray\")\n",
    "\n",
    "print(np.sum(abs(diff)))"
   ]
  },
  {
   "cell_type": "code",
   "execution_count": 112,
   "metadata": {},
   "outputs": [
    {
     "name": "stdout",
     "output_type": "stream",
     "text": [
      "true label: 3, 1.0; pred label: 3, 1.0\n"
     ]
    },
    {
     "data": {
      "image/png": "[encoded data removed]",
      "text/plain": [
       "<matplotlib.figure.Figure at 0x7fd708bd6208>"
      ]
     },
     "metadata": {},
     "output_type": "display_data"
    }
   ],
   "source": [
    "pic_3_idx = 9996\n",
    "pic_3 = X_test[pic_3_idx]\n",
    "\n",
    "y_pred = model.predict(X_test)\n",
    "\n",
    "true_max_conf, true_label = max(Y_test[pic_3_idx, :]), np.argmax(Y_test[pic_3_idx, :])\n",
    "pred_max_conf, pred_label = max(y_pred[pic_3_idx, :]), np.argmax(y_pred[pic_3_idx, :])\n",
    "\n",
    "print(\"true label: {}, {}; pred label: {}, {}\".format(true_label, true_max_conf, pred_label, pred_max_conf))\n",
    "\n",
    "plt.imshow(pic_3.reshape((28, 28)), cmap=\"gray\")\n",
    "\n",
    "pic3_output = get_layer_output([pic_3.reshape(1, *(pic_3.shape))])[0]"
   ]
  },
  {
   "cell_type": "code",
   "execution_count": 113,
   "metadata": {},
   "outputs": [
    {
     "name": "stdout",
     "output_type": "stream",
     "text": [
      "2185.41\n"
     ]
    },
    {
     "data": {
      "image/png": "[encoded data removed]",
      "text/plain": [
       "<matplotlib.figure.Figure at 0x7fd7099dc0f0>"
      ]
     },
     "metadata": {},
     "output_type": "display_data"
    }
   ],
   "source": [
    "diff = true_output - pic3_output\n",
    "plt.imshow(diff.reshape(8, 16), cmap=\"gray\")\n",
    "\n",
    "print(np.sum(abs(diff)))"
   ]
  },
  {
   "cell_type": "code",
   "execution_count": null,
   "metadata": {
    "collapsed": true
   },
   "outputs": [],
   "source": []
  }
 ],
 "metadata": {
  "kernelspec": {
   "display_name": "Python 3",
   "language": "python",
   "name": "python3"
  },
  "language_info": {
   "codemirror_mode": {
    "name": "ipython",
    "version": 3
   },
   "file_extension": ".py",
   "mimetype": "text/x-python",
   "name": "python",
   "nbconvert_exporter": "python",
   "pygments_lexer": "ipython3",
   "version": "3.6.0"
  }
 },
 "nbformat": 4,
 "nbformat_minor": 1
}
