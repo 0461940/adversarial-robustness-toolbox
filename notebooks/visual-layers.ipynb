{
 "cells": [
  {
   "cell_type": "code",
   "execution_count": 2,
   "metadata": {},
   "outputs": [
    {
     "name": "stderr",
     "output_type": "stream",
     "text": [
      "Using TensorFlow backend.\n"
     ]
    },
    {
     "name": "stdout",
     "output_type": "stream",
     "text": [
      "true label: 9,1.0; adv label: 3,0.9942805767059326\n"
     ]
    },
    {
     "data": {
      "text/plain": [
       "<matplotlib.image.AxesImage at 0x7f01e4b8a8d0>"
      ]
     },
     "execution_count": 2,
     "metadata": {},
     "output_type": "execute_result"
    },
    {
     "data": {
      "image/png": "[encoded data removed]",
      "text/plain": [
       "<matplotlib.figure.Figure at 0x7f01e7db1b00>"
      ]
     },
     "metadata": {},
     "output_type": "display_data"
    }
   ],
   "source": [
    "module_path = os.path.abspath(os.path.join('..'))\n",
    "if module_path not in sys.path:\n",
    "    sys.path.append(module_path)\n",
    "import os\n",
    "import sys\n",
    "\n",
    "from config import DATA_PATH\n",
    "\n",
    "import numpy as np\n",
    "import matplotlib.pyplot as plt\n",
    "\n",
    "from src.classifiers import cnn\n",
    "from src.utils import load_mnist\n",
    "\n",
    "%matplotlib inline\n",
    "\n",
    "eps = 0.1\n",
    "pic_index = 1000\n",
    "\n",
    "(_, _), (X_test, Y_test) = load_mnist()\n",
    "\n",
    "model = cnn.load_model(DATA_PATH + \"/classifiers/mnist/cnn/relu/\", \"best-weights.h5\")\n",
    "\n",
    "advs = np.load(DATA_PATH + \"/adversarial/mnist/cnn/relu/fgsm/eps%.2f.npy\" % (eps))\n",
    "y_pred = model.predict(advs)\n",
    "\n",
    "true_max_conf, true_label = max(Y_test[pic_index,:]), np.argmax(Y_test[pic_index,:])\n",
    "pred_max_conf, pred_label = max(y_pred[pic_index,:]), np.argmax(y_pred[pic_index,:])\n",
    "\n",
    "print(\"true label: {}, {}; adv label: {}, {}\".format(true_label, true_max_conf, pred_label, pred_max_conf))\n",
    "\n",
    "pic_relu = advs[pic_index].reshape((28, 28))\n",
    "plt.imshow(pic_relu, cmap=\"gray\")"
   ]
  },
  {
   "cell_type": "code",
   "execution_count": 3,
   "metadata": {},
   "outputs": [
    {
     "name": "stdout",
     "output_type": "stream",
     "text": [
      "true label: 9,1.0; adv label: 9,0.9929674863815308\n"
     ]
    },
    {
     "data": {
      "text/plain": [
       "<matplotlib.image.AxesImage at 0x7f01e4adbf60>"
      ]
     },
     "execution_count": 3,
     "metadata": {},
     "output_type": "execute_result"
    },
    {
     "data": {
      "image/png": "[encoded data removed]",
      "text/plain": [
       "<matplotlib.figure.Figure at 0x7f022f7d4470>"
      ]
     },
     "metadata": {},
     "output_type": "display_data"
    }
   ],
   "source": [
    "advs = np.load(DATA_PATH + \"/adversarial/mnist/cnn/brelu/fgsm/eps%.2f.npy\" % (eps))\n",
    "y_pred = model.predict(advs)\n",
    "\n",
    "true_max_conf, true_label = max(Y_test[pic_index, :]), np.argmax(Y_test[pic_index, :])\n",
    "pred_max_conf, pred_label = max(y_pred[pic_index, :]), np.argmax(y_pred[pic_index, :])\n",
    "\n",
    "print(\"true label: {}, {}; adv label: {}, {}\".format(true_label, true_max_conf, pred_label, pred_max_conf))\n",
    "\n",
    "pic_brelu = advs[pic_index].reshape((28, 28))\n",
    "plt.imshow(pic_brelu, cmap=\"gray\")"
   ]
  },
  {
   "cell_type": "code",
   "execution_count": null,
   "metadata": {
    "collapsed": true
   },
   "outputs": [],
   "source": []
  }
 ],
 "metadata": {
  "kernelspec": {
   "display_name": "Python 3",
   "language": "python",
   "name": "python3"
  },
  "language_info": {
   "codemirror_mode": {
    "name": "ipython",
    "version": 3
   },
   "file_extension": ".py",
   "mimetype": "text/x-python",
   "name": "python",
   "nbconvert_exporter": "python",
   "pygments_lexer": "ipython3",
   "version": "3.6.0"
  }
 },
 "nbformat": 4,
 "nbformat_minor": 1
}
