{
 "cells": [
  {
   "cell_type": "code",
   "execution_count": null,
   "metadata": {},
   "outputs": [],
   "source": [
    "from keras.applications.resnet50 import ResNet50\n",
    "import numpy as np\n",
    "np.set_printoptions(threshold=np.nan)\n",
    "\n",
    "from art.classifiers import KerasClassifier\n",
    "\n",
    "# Load model\n",
    "mean_imagenet = np.zeros([224, 224,3])\n",
    "mean_imagenet[...,0].fill(103.939)\n",
    "mean_imagenet[...,1].fill(116.779)\n",
    "mean_imagenet[...,2].fill(123.68)\n",
    "model = ResNet50(weights='imagenet')\n",
    "classifier = KerasClassifier(model=model, clip_values=(0, 255),  preprocessing=(mean_imagenet,1))"
   ]
  },
  {
   "cell_type": "code",
   "execution_count": null,
   "metadata": {},
   "outputs": [],
   "source": [
    "from os.path import join, abspath, expanduser\n",
    "\n",
    "# Get Imagenet labels\n",
    "path = expanduser('~/git/nemesis')\n",
    "with open(join(path, \"imagenet/labels.txt\"), \"r\") as f_input:\n",
    "    class_names = eval(f_input.read())"
   ]
  },
  {
   "cell_type": "code",
   "execution_count": null,
   "metadata": {},
   "outputs": [],
   "source": [
    "from keras.preprocessing import image\n",
    "\n",
    "path = expanduser('~/git/nemesis/test_api/clean100')\n",
    "image_files = ['n04479046_2998_224x224.jpg']\n",
    "images = []\n",
    "\n",
    "for i in image_files:\n",
    "    image_file = join(path, i)\n",
    "    image_ = image.load_img(image_file, target_size=(224, 224))\n",
    "    img = image.img_to_array(image_)\n",
    "    images.append(img)\n",
    "images = np.array(images)\n",
    "    \n",
    "# Original predictions\n",
    "preds = np.argmax(classifier.predict(images), axis=1)\n",
    "print('Predictions:')\n",
    "for p in preds:\n",
    "    print(class_names[p])"
   ]
  },
  {
   "cell_type": "code",
   "execution_count": null,
   "metadata": {},
   "outputs": [],
   "source": [
    "levels = ['low', 'med', 'high']"
   ]
  },
  {
   "cell_type": "code",
   "execution_count": null,
   "metadata": {},
   "outputs": [],
   "source": [
    "# Create attacks\n",
    "from art.attacks import FastGradientMethod, SaliencyMapMethod, CarliniL2Method, DeepFool, NewtonFool\n",
    "from art.attacks import ProjectedGradientDescent, BasicIterativeMethod, VirtualAdversarialMethod\n",
    "\n",
    "attacks_config = {\n",
    "    'fgsm': {'class': FastGradientMethod,\n",
    "             'low': {'eps': 5},\n",
    "             'med': {'eps': 15},\n",
    "             'high': {'eps': 30}},\n",
    "    'carlini': {'class': CarliniL2Method,\n",
    "               'low': {'confidence': 0, 'targeted': False, 'binary_search_steps': 1, 'max_iter': 10},\n",
    "               'med': {'confidence': 20, 'targeted': False, 'binary_search_steps': 5, 'max_iter': 30},\n",
    "               'high': {'confidence': 50, 'targeted': False, 'binary_search_steps': 10, 'max_iter': 100}},\n",
    "    'jsma': {'class': SaliencyMapMethod,\n",
    "             'low': {'theta': 1, 'gamma': .1},\n",
    "             'med': {'theta': 5, 'gamma': .3},\n",
    "             'high': {'theta': 10, 'gamma': 1.}},\n",
    "    'bim':  {'class': BasicIterativeMethod,\n",
    "             'low': {'eps': 5, 'eps_step': 1, 'max_iter': 20},\n",
    "             'med': {'eps': 20, 'eps_step': 1, 'max_iter': 50},\n",
    "             'high': {'eps': 50, 'eps_step':1, 'max_iter': 100}},\n",
    "    'pgd':  {'class': ProjectedGradientDescent,\n",
    "             'low': {'eps': 10, 'eps_step': 1, 'max_iter': 20},\n",
    "             'med': {'eps': 20, 'eps_step': 1, 'max_iter': 50},\n",
    "             'high': {'eps': 50, 'eps_step':1, 'max_iter': 100}},\n",
    "    'deepfool': {'class': DeepFool,\n",
    "                'low': {'max_iter': 10},\n",
    "                'med': {'max_iter': 30},\n",
    "                'high': {'max_iter': 100}},\n",
    "    'newtonfool': {'class': NewtonFool,\n",
    "                  'low': {'max_iter': 10, 'eta': .01},\n",
    "                  'med': {'max_iter': 30, 'eta': .1},\n",
    "                  'high': {'max_iter': 100, 'eta': .3}}\n",
    "}"
   ]
  },
  {
   "cell_type": "code",
   "execution_count": null,
   "metadata": {},
   "outputs": [],
   "source": [
    "def get_attack(classifier, name, level='low'):\n",
    "    try:\n",
    "        attacker = attacks_config[name]['class'](classifier)\n",
    "        attacker.set_params(**attacks_config[name][level])\n",
    "        return attacker\n",
    "    except:\n",
    "        raise KeyError()"
   ]
  },
  {
   "cell_type": "code",
   "execution_count": null,
   "metadata": {},
   "outputs": [],
   "source": [
    "# Create defenses\n",
    "from art.defences import GaussianAugmentation, FeatureSqueezing, SpatialSmoothing\n",
    "\n",
    "ga = GaussianAugmentation(sigma=5, augmentation=False)\n",
    "\n",
    "\n",
    "defenses_config = {\n",
    "    'ga': {'class': GaussianAugmentation,\n",
    "          'low': {'sigma': 5, 'augmentation': False},\n",
    "          'med': {'sigma': 10, 'augmentation': False},\n",
    "          'high': {'sigma': 15, 'augmentation': False}},\n",
    "    'fs': {'class': FeatureSqueezing,\n",
    "          'low': {'bit_depth': 5},\n",
    "          'med': {'bit_depth': 3},\n",
    "          'high': {'bit_depth': 1}},\n",
    "    'ss': {'class': SpatialSmoothing,\n",
    "          'low': {'window_size': 3},\n",
    "          'med': {'window_size': 9},\n",
    "          'high': {'window_size': 15}}\n",
    "}"
   ]
  },
  {
   "cell_type": "code",
   "execution_count": null,
   "metadata": {},
   "outputs": [],
   "source": [
    "def get_defense(name, level='low'):\n",
    "    try:\n",
    "        defense = defenses_config[name]['class'](**defenses_config[name][level])\n",
    "        return defense\n",
    "    except:\n",
    "        raise KeyError()"
   ]
  },
  {
   "cell_type": "code",
   "execution_count": null,
   "metadata": {},
   "outputs": [],
   "source": [
    "# Compute and save all images\n",
    "for i in images:\n",
    "    for a in attacks_config.keys():\n",
    "        # Run attack\n",
    "        for la in levels:\n",
    "            attack = get_attack(classifier, a, level=la)\n",
    "            \n",
    "            images_adv = attack.generate(images)\n",
    "            # Save attack images here; one could also check predictions at this time to validate attack configs\n",
    "            \n",
    "            # Now add defenses to the attack\n",
    "            for d in defenses_config.keys():\n",
    "                for ld in levels:\n",
    "                    defense = get_defense(d, level=ld)\n",
    "                    images_adv_def = defense(images_adv)\n",
    "                    # Save combination of attack and defense here\n",
    "    \n",
    "    # At this point, we have attack and attack + defense images\n",
    "    # Now compute with defense alone\n",
    "    for d in defenses_config.keys():\n",
    "        for ld in levels:\n",
    "            defense = get_defense(d, level=ld)\n",
    "            images_def = defense(images)\n",
    "            \n",
    "            # Save defense images here"
   ]
  }
 ],
 "metadata": {
  "kernelspec": {
   "display_name": "Python 3",
   "language": "python",
   "name": "python3"
  },
  "language_info": {
   "codemirror_mode": {
    "name": "ipython",
    "version": 3
   },
   "file_extension": ".py",
   "mimetype": "text/x-python",
   "name": "python",
   "nbconvert_exporter": "python",
   "pygments_lexer": "ipython3",
   "version": "3.6.0"
  }
 },
 "nbformat": 4,
 "nbformat_minor": 2
}
