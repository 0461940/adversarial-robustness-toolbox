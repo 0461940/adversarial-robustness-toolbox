{
 "cells": [
  {
   "cell_type": "code",
   "execution_count": 1,
   "metadata": {},
   "outputs": [
    {
     "name": "stdout",
     "output_type": "stream",
     "text": [
      "Temporary directory not created yet\n",
      "Temporary directory: /tmp/tmp2b9x4pw8\n"
     ]
    }
   ],
   "source": [
    "import os, sys\n",
    "from os.path import abspath\n",
    "\n",
    "module_path = os.path.abspath(os.path.join('..'))\n",
    "if module_path not in sys.path:\n",
    "    sys.path.append(module_path)\n",
    "\n",
    "import warnings\n",
    "warnings.filterwarnings('ignore')\n",
    "\n",
    "import tempfile\n",
    "# Create a temporary directory for the model checkpoint. Remove the exising one if this cell is rerun\n",
    "try:\n",
    "    temp_model_dir.cleanup()\n",
    "except NameError:\n",
    "    print(\"Temporary directory not created yet\")\n",
    "finally:\n",
    "    temp_model_dir = tempfile.TemporaryDirectory() \n",
    "    print(\"Temporary directory:\", temp_model_dir.name)"
   ]
  },
  {
   "cell_type": "markdown",
   "metadata": {},
   "source": [
    "## Load Dataset and Model\n",
    "We will load the CIFAR10 dataset and a pre-trained alexnet model."
   ]
  },
  {
   "cell_type": "code",
   "execution_count": 2,
   "metadata": {},
   "outputs": [],
   "source": [
    "from art.utils import load_dataset\n",
    "(x_train, y_train), (x_test, y_test), min_, max_ = load_dataset('cifar10')"
   ]
  },
  {
   "cell_type": "code",
   "execution_count": 3,
   "metadata": {},
   "outputs": [
    {
     "name": "stdout",
     "output_type": "stream",
     "text": [
      "Model: \"sequential\"\n",
      "_________________________________________________________________\n",
      "Layer (type)                 Output Shape              Param #   \n",
      "=================================================================\n",
      "conv2d (Conv2D)              (None, 32, 32, 32)        896       \n",
      "_________________________________________________________________\n",
      "conv2d_1 (Conv2D)            (None, 30, 30, 32)        9248      \n",
      "_________________________________________________________________\n",
      "max_pooling2d (MaxPooling2D) (None, 15, 15, 32)        0         \n",
      "_________________________________________________________________\n",
      "dropout (Dropout)            (None, 15, 15, 32)        0         \n",
      "_________________________________________________________________\n",
      "conv2d_2 (Conv2D)            (None, 15, 15, 64)        18496     \n",
      "_________________________________________________________________\n",
      "conv2d_3 (Conv2D)            (None, 13, 13, 64)        36928     \n",
      "_________________________________________________________________\n",
      "max_pooling2d_1 (MaxPooling2 (None, 6, 6, 64)          0         \n",
      "_________________________________________________________________\n",
      "dropout_1 (Dropout)          (None, 6, 6, 64)          0         \n",
      "_________________________________________________________________\n",
      "flatten (Flatten)            (None, 2304)              0         \n",
      "_________________________________________________________________\n",
      "dense (Dense)                (None, 512)               1180160   \n",
      "_________________________________________________________________\n",
      "dropout_2 (Dropout)          (None, 512)               0         \n",
      "_________________________________________________________________\n",
      "dense_1 (Dense)              (None, 10)                5130      \n",
      "=================================================================\n",
      "Total params: 1,250,858\n",
      "Trainable params: 1,250,858\n",
      "Non-trainable params: 0\n",
      "_________________________________________________________________\n"
     ]
    },
    {
     "name": "stderr",
     "output_type": "stream",
     "text": [
      "2022-02-07 16:43:28.342342: I tensorflow/stream_executor/cuda/cuda_gpu_executor.cc:937] successful NUMA node read from SysFS had negative value (-1), but there must be at least one NUMA node, so returning NUMA node zero\n",
      "2022-02-07 16:43:28.351111: I tensorflow/stream_executor/cuda/cuda_gpu_executor.cc:937] successful NUMA node read from SysFS had negative value (-1), but there must be at least one NUMA node, so returning NUMA node zero\n",
      "2022-02-07 16:43:28.353603: I tensorflow/stream_executor/cuda/cuda_gpu_executor.cc:937] successful NUMA node read from SysFS had negative value (-1), but there must be at least one NUMA node, so returning NUMA node zero\n"
     ]
    }
   ],
   "source": [
    "import numpy as np\n",
    "import tensorflow as tf\n",
    "tf.compat.v1.disable_eager_execution()\n",
    "from tensorflow.keras import layers, models, losses\n",
    "\n",
    "model = models.Sequential()\n",
    "\n",
    "# Create Keras convolutional neural network - basic architecture from Keras examples\n",
    "# Source here: https://github.com/keras-team/keras/blob/master/examples/cifar10_cnn.py\n",
    "model.add(layers.Conv2D(32, (3, 3), padding=\"same\", activation='relu', input_shape=x_train.shape[1:]))\n",
    "model.add(layers.Conv2D(32, (3, 3), activation='relu'))\n",
    "model.add(layers.MaxPooling2D(pool_size=(2, 2)))\n",
    "model.add(layers.Dropout(0.25))\n",
    "\n",
    "model.add(layers.Conv2D(64, (3, 3), padding=\"same\", activation='relu'))\n",
    "model.add(layers.Conv2D(64, (3, 3), activation='relu'))\n",
    "model.add(layers.MaxPooling2D(pool_size=(2, 2)))\n",
    "model.add(layers.Dropout(0.25))\n",
    "\n",
    "model.add(layers.Flatten())\n",
    "model.add(layers.Dense(512, activation='relu'))\n",
    "model.add(layers.Dropout(0.5))\n",
    "model.add(layers.Dense(10))\n",
    "\n",
    "model.compile(loss=losses.CategoricalCrossentropy(from_logits=True), optimizer=\"adam\", metrics=[\"accuracy\"])\n",
    "    \n",
    "\n",
    "model.summary()"
   ]
  },
  {
   "cell_type": "code",
   "execution_count": 4,
   "metadata": {},
   "outputs": [],
   "source": [
    "from art.estimators.classification import KerasClassifier\n",
    "\n",
    "classifier = KerasClassifier(clip_values=(min_, max_), model=model, use_logits=True)"
   ]
  },
  {
   "cell_type": "code",
   "execution_count": 5,
   "metadata": {
    "scrolled": true
   },
   "outputs": [
    {
     "name": "stdout",
     "output_type": "stream",
     "text": [
      "Train on 50000 samples\n"
     ]
    },
    {
     "name": "stderr",
     "output_type": "stream",
     "text": [
      "2022-02-07 16:43:30.348129: I tensorflow/core/platform/cpu_feature_guard.cc:142] This TensorFlow binary is optimized with oneAPI Deep Neural Network Library (oneDNN) to use the following CPU instructions in performance-critical operations:  AVX2 FMA\n",
      "To enable them in other operations, rebuild TensorFlow with the appropriate compiler flags.\n",
      "2022-02-07 16:43:30.349775: I tensorflow/stream_executor/cuda/cuda_gpu_executor.cc:937] successful NUMA node read from SysFS had negative value (-1), but there must be at least one NUMA node, so returning NUMA node zero\n",
      "2022-02-07 16:43:30.350843: I tensorflow/stream_executor/cuda/cuda_gpu_executor.cc:937] successful NUMA node read from SysFS had negative value (-1), but there must be at least one NUMA node, so returning NUMA node zero\n",
      "2022-02-07 16:43:30.351734: I tensorflow/stream_executor/cuda/cuda_gpu_executor.cc:937] successful NUMA node read from SysFS had negative value (-1), but there must be at least one NUMA node, so returning NUMA node zero\n",
      "2022-02-07 16:43:30.956568: I tensorflow/stream_executor/cuda/cuda_gpu_executor.cc:937] successful NUMA node read from SysFS had negative value (-1), but there must be at least one NUMA node, so returning NUMA node zero\n",
      "2022-02-07 16:43:30.957639: I tensorflow/stream_executor/cuda/cuda_gpu_executor.cc:937] successful NUMA node read from SysFS had negative value (-1), but there must be at least one NUMA node, so returning NUMA node zero\n",
      "2022-02-07 16:43:30.958567: I tensorflow/stream_executor/cuda/cuda_gpu_executor.cc:937] successful NUMA node read from SysFS had negative value (-1), but there must be at least one NUMA node, so returning NUMA node zero\n",
      "2022-02-07 16:43:30.959423: I tensorflow/core/common_runtime/gpu/gpu_device.cc:1510] Created device /job:localhost/replica:0/task:0/device:GPU:0 with 15405 MB memory:  -> device: 0, name: NVIDIA Tesla P100-PCIE-16GB, pci bus id: 0000:00:06.0, compute capability: 6.0\n"
     ]
    },
    {
     "name": "stdout",
     "output_type": "stream",
     "text": [
      "Epoch 1/10\n"
     ]
    },
    {
     "name": "stderr",
     "output_type": "stream",
     "text": [
      "2022-02-07 16:43:31.934725: I tensorflow/stream_executor/cuda/cuda_dnn.cc:369] Loaded cuDNN version 8201\n",
      "2022-02-07 16:43:32.289362: I tensorflow/core/platform/default/subprocess.cc:304] Start cannot spawn child process: No such file or directory\n"
     ]
    },
    {
     "name": "stdout",
     "output_type": "stream",
     "text": [
      "50000/50000 [==============================] - 6s 112us/sample - loss: 1.6419 - accuracy: 0.3974\n",
      "Epoch 2/10\n",
      "50000/50000 [==============================] - 4s 81us/sample - loss: 1.2536 - accuracy: 0.5533\n",
      "Epoch 3/10\n",
      "50000/50000 [==============================] - 4s 80us/sample - loss: 1.0790 - accuracy: 0.6155\n",
      "Epoch 4/10\n",
      "50000/50000 [==============================] - 4s 80us/sample - loss: 0.9716 - accuracy: 0.6574\n",
      "Epoch 5/10\n",
      "50000/50000 [==============================] - 4s 80us/sample - loss: 0.8928 - accuracy: 0.6849\n",
      "Epoch 6/10\n",
      "50000/50000 [==============================] - 4s 81us/sample - loss: 0.8248 - accuracy: 0.7120\n",
      "Epoch 7/10\n",
      "50000/50000 [==============================] - 4s 80us/sample - loss: 0.7733 - accuracy: 0.7270\n",
      "Epoch 8/10\n",
      "50000/50000 [==============================] - 4s 80us/sample - loss: 0.7301 - accuracy: 0.7435\n",
      "Epoch 9/10\n",
      "50000/50000 [==============================] - 4s 81us/sample - loss: 0.6975 - accuracy: 0.7549\n",
      "Epoch 10/10\n",
      "50000/50000 [==============================] - 4s 80us/sample - loss: 0.6661 - accuracy: 0.7650\n"
     ]
    },
    {
     "name": "stderr",
     "output_type": "stream",
     "text": [
      "2022-02-07 16:44:13.303925: I tensorflow/stream_executor/cuda/cuda_gpu_executor.cc:937] successful NUMA node read from SysFS had negative value (-1), but there must be at least one NUMA node, so returning NUMA node zero\n",
      "2022-02-07 16:44:13.304327: I tensorflow/stream_executor/cuda/cuda_gpu_executor.cc:937] successful NUMA node read from SysFS had negative value (-1), but there must be at least one NUMA node, so returning NUMA node zero\n",
      "2022-02-07 16:44:13.304579: I tensorflow/stream_executor/cuda/cuda_gpu_executor.cc:937] successful NUMA node read from SysFS had negative value (-1), but there must be at least one NUMA node, so returning NUMA node zero\n",
      "2022-02-07 16:44:13.304894: I tensorflow/stream_executor/cuda/cuda_gpu_executor.cc:937] successful NUMA node read from SysFS had negative value (-1), but there must be at least one NUMA node, so returning NUMA node zero\n",
      "2022-02-07 16:44:13.305151: I tensorflow/stream_executor/cuda/cuda_gpu_executor.cc:937] successful NUMA node read from SysFS had negative value (-1), but there must be at least one NUMA node, so returning NUMA node zero\n",
      "2022-02-07 16:44:13.305358: I tensorflow/core/common_runtime/gpu/gpu_device.cc:1510] Created device /job:localhost/replica:0/task:0/device:GPU:0 with 15405 MB memory:  -> device: 0, name: NVIDIA Tesla P100-PCIE-16GB, pci bus id: 0000:00:06.0, compute capability: 6.0\n",
      "2022-02-07 16:44:13.862994: W tensorflow/python/util/util.cc:348] Sets are not currently considered sequences, but this may change in the future, so consider avoiding using them.\n"
     ]
    },
    {
     "name": "stdout",
     "output_type": "stream",
     "text": [
      "INFO:tensorflow:Assets written to: /tmp/tmp2b9x4pw8/keras_model/assets\n"
     ]
    }
   ],
   "source": [
    "classifier.fit(x_train, y_train, nb_epochs=10, batch_size=128)\n",
    "model.save(temp_model_dir.name + '/keras_model')"
   ]
  },
  {
   "cell_type": "code",
   "execution_count": 6,
   "metadata": {},
   "outputs": [
    {
     "name": "stdout",
     "output_type": "stream",
     "text": [
      "Accuracy on benign test examples: 76.83%\n"
     ]
    }
   ],
   "source": [
    "predictions = classifier.predict(x_test)\n",
    "accuracy = np.sum(np.argmax(predictions, axis=1) == np.argmax(y_test, axis=1)) / len(y_test)\n",
    "print(\"Accuracy on benign test examples: {}%\".format(accuracy * 100))"
   ]
  },
  {
   "cell_type": "markdown",
   "metadata": {},
   "source": [
    "## Generate the Poison\n",
    "We now will generate the poison using the hidden trigger backdoor attack. First, we define the target and source classes as well as the backdoor trigger. The target class will be the class we want to insert poisoned data into. The source class will be the class we will add a trigger to in order to cause misclassification into the target.\n",
    "\n",
    "The backdoor trigger will be a small image patch inserted into the source class images. At test time, we should be able to use this trigger to cause the classifier to misclassify source class images with the trigger added as the target class."
   ]
  },
  {
   "cell_type": "code",
   "execution_count": 7,
   "metadata": {},
   "outputs": [],
   "source": [
    "from art.attacks.poisoning.backdoor_attack import PoisoningAttackBackdoor\n",
    "target = np.array([0,0,0,0,1,0,0,0,0,0])\n",
    "source = np.array([0,0,0,1,0,0,0,0,0,0])\n",
    "\n",
    "# Backdoor Trigger Parameters\n",
    "patch_size = 8\n",
    "x_shift = 32 - patch_size - 5\n",
    "y_shift = 32 - patch_size - 5\n",
    "\n",
    "# Define the backdoor poisoning object. Calling backdoor.poison(x) will insert the trigger into x.\n",
    "from art.attacks.poisoning import perturbations\n",
    "def mod(x):\n",
    "    original_dtype = x.dtype\n",
    "    x = perturbations.insert_image(x, backdoor_path=\"../utils/data/backdoors/htbd.png\",\n",
    "                                   channels_first=False, random=False, x_shift=x_shift, y_shift=y_shift,\n",
    "                                   size=(patch_size,patch_size), mode='RGB', blend=1)\n",
    "    return x.astype(original_dtype)\n",
    "backdoor = PoisoningAttackBackdoor(mod)"
   ]
  },
  {
   "cell_type": "markdown",
   "metadata": {},
   "source": [
    "Here we run the attack. `eps` controls how much the target images can be perturbed with respect to an l-infinity distance. `feature_layer` dicates with layer's output will be used to define the attack's loss. It can either be the name of the layer or the layer index according to the ART estimator. `poison_percent` controls how many poisoned samples will be generated based on the size of the input data.\n",
    "\n",
    "The attack will return poisoned inputs of the target class and the indicies in the data that those poisoned inputs should replace."
   ]
  },
  {
   "cell_type": "code",
   "execution_count": 8,
   "metadata": {
    "scrolled": true
   },
   "outputs": [
    {
     "data": {
      "application/vnd.jupyter.widget-view+json": {
       "model_id": "90387d0ce596479cb81b99369a541d9e",
       "version_major": 2,
       "version_minor": 0
      },
      "text/plain": [
       "Hidden Trigger:   0%|          | 0/3 [00:00<?, ?it/s]"
      ]
     },
     "metadata": {},
     "output_type": "display_data"
    },
    {
     "name": "stdout",
     "output_type": "stream",
     "text": [
      "Epoch:  0 | batch: 0 | i:     0 | LR: 0.01000 | Loss Val: 2687.496 | Loss Avg: 2687.496\n",
      "Epoch:  0 | batch: 0 | i:   100 | LR: 0.01000 | Loss Val: 270.641 | Loss Avg: 374.225\n",
      "Epoch:  0 | batch: 0 | i:   200 | LR: 0.01000 | Loss Val: 262.501 | Loss Avg: 319.566\n",
      "Epoch:  0 | batch: 0 | i:   300 | LR: 0.01000 | Loss Val: 262.036 | Loss Avg: 299.013\n",
      "Epoch:  0 | batch: 0 | i:   400 | LR: 0.01000 | Loss Val: 249.067 | Loss Avg: 287.744\n",
      "Epoch:  0 | batch: 0 | i:   500 | LR: 0.01000 | Loss Val: 248.126 | Loss Avg: 281.043\n",
      "Epoch:  0 | batch: 0 | i:   600 | LR: 0.01000 | Loss Val: 245.954 | Loss Avg: 276.038\n",
      "Epoch:  0 | batch: 0 | i:   700 | LR: 0.01000 | Loss Val: 248.542 | Loss Avg: 271.945\n",
      "Epoch:  0 | batch: 0 | i:   800 | LR: 0.01000 | Loss Val: 240.874 | Loss Avg: 268.217\n",
      "Epoch:  0 | batch: 0 | i:   900 | LR: 0.01000 | Loss Val: 239.004 | Loss Avg: 265.211\n",
      "Epoch:  0 | batch: 0 | i:  1000 | LR: 0.00100 | Loss Val: 240.615 | Loss Avg: 262.947\n",
      "Epoch:  0 | batch: 0 | i:  1100 | LR: 0.00100 | Loss Val: 231.118 | Loss Avg: 260.130\n",
      "Epoch:  0 | batch: 0 | i:  1200 | LR: 0.00100 | Loss Val: 230.581 | Loss Avg: 257.689\n",
      "Epoch:  0 | batch: 0 | i:  1300 | LR: 0.00100 | Loss Val: 230.287 | Loss Avg: 255.593\n",
      "Epoch:  0 | batch: 0 | i:  1400 | LR: 0.00100 | Loss Val: 230.084 | Loss Avg: 253.779\n",
      "Epoch:  0 | batch: 0 | i:  1500 | LR: 0.00100 | Loss Val: 229.922 | Loss Avg: 252.195\n",
      "Epoch:  0 | batch: 0 | i:  1600 | LR: 0.00100 | Loss Val: 229.782 | Loss Avg: 250.799\n",
      "Epoch:  0 | batch: 0 | i:  1700 | LR: 0.00100 | Loss Val: 229.674 | Loss Avg: 249.561\n",
      "Epoch:  0 | batch: 0 | i:  1800 | LR: 0.00100 | Loss Val: 229.586 | Loss Avg: 248.454\n",
      "Epoch:  0 | batch: 0 | i:  1900 | LR: 0.00100 | Loss Val: 229.508 | Loss Avg: 247.459\n",
      "Epoch:  0 | batch: 0 | i:  2000 | LR: 0.00010 | Loss Val: 229.438 | Loss Avg: 246.560\n",
      "Epoch:  0 | batch: 0 | i:  2100 | LR: 0.00010 | Loss Val: 229.412 | Loss Avg: 245.744\n",
      "Epoch:  0 | batch: 0 | i:  2200 | LR: 0.00010 | Loss Val: 229.406 | Loss Avg: 245.002\n",
      "Epoch:  0 | batch: 0 | i:  2300 | LR: 0.00010 | Loss Val: 229.399 | Loss Avg: 244.324\n",
      "Epoch:  0 | batch: 0 | i:  2400 | LR: 0.00010 | Loss Val: 229.393 | Loss Avg: 243.703\n",
      "Epoch:  0 | batch: 0 | i:  2500 | LR: 0.00010 | Loss Val: 229.387 | Loss Avg: 243.130\n",
      "Epoch:  0 | batch: 0 | i:  2600 | LR: 0.00010 | Loss Val: 229.381 | Loss Avg: 242.602\n",
      "Epoch:  0 | batch: 0 | i:  2700 | LR: 0.00010 | Loss Val: 229.375 | Loss Avg: 242.112\n",
      "Epoch:  0 | batch: 0 | i:  2800 | LR: 0.00010 | Loss Val: 229.369 | Loss Avg: 241.657\n",
      "Epoch:  0 | batch: 0 | i:  2900 | LR: 0.00010 | Loss Val: 229.364 | Loss Avg: 241.234\n",
      "Max_Loss: 229.35829996554185\n",
      "Epoch:  0 | batch: 1 | i:     0 | LR: 0.01000 | Loss Val: 2787.030 | Loss Avg: 241.690\n",
      "Epoch:  0 | batch: 1 | i:   100 | LR: 0.01000 | Loss Val: 265.556 | Loss Avg: 245.792\n",
      "Epoch:  0 | batch: 1 | i:   200 | LR: 0.01000 | Loss Val: 248.612 | Loss Avg: 246.191\n",
      "Epoch:  0 | batch: 1 | i:   300 | LR: 0.01000 | Loss Val: 249.784 | Loss Avg: 246.301\n",
      "Epoch:  0 | batch: 1 | i:   400 | LR: 0.01000 | Loss Val: 249.293 | Loss Avg: 246.323\n",
      "Epoch:  0 | batch: 1 | i:   500 | LR: 0.01000 | Loss Val: 241.660 | Loss Avg: 246.357\n",
      "Epoch:  0 | batch: 1 | i:   600 | LR: 0.01000 | Loss Val: 240.015 | Loss Avg: 246.205\n",
      "Epoch:  0 | batch: 1 | i:   700 | LR: 0.01000 | Loss Val: 238.513 | Loss Avg: 246.055\n",
      "Epoch:  0 | batch: 1 | i:   800 | LR: 0.01000 | Loss Val: 237.336 | Loss Avg: 245.875\n",
      "Epoch:  0 | batch: 1 | i:   900 | LR: 0.01000 | Loss Val: 236.697 | Loss Avg: 245.664\n",
      "Epoch:  0 | batch: 1 | i:  1000 | LR: 0.00100 | Loss Val: 237.150 | Loss Avg: 245.459\n",
      "Epoch:  0 | batch: 1 | i:  1100 | LR: 0.00100 | Loss Val: 233.424 | Loss Avg: 245.169\n",
      "Epoch:  0 | batch: 1 | i:  1200 | LR: 0.00100 | Loss Val: 233.154 | Loss Avg: 244.885\n",
      "Epoch:  0 | batch: 1 | i:  1300 | LR: 0.00100 | Loss Val: 233.002 | Loss Avg: 244.611\n",
      "Epoch:  0 | batch: 1 | i:  1400 | LR: 0.00100 | Loss Val: 232.904 | Loss Avg: 244.347\n",
      "Epoch:  0 | batch: 1 | i:  1500 | LR: 0.00100 | Loss Val: 232.839 | Loss Avg: 244.092\n",
      "Epoch:  0 | batch: 1 | i:  1600 | LR: 0.00100 | Loss Val: 232.785 | Loss Avg: 243.847\n",
      "Epoch:  0 | batch: 1 | i:  1700 | LR: 0.00100 | Loss Val: 232.738 | Loss Avg: 243.611\n",
      "Epoch:  0 | batch: 1 | i:  1800 | LR: 0.00100 | Loss Val: 232.724 | Loss Avg: 243.384\n",
      "Epoch:  0 | batch: 1 | i:  1900 | LR: 0.00100 | Loss Val: 232.750 | Loss Avg: 243.165\n",
      "Epoch:  0 | batch: 1 | i:  2000 | LR: 0.00010 | Loss Val: 232.649 | Loss Avg: 242.954\n",
      "Epoch:  0 | batch: 1 | i:  2100 | LR: 0.00010 | Loss Val: 232.416 | Loss Avg: 242.747\n",
      "Epoch:  0 | batch: 1 | i:  2200 | LR: 0.00010 | Loss Val: 232.413 | Loss Avg: 242.548\n",
      "Epoch:  0 | batch: 1 | i:  2300 | LR: 0.00010 | Loss Val: 232.410 | Loss Avg: 242.357\n",
      "Epoch:  0 | batch: 1 | i:  2400 | LR: 0.00010 | Loss Val: 232.400 | Loss Avg: 242.173\n",
      "Epoch:  0 | batch: 1 | i:  2500 | LR: 0.00010 | Loss Val: 232.390 | Loss Avg: 241.995\n",
      "Epoch:  0 | batch: 1 | i:  2600 | LR: 0.00010 | Loss Val: 232.377 | Loss Avg: 241.823\n",
      "Epoch:  0 | batch: 1 | i:  2700 | LR: 0.00010 | Loss Val: 232.368 | Loss Avg: 241.658\n",
      "Epoch:  0 | batch: 1 | i:  2800 | LR: 0.00010 | Loss Val: 232.369 | Loss Avg: 241.498\n",
      "Epoch:  0 | batch: 1 | i:  2900 | LR: 0.00010 | Loss Val: 232.375 | Loss Avg: 241.343\n",
      "Max_Loss: 232.3543413766638\n",
      "Epoch:  0 | batch: 2 | i:     0 | LR: 0.01000 | Loss Val: 3497.427 | Loss Avg: 241.738\n",
      "Epoch:  0 | batch: 2 | i:   100 | LR: 0.01000 | Loss Val: 365.691 | Loss Avg: 245.966\n",
      "Epoch:  0 | batch: 2 | i:   200 | LR: 0.01000 | Loss Val: 318.715 | Loss Avg: 247.357\n",
      "Epoch:  0 | batch: 2 | i:   300 | LR: 0.01000 | Loss Val: 296.577 | Loss Avg: 248.282\n",
      "Epoch:  0 | batch: 2 | i:   400 | LR: 0.01000 | Loss Val: 283.213 | Loss Avg: 248.872\n",
      "Epoch:  0 | batch: 2 | i:   500 | LR: 0.01000 | Loss Val: 285.960 | Loss Avg: 249.261\n",
      "Epoch:  0 | batch: 2 | i:   600 | LR: 0.01000 | Loss Val: 246.897 | Loss Avg: 249.599\n",
      "Epoch:  0 | batch: 2 | i:   700 | LR: 0.01000 | Loss Val: 264.495 | Loss Avg: 249.835\n",
      "Epoch:  0 | batch: 2 | i:   800 | LR: 0.01000 | Loss Val: 252.885 | Loss Avg: 249.917\n",
      "Epoch:  0 | batch: 2 | i:   900 | LR: 0.01000 | Loss Val: 262.989 | Loss Avg: 249.902\n",
      "Epoch:  0 | batch: 2 | i:  1000 | LR: 0.00100 | Loss Val: 239.698 | Loss Avg: 249.781\n",
      "Epoch:  0 | batch: 2 | i:  1100 | LR: 0.00100 | Loss Val: 210.818 | Loss Avg: 249.270\n",
      "Epoch:  0 | batch: 2 | i:  1200 | LR: 0.00100 | Loss Val: 209.098 | Loss Avg: 248.724\n",
      "Epoch:  0 | batch: 2 | i:  1300 | LR: 0.00100 | Loss Val: 208.178 | Loss Avg: 248.175\n",
      "Epoch:  0 | batch: 2 | i:  1400 | LR: 0.00100 | Loss Val: 207.416 | Loss Avg: 247.629\n",
      "Epoch:  0 | batch: 2 | i:  1500 | LR: 0.00100 | Loss Val: 207.033 | Loss Avg: 247.091\n",
      "Epoch:  0 | batch: 2 | i:  1600 | LR: 0.00100 | Loss Val: 206.598 | Loss Avg: 246.561\n",
      "Epoch:  0 | batch: 2 | i:  1700 | LR: 0.00100 | Loss Val: 206.277 | Loss Avg: 246.041\n",
      "Epoch:  0 | batch: 2 | i:  1800 | LR: 0.00100 | Loss Val: 206.018 | Loss Avg: 245.529\n",
      "Epoch:  0 | batch: 2 | i:  1900 | LR: 0.00100 | Loss Val: 205.763 | Loss Avg: 245.027\n",
      "Epoch:  0 | batch: 2 | i:  2000 | LR: 0.00010 | Loss Val: 205.545 | Loss Avg: 244.535\n",
      "Epoch:  0 | batch: 2 | i:  2100 | LR: 0.00010 | Loss Val: 205.354 | Loss Avg: 244.051\n",
      "Epoch:  0 | batch: 2 | i:  2200 | LR: 0.00010 | Loss Val: 205.329 | Loss Avg: 243.579\n",
      "Epoch:  0 | batch: 2 | i:  2300 | LR: 0.00010 | Loss Val: 205.307 | Loss Avg: 243.118\n",
      "Epoch:  0 | batch: 2 | i:  2400 | LR: 0.00010 | Loss Val: 205.294 | Loss Avg: 242.668\n",
      "Epoch:  0 | batch: 2 | i:  2500 | LR: 0.00010 | Loss Val: 205.271 | Loss Avg: 242.229\n",
      "Epoch:  0 | batch: 2 | i:  2600 | LR: 0.00010 | Loss Val: 205.247 | Loss Avg: 241.799\n",
      "Epoch:  0 | batch: 2 | i:  2700 | LR: 0.00010 | Loss Val: 205.228 | Loss Avg: 241.379\n",
      "Epoch:  0 | batch: 2 | i:  2800 | LR: 0.00010 | Loss Val: 205.215 | Loss Avg: 240.968\n",
      "Epoch:  0 | batch: 2 | i:  2900 | LR: 0.00010 | Loss Val: 205.201 | Loss Avg: 240.566\n",
      "Max_Loss: 205.17346189651653\n",
      "Number of poison samples generated: 75\n"
     ]
    }
   ],
   "source": [
    "from art.attacks.poisoning import HiddenTriggerBackdoor\n",
    "poison_attack = HiddenTriggerBackdoor(classifier, eps=16/255, target=target, source=source, feature_layer=9, backdoor=backdoor, learning_rate=0.01, decay_coeff = .1, decay_iter = 1000, max_iter=3000, batch_size=25, poison_percent=.015)\n",
    "\n",
    "poison_data, poison_indices = poison_attack.poison(x_train, y_train)\n",
    "print(\"Number of poison samples generated:\", len(poison_data))"
   ]
  },
  {
   "cell_type": "markdown",
   "metadata": {},
   "source": [
    "## Finetune the Model\n",
    "Now, we must finetune the model using the poisoned data and a small number of clean training inputs.  Here, we randomly select an equal number of training inputs from each of the classes."
   ]
  },
  {
   "cell_type": "code",
   "execution_count": 9,
   "metadata": {
    "scrolled": true
   },
   "outputs": [],
   "source": [
    "# Create finetuning dataset\n",
    "dataset_size = 2500\n",
    "num_classes = 10\n",
    "num_per_class = dataset_size/num_classes\n",
    "\n",
    "poison_dataset_inds = []\n",
    "\n",
    "for i in range(num_classes):\n",
    "    class_inds = np.where(np.argmax(y_train,axis=1) == i)[0]\n",
    "    num_select = int(num_per_class)\n",
    "    if np.argmax(target) == i:\n",
    "        num_select = int(num_select - min(num_per_class,len(poison_data)))\n",
    "        poison_dataset_inds.append(poison_indices)\n",
    "        \n",
    "    if num_select != 0:\n",
    "        poison_dataset_inds.append(np.random.choice(class_inds, num_select, replace=False))\n",
    "    \n",
    "poison_dataset_inds = np.concatenate(poison_dataset_inds)\n",
    "\n",
    "poison_x = np.copy(x_train)\n",
    "poison_x[poison_indices] = poison_data\n",
    "poison_x = poison_x[poison_dataset_inds]\n",
    "\n",
    "poison_y = np.copy(y_train)[poison_dataset_inds]"
   ]
  },
  {
   "cell_type": "code",
   "execution_count": 10,
   "metadata": {},
   "outputs": [
    {
     "name": "stdout",
     "output_type": "stream",
     "text": [
      "Model: \"sequential\"\n",
      "_________________________________________________________________\n",
      "Layer (type)                 Output Shape              Param #   \n",
      "=================================================================\n",
      "conv2d (Conv2D)              (None, 32, 32, 32)        896       \n",
      "_________________________________________________________________\n",
      "conv2d_1 (Conv2D)            (None, 30, 30, 32)        9248      \n",
      "_________________________________________________________________\n",
      "max_pooling2d (MaxPooling2D) (None, 15, 15, 32)        0         \n",
      "_________________________________________________________________\n",
      "dropout (Dropout)            (None, 15, 15, 32)        0         \n",
      "_________________________________________________________________\n",
      "conv2d_2 (Conv2D)            (None, 15, 15, 64)        18496     \n",
      "_________________________________________________________________\n",
      "conv2d_3 (Conv2D)            (None, 13, 13, 64)        36928     \n",
      "_________________________________________________________________\n",
      "max_pooling2d_1 (MaxPooling2 (None, 6, 6, 64)          0         \n",
      "_________________________________________________________________\n",
      "dropout_1 (Dropout)          (None, 6, 6, 64)          0         \n",
      "_________________________________________________________________\n",
      "flatten (Flatten)            (None, 2304)              0         \n",
      "_________________________________________________________________\n",
      "dense (Dense)                (None, 512)               1180160   \n",
      "_________________________________________________________________\n",
      "dropout_2 (Dropout)          (None, 512)               0         \n",
      "_________________________________________________________________\n",
      "dense_1 (Dense)              (None, 10)                5130      \n",
      "=================================================================\n",
      "Total params: 1,250,858\n",
      "Trainable params: 0\n",
      "Non-trainable params: 1,250,858\n",
      "_________________________________________________________________\n"
     ]
    }
   ],
   "source": [
    "model = tf.keras.models.load_model(temp_model_dir.name + '/keras_model')\n",
    "temp_model_dir.cleanup() # Remove the temporary directory after loading the checkpoint\n",
    "\n",
    "model.trainable = False\n",
    "model.compile(loss=losses.CategoricalCrossentropy(from_logits=True), optimizer=\"adam\", metrics=[\"accuracy\"])\n",
    "model.summary()"
   ]
  },
  {
   "cell_type": "code",
   "execution_count": 11,
   "metadata": {},
   "outputs": [
    {
     "name": "stdout",
     "output_type": "stream",
     "text": [
      "Accuracy on benign test examples: 76.83%\n"
     ]
    }
   ],
   "source": [
    "classifier = KerasClassifier(clip_values=(min_, max_), model=model)\n",
    "predictions = classifier.predict(x_test)\n",
    "accuracy = np.sum(np.argmax(predictions, axis=1) == np.argmax(y_test, axis=1)) / len(y_test)\n",
    "print(\"Accuracy on benign test examples: {}%\".format(accuracy * 100))"
   ]
  },
  {
   "cell_type": "code",
   "execution_count": 12,
   "metadata": {
    "scrolled": true
   },
   "outputs": [
    {
     "name": "stdout",
     "output_type": "stream",
     "text": [
      "Model: \"model\"\n",
      "_________________________________________________________________\n",
      "Layer (type)                 Output Shape              Param #   \n",
      "=================================================================\n",
      "conv2d_input (InputLayer)    [(None, 32, 32, 3)]       0         \n",
      "_________________________________________________________________\n",
      "conv2d (Conv2D)              (None, 32, 32, 32)        896       \n",
      "_________________________________________________________________\n",
      "conv2d_1 (Conv2D)            (None, 30, 30, 32)        9248      \n",
      "_________________________________________________________________\n",
      "max_pooling2d (MaxPooling2D) (None, 15, 15, 32)        0         \n",
      "_________________________________________________________________\n",
      "dropout (Dropout)            (None, 15, 15, 32)        0         \n",
      "_________________________________________________________________\n",
      "conv2d_2 (Conv2D)            (None, 15, 15, 64)        18496     \n",
      "_________________________________________________________________\n",
      "conv2d_3 (Conv2D)            (None, 13, 13, 64)        36928     \n",
      "_________________________________________________________________\n",
      "max_pooling2d_1 (MaxPooling2 (None, 6, 6, 64)          0         \n",
      "_________________________________________________________________\n",
      "dropout_1 (Dropout)          (None, 6, 6, 64)          0         \n",
      "_________________________________________________________________\n",
      "flatten (Flatten)            (None, 2304)              0         \n",
      "_________________________________________________________________\n",
      "dense (Dense)                (None, 512)               1180160   \n",
      "_________________________________________________________________\n",
      "dropout_2 (Dropout)          (None, 512)               0         \n",
      "_________________________________________________________________\n",
      "dense_2 (Dense)              (None, 10)                5130      \n",
      "=================================================================\n",
      "Total params: 1,250,858\n",
      "Trainable params: 5,130\n",
      "Non-trainable params: 1,245,728\n",
      "_________________________________________________________________\n"
     ]
    }
   ],
   "source": [
    "finetune_model = tf.keras.layers.Dense(10)(model.layers[-2].output)\n",
    "finetune_model = tf.keras.Model(inputs=model.inputs, outputs=finetune_model)\n",
    "finetune_model.summary()\n",
    "\n",
    "lr = 0.5\n",
    "optimizer = tf.keras.optimizers.Adam(learning_rate=lr)\n",
    "\n",
    "finetune_model.compile(loss=losses.CategoricalCrossentropy(from_logits=True), optimizer=optimizer, metrics=[\"accuracy\"])\n",
    "finetune_classifier = KerasClassifier(clip_values=(min_, max_), model=finetune_model, use_logits=True)"
   ]
  },
  {
   "cell_type": "code",
   "execution_count": 13,
   "metadata": {},
   "outputs": [
    {
     "name": "stdout",
     "output_type": "stream",
     "text": [
      "Accuracy on benign test examples: 5.19%\n",
      "Accuracy on benign trigger test examples: 2.8000000000000003%\n",
      "Accuracy on poison trigger test examples: 4.0%\n",
      "Success on poison trigger test examples: 12.2%\n",
      "\n",
      "Training Epoch 0\n",
      "Train on 2500 samples\n",
      "2500/2500 [==============================] - 0s 99us/sample - loss: 7.3416 - accuracy: 0.6140\n",
      "Accuracy on benign test examples: 70.53%\n",
      "Accuracy on benign trigger test examples: 62.9%\n",
      "Accuracy on poison trigger test examples: 25.2%\n",
      "Success on poison trigger test examples: 33.4%\n",
      "\n",
      "Training Epoch 1\n",
      "Train on 2500 samples\n",
      "2500/2500 [==============================] - 0s 94us/sample - loss: 6.8855 - accuracy: 0.7032\n",
      "Accuracy on benign test examples: 74.77000000000001%\n",
      "Accuracy on benign trigger test examples: 48.199999999999996%\n",
      "Accuracy on poison trigger test examples: 15.299999999999999%\n",
      "Success on poison trigger test examples: 45.300000000000004%\n",
      "\n",
      "Training Epoch 2\n",
      "Train on 2500 samples\n",
      "2500/2500 [==============================] - 0s 95us/sample - loss: 5.9205 - accuracy: 0.7124\n",
      "Accuracy on benign test examples: 74.79%\n",
      "Accuracy on benign trigger test examples: 49.4%\n",
      "Accuracy on poison trigger test examples: 15.8%\n",
      "Success on poison trigger test examples: 44.2%\n",
      "\n",
      "Training Epoch 3\n",
      "Train on 2500 samples\n",
      "2500/2500 [==============================] - 0s 85us/sample - loss: 5.9897 - accuracy: 0.7176\n"
     ]
    }
   ],
   "source": [
    "trigger_test_inds = np.where(np.all(y_test == source, axis=1))[0]\n",
    "\n",
    "test_poisoned_samples, test_poisoned_labels  = backdoor.poison(x_test[trigger_test_inds], y_test[trigger_test_inds])\n",
    "\n",
    "\n",
    "for i in range(4):\n",
    "    predictions = finetune_classifier.predict(x_test)\n",
    "    accuracy = np.sum(np.argmax(predictions, axis=1) == np.argmax(y_test, axis=1)) / len(y_test)\n",
    "    print(\"Accuracy on benign test examples: {}%\".format(accuracy * 100))\n",
    "    \n",
    "    predictions = finetune_classifier.predict(x_test[trigger_test_inds])\n",
    "    b_accuracy = np.sum(np.argmax(predictions, axis=1) == np.argmax(y_test[trigger_test_inds], axis=1)) / len(trigger_test_inds)\n",
    "    print(\"Accuracy on benign trigger test examples: {}%\".format(b_accuracy * 100))\n",
    "    \n",
    "    predictions = finetune_classifier.predict(test_poisoned_samples)\n",
    "    p_accuracy = np.sum(np.argmax(predictions, axis=1) == np.argmax(test_poisoned_labels,axis=1)) / len(test_poisoned_labels)\n",
    "    print(\"Accuracy on poison trigger test examples: {}%\".format(p_accuracy * 100))\n",
    "    p_success = np.sum(np.argmax(predictions, axis=1) == np.argmax(target)) / len(test_poisoned_labels)\n",
    "    print(\"Success on poison trigger test examples: {}%\".format(p_success * 100))\n",
    "    print()\n",
    "    print(\"Training Epoch\", i)\n",
    "    if i != 0:\n",
    "        lr *= 0.1\n",
    "        optimizer = tf.keras.optimizers.Adam(learning_rate=lr)\n",
    "        finetune_model.compile(loss=losses.CategoricalCrossentropy(from_logits=True), optimizer=optimizer, metrics=[\"accuracy\"])\n",
    "    finetune_classifier = KerasClassifier(clip_values=(min_, max_), model=finetune_model, use_logits=True)\n",
    "\n",
    "    finetune_classifier.fit(poison_x, poison_y, nb_epochs=1)\n"
   ]
  },
  {
   "cell_type": "code",
   "execution_count": 14,
   "metadata": {},
   "outputs": [
    {
     "name": "stdout",
     "output_type": "stream",
     "text": [
      "Final Performance\n",
      "Accuracy on benign test examples: 74.85000000000001%\n",
      "Accuracy on benign trigger test examples: 49.7%\n",
      "Accuracy on poison trigger test examples: 16.0%\n",
      "Success on poison trigger test examples: 44.0%\n"
     ]
    }
   ],
   "source": [
    "print(\"Final Performance\")\n",
    "predictions = finetune_classifier.predict(x_test)\n",
    "accuracy = np.sum(np.argmax(predictions, axis=1) == np.argmax(y_test, axis=1)) / len(y_test)\n",
    "print(\"Accuracy on benign test examples: {}%\".format(accuracy * 100))\n",
    "\n",
    "predictions = finetune_classifier.predict(x_test[trigger_test_inds])\n",
    "b_accuracy = np.sum(np.argmax(predictions, axis=1) == np.argmax(y_test[trigger_test_inds], axis=1)) / len(trigger_test_inds)\n",
    "print(\"Accuracy on benign trigger test examples: {}%\".format(b_accuracy * 100))\n",
    "\n",
    "predictions = finetune_classifier.predict(test_poisoned_samples)\n",
    "p_accuracy = np.sum(np.argmax(predictions, axis=1) == np.argmax(test_poisoned_labels,axis=1)) / len(test_poisoned_labels)\n",
    "print(\"Accuracy on poison trigger test examples: {}%\".format(p_accuracy * 100))\n",
    "p_success = np.sum(np.argmax(predictions, axis=1) == np.argmax(target)) / len(test_poisoned_labels)\n",
    "print(\"Success on poison trigger test examples: {}%\".format(p_success * 100))"
   ]
  },
  {
   "cell_type": "code",
   "execution_count": null,
   "metadata": {},
   "outputs": [],
   "source": []
  }
 ],
 "metadata": {
  "kernelspec": {
   "display_name": "Python 3 (ipykernel)",
   "language": "python",
   "name": "python3"
  },
  "language_info": {
   "codemirror_mode": {
    "name": "ipython",
    "version": 3
   },
   "file_extension": ".py",
   "mimetype": "text/x-python",
   "name": "python",
   "nbconvert_exporter": "python",
   "pygments_lexer": "ipython3",
   "version": "3.9.7"
  }
 },
 "nbformat": 4,
 "nbformat_minor": 4
}
