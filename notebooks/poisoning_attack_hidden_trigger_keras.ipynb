{
 "cells": [
  {
   "cell_type": "code",
   "execution_count": 1,
   "metadata": {},
   "outputs": [
    {
     "name": "stdout",
     "output_type": "stream",
     "text": [
      "Temporary directory not created yet\n",
      "Temporary directory: /tmp/tmpgyr6fjwu\n"
     ]
    }
   ],
   "source": [
    "import os, sys\n",
    "from os.path import abspath\n",
    "\n",
    "module_path = os.path.abspath(os.path.join('..'))\n",
    "if module_path not in sys.path:\n",
    "    sys.path.append(module_path)\n",
    "\n",
    "import warnings\n",
    "warnings.filterwarnings('ignore')\n",
    "\n",
    "import tempfile\n",
    "# Create a temporary directory for the model checkpoint. Remove the exising one if this cell is rerun\n",
    "try:\n",
    "    temp_model_dir.cleanup()\n",
    "except NameError:\n",
    "    print(\"Temporary directory not created yet\")\n",
    "finally:\n",
    "    temp_model_dir = tempfile.TemporaryDirectory() \n",
    "    print(\"Temporary directory:\", temp_model_dir.name)"
   ]
  },
  {
   "cell_type": "markdown",
   "metadata": {},
   "source": [
    "## Load Dataset and Model\n",
    "We will load the CIFAR10 dataset and a pre-trained alexnet model."
   ]
  },
  {
   "cell_type": "code",
   "execution_count": 2,
   "metadata": {},
   "outputs": [],
   "source": [
    "from art.utils import load_dataset\n",
    "import numpy as np\n",
    "(x_train, y_train), (x_test, y_test), min_, max_ = load_dataset('cifar10')"
   ]
  },
  {
   "cell_type": "code",
   "execution_count": 3,
   "metadata": {},
   "outputs": [
    {
     "name": "stdout",
     "output_type": "stream",
     "text": [
      "Model: \"sequential\"\n",
      "_________________________________________________________________\n",
      "Layer (type)                 Output Shape              Param #   \n",
      "=================================================================\n",
      "conv2d (Conv2D)              (None, 32, 32, 32)        896       \n",
      "_________________________________________________________________\n",
      "conv2d_1 (Conv2D)            (None, 30, 30, 32)        9248      \n",
      "_________________________________________________________________\n",
      "max_pooling2d (MaxPooling2D) (None, 15, 15, 32)        0         \n",
      "_________________________________________________________________\n",
      "dropout (Dropout)            (None, 15, 15, 32)        0         \n",
      "_________________________________________________________________\n",
      "conv2d_2 (Conv2D)            (None, 15, 15, 64)        18496     \n",
      "_________________________________________________________________\n",
      "conv2d_3 (Conv2D)            (None, 13, 13, 64)        36928     \n",
      "_________________________________________________________________\n",
      "max_pooling2d_1 (MaxPooling2 (None, 6, 6, 64)          0         \n",
      "_________________________________________________________________\n",
      "dropout_1 (Dropout)          (None, 6, 6, 64)          0         \n",
      "_________________________________________________________________\n",
      "flatten (Flatten)            (None, 2304)              0         \n",
      "_________________________________________________________________\n",
      "dense (Dense)                (None, 512)               1180160   \n",
      "_________________________________________________________________\n",
      "dropout_2 (Dropout)          (None, 512)               0         \n",
      "_________________________________________________________________\n",
      "dense_1 (Dense)              (None, 10)                5130      \n",
      "=================================================================\n",
      "Total params: 1,250,858\n",
      "Trainable params: 1,250,858\n",
      "Non-trainable params: 0\n",
      "_________________________________________________________________\n"
     ]
    },
    {
     "name": "stderr",
     "output_type": "stream",
     "text": [
      "2022-02-03 18:45:48.645082: I tensorflow/stream_executor/cuda/cuda_gpu_executor.cc:937] successful NUMA node read from SysFS had negative value (-1), but there must be at least one NUMA node, so returning NUMA node zero\n",
      "2022-02-03 18:45:48.653860: I tensorflow/stream_executor/cuda/cuda_gpu_executor.cc:937] successful NUMA node read from SysFS had negative value (-1), but there must be at least one NUMA node, so returning NUMA node zero\n",
      "2022-02-03 18:45:48.654778: I tensorflow/stream_executor/cuda/cuda_gpu_executor.cc:937] successful NUMA node read from SysFS had negative value (-1), but there must be at least one NUMA node, so returning NUMA node zero\n"
     ]
    }
   ],
   "source": [
    "import tensorflow as tf\n",
    "tf.compat.v1.disable_eager_execution()\n",
    "from tensorflow.keras import datasets, layers, models, losses\n",
    "\n",
    "num_classes=10\n",
    "feature_size=4096\n",
    "model = models.Sequential()\n",
    "\n",
    "# Create Keras convolutional neural network - basic architecture from Keras examples\n",
    "# Source here: https://github.com/keras-team/keras/blob/master/examples/cifar10_cnn.py\n",
    "model.add(layers.Conv2D(32, (3, 3), padding=\"same\", activation='relu', input_shape=x_train.shape[1:]))\n",
    "model.add(layers.Conv2D(32, (3, 3), activation='relu'))\n",
    "model.add(layers.MaxPooling2D(pool_size=(2, 2)))\n",
    "model.add(layers.Dropout(0.25))\n",
    "\n",
    "model.add(layers.Conv2D(64, (3, 3), padding=\"same\", activation='relu'))\n",
    "model.add(layers.Conv2D(64, (3, 3), activation='relu'))\n",
    "model.add(layers.MaxPooling2D(pool_size=(2, 2)))\n",
    "model.add(layers.Dropout(0.25))\n",
    "\n",
    "model.add(layers.Flatten())\n",
    "model.add(layers.Dense(512, activation='relu'))\n",
    "model.add(layers.Dropout(0.5))\n",
    "model.add(layers.Dense(10))\n",
    "\n",
    "model.compile(loss=losses.CategoricalCrossentropy(from_logits=True), optimizer=\"adam\", metrics=[\"accuracy\"])\n",
    "    \n",
    "\n",
    "model.summary()"
   ]
  },
  {
   "cell_type": "code",
   "execution_count": 4,
   "metadata": {},
   "outputs": [],
   "source": [
    "from art.estimators.classification import KerasClassifier\n",
    "\n",
    "classifier = KerasClassifier(clip_values=(min_, max_), model=model, use_logits=True)"
   ]
  },
  {
   "cell_type": "code",
   "execution_count": 5,
   "metadata": {
    "scrolled": true
   },
   "outputs": [
    {
     "name": "stdout",
     "output_type": "stream",
     "text": [
      "Train on 50000 samples\n"
     ]
    },
    {
     "name": "stderr",
     "output_type": "stream",
     "text": [
      "2022-02-03 18:45:50.668621: I tensorflow/core/platform/cpu_feature_guard.cc:142] This TensorFlow binary is optimized with oneAPI Deep Neural Network Library (oneDNN) to use the following CPU instructions in performance-critical operations:  AVX2 FMA\n",
      "To enable them in other operations, rebuild TensorFlow with the appropriate compiler flags.\n",
      "2022-02-03 18:45:50.670256: I tensorflow/stream_executor/cuda/cuda_gpu_executor.cc:937] successful NUMA node read from SysFS had negative value (-1), but there must be at least one NUMA node, so returning NUMA node zero\n",
      "2022-02-03 18:45:50.671166: I tensorflow/stream_executor/cuda/cuda_gpu_executor.cc:937] successful NUMA node read from SysFS had negative value (-1), but there must be at least one NUMA node, so returning NUMA node zero\n",
      "2022-02-03 18:45:50.671977: I tensorflow/stream_executor/cuda/cuda_gpu_executor.cc:937] successful NUMA node read from SysFS had negative value (-1), but there must be at least one NUMA node, so returning NUMA node zero\n",
      "2022-02-03 18:45:51.267407: I tensorflow/stream_executor/cuda/cuda_gpu_executor.cc:937] successful NUMA node read from SysFS had negative value (-1), but there must be at least one NUMA node, so returning NUMA node zero\n",
      "2022-02-03 18:45:51.268299: I tensorflow/stream_executor/cuda/cuda_gpu_executor.cc:937] successful NUMA node read from SysFS had negative value (-1), but there must be at least one NUMA node, so returning NUMA node zero\n",
      "2022-02-03 18:45:51.269125: I tensorflow/stream_executor/cuda/cuda_gpu_executor.cc:937] successful NUMA node read from SysFS had negative value (-1), but there must be at least one NUMA node, so returning NUMA node zero\n",
      "2022-02-03 18:45:51.269921: I tensorflow/core/common_runtime/gpu/gpu_device.cc:1510] Created device /job:localhost/replica:0/task:0/device:GPU:0 with 15405 MB memory:  -> device: 0, name: NVIDIA Tesla P100-PCIE-16GB, pci bus id: 0000:00:06.0, compute capability: 6.0\n"
     ]
    },
    {
     "name": "stdout",
     "output_type": "stream",
     "text": [
      "Epoch 1/10\n"
     ]
    },
    {
     "name": "stderr",
     "output_type": "stream",
     "text": [
      "2022-02-03 18:45:52.253292: I tensorflow/stream_executor/cuda/cuda_dnn.cc:369] Loaded cuDNN version 8201\n",
      "2022-02-03 18:45:52.602551: I tensorflow/core/platform/default/subprocess.cc:304] Start cannot spawn child process: No such file or directory\n"
     ]
    },
    {
     "name": "stdout",
     "output_type": "stream",
     "text": [
      "50000/50000 [==============================] - 6s 112us/sample - loss: 1.6583 - accuracy: 0.3908\n",
      "Epoch 2/10\n",
      "50000/50000 [==============================] - 4s 80us/sample - loss: 1.2580 - accuracy: 0.5521\n",
      "Epoch 3/10\n",
      "50000/50000 [==============================] - 4s 81us/sample - loss: 1.0841 - accuracy: 0.6122\n",
      "Epoch 4/10\n",
      "50000/50000 [==============================] - 4s 81us/sample - loss: 0.9744 - accuracy: 0.6556\n",
      "Epoch 5/10\n",
      "50000/50000 [==============================] - 4s 81us/sample - loss: 0.8907 - accuracy: 0.6866\n",
      "Epoch 6/10\n",
      "50000/50000 [==============================] - 4s 83us/sample - loss: 0.8340 - accuracy: 0.7065\n",
      "Epoch 7/10\n",
      "50000/50000 [==============================] - 4s 82us/sample - loss: 0.7838 - accuracy: 0.7247\n",
      "Epoch 8/10\n",
      "50000/50000 [==============================] - 4s 82us/sample - loss: 0.7429 - accuracy: 0.7395\n",
      "Epoch 9/10\n",
      "50000/50000 [==============================] - 4s 82us/sample - loss: 0.7024 - accuracy: 0.7539\n",
      "Epoch 10/10\n",
      "50000/50000 [==============================] - 4s 81us/sample - loss: 0.6711 - accuracy: 0.7650\n"
     ]
    },
    {
     "name": "stderr",
     "output_type": "stream",
     "text": [
      "2022-02-03 18:46:34.089320: I tensorflow/stream_executor/cuda/cuda_gpu_executor.cc:937] successful NUMA node read from SysFS had negative value (-1), but there must be at least one NUMA node, so returning NUMA node zero\n",
      "2022-02-03 18:46:34.089693: I tensorflow/stream_executor/cuda/cuda_gpu_executor.cc:937] successful NUMA node read from SysFS had negative value (-1), but there must be at least one NUMA node, so returning NUMA node zero\n",
      "2022-02-03 18:46:34.089936: I tensorflow/stream_executor/cuda/cuda_gpu_executor.cc:937] successful NUMA node read from SysFS had negative value (-1), but there must be at least one NUMA node, so returning NUMA node zero\n",
      "2022-02-03 18:46:34.090266: I tensorflow/stream_executor/cuda/cuda_gpu_executor.cc:937] successful NUMA node read from SysFS had negative value (-1), but there must be at least one NUMA node, so returning NUMA node zero\n",
      "2022-02-03 18:46:34.090511: I tensorflow/stream_executor/cuda/cuda_gpu_executor.cc:937] successful NUMA node read from SysFS had negative value (-1), but there must be at least one NUMA node, so returning NUMA node zero\n",
      "2022-02-03 18:46:34.090708: I tensorflow/core/common_runtime/gpu/gpu_device.cc:1510] Created device /job:localhost/replica:0/task:0/device:GPU:0 with 15405 MB memory:  -> device: 0, name: NVIDIA Tesla P100-PCIE-16GB, pci bus id: 0000:00:06.0, compute capability: 6.0\n",
      "2022-02-03 18:46:34.638310: W tensorflow/python/util/util.cc:348] Sets are not currently considered sequences, but this may change in the future, so consider avoiding using them.\n"
     ]
    },
    {
     "name": "stdout",
     "output_type": "stream",
     "text": [
      "INFO:tensorflow:Assets written to: /tmp/tmpgyr6fjwu/keras_model/assets\n"
     ]
    }
   ],
   "source": [
    "#classifier.fit(x_train, y_train, nb_epochs=200, batch_size=128, verbose=True)\n",
    "classifier.fit(x_train, y_train, nb_epochs=10, batch_size=128)\n",
    "model.save(temp_model_dir.name + '/keras_model')"
   ]
  },
  {
   "cell_type": "code",
   "execution_count": 6,
   "metadata": {},
   "outputs": [
    {
     "name": "stdout",
     "output_type": "stream",
     "text": [
      "Accuracy on benign test examples: 76.08%\n"
     ]
    }
   ],
   "source": [
    "predictions = classifier.predict(x_test)\n",
    "accuracy = np.sum(np.argmax(predictions, axis=1) == np.argmax(y_test, axis=1)) / len(y_test)\n",
    "print(\"Accuracy on benign test examples: {}%\".format(accuracy * 100))"
   ]
  },
  {
   "cell_type": "markdown",
   "metadata": {},
   "source": [
    "## Generate the Poison\n",
    "We now will generate the poison using the hidden trigger backdoor attack. First, we define the target and source classes as well as the backdoor trigger. The target class will be the class we want to insert poisoned data into. The source class will be the class we will add a trigger to in order to cause misclassification into the target.\n",
    "\n",
    "The backdoor trigger will be a small image patch inserted into the source class images. At test time, we should be able to use this trigger to cause the classifier to misclassify source class images with the trigger added as the target class."
   ]
  },
  {
   "cell_type": "code",
   "execution_count": 7,
   "metadata": {},
   "outputs": [],
   "source": [
    "from art.attacks.poisoning.backdoor_attack import PoisoningAttackBackdoor\n",
    "target = np.array([0,0,0,0,1,0,0,0,0,0])\n",
    "source = np.array([0,0,0,1,0,0,0,0,0,0])\n",
    "\n",
    "# Backdoor Trigger Parameters\n",
    "patch_size = 8\n",
    "x_shift = 32 - patch_size - 5\n",
    "y_shift = 32 - patch_size - 5\n",
    "\n",
    "# Define the backdoor poisoning object. Calling backdoor.poison(x) will insert the trigger into x.\n",
    "from art.attacks.poisoning import perturbations\n",
    "def mod(x):\n",
    "    original_dtype = x.dtype\n",
    "    x = perturbations.insert_image(x, backdoor_path=\"../utils/data/backdoors/htbd.png\",\n",
    "                                   channels_first=False, random=False, x_shift=x_shift, y_shift=y_shift,\n",
    "                                   size=(patch_size,patch_size), mode='RGB', blend=1)\n",
    "    return x.astype(original_dtype)\n",
    "backdoor = PoisoningAttackBackdoor(mod)"
   ]
  },
  {
   "cell_type": "markdown",
   "metadata": {},
   "source": [
    "Here we run the attack. `eps` controls how much the target images can be perturbed with respect to an l-infinity distance. `feature_layer` dicates with layer's output will be used to define the attack's loss. It can either be the name of the layer or the layer index according to the ART estimator. `poison_percent` controls how many poisoned samples will be generated based on the size of the input data.\n",
    "\n",
    "The attack will return poisoned inputs of the target class and the indicies in the data that those poisoned inputs should replace."
   ]
  },
  {
   "cell_type": "code",
   "execution_count": 8,
   "metadata": {},
   "outputs": [
    {
     "data": {
      "application/vnd.jupyter.widget-view+json": {
       "model_id": "dabce960e4924e36bc710ac66dd8ede8",
       "version_major": 2,
       "version_minor": 0
      },
      "text/plain": [
       "Hidden Trigger:   0%|          | 0/3 [00:00<?, ?it/s]"
      ]
     },
     "metadata": {},
     "output_type": "display_data"
    },
    {
     "name": "stdout",
     "output_type": "stream",
     "text": [
      "Epoch:  0 | batch: 0 | i:     0 | LR: 0.01000 | Loss Val: 2474.806 | Loss Avg: 2474.806\n",
      "Epoch:  0 | batch: 0 | i:   100 | LR: 0.01000 | Loss Val: 294.080 | Loss Avg: 422.604\n",
      "Epoch:  0 | batch: 0 | i:   200 | LR: 0.01000 | Loss Val: 255.313 | Loss Avg: 348.696\n",
      "Epoch:  0 | batch: 0 | i:   300 | LR: 0.01000 | Loss Val: 244.366 | Loss Avg: 316.071\n",
      "Epoch:  0 | batch: 0 | i:   400 | LR: 0.01000 | Loss Val: 239.486 | Loss Avg: 297.745\n",
      "Epoch:  0 | batch: 0 | i:   500 | LR: 0.01000 | Loss Val: 235.223 | Loss Avg: 285.758\n",
      "Epoch:  0 | batch: 0 | i:   600 | LR: 0.01000 | Loss Val: 225.865 | Loss Avg: 276.292\n",
      "Epoch:  0 | batch: 0 | i:   700 | LR: 0.01000 | Loss Val: 216.992 | Loss Avg: 268.280\n",
      "Epoch:  0 | batch: 0 | i:   800 | LR: 0.01000 | Loss Val: 213.521 | Loss Avg: 261.679\n",
      "Epoch:  0 | batch: 0 | i:   900 | LR: 0.01000 | Loss Val: 216.989 | Loss Avg: 256.491\n",
      "Epoch:  0 | batch: 0 | i:  1000 | LR: 0.00100 | Loss Val: 212.359 | Loss Avg: 252.229\n",
      "Epoch:  0 | batch: 0 | i:  1100 | LR: 0.00100 | Loss Val: 208.129 | Loss Avg: 248.250\n",
      "Epoch:  0 | batch: 0 | i:  1200 | LR: 0.00100 | Loss Val: 207.848 | Loss Avg: 244.896\n",
      "Epoch:  0 | batch: 0 | i:  1300 | LR: 0.00100 | Loss Val: 207.738 | Loss Avg: 242.044\n",
      "Epoch:  0 | batch: 0 | i:  1400 | LR: 0.00100 | Loss Val: 207.635 | Loss Avg: 239.591\n",
      "Epoch:  0 | batch: 0 | i:  1500 | LR: 0.00100 | Loss Val: 207.504 | Loss Avg: 237.458\n",
      "Epoch:  0 | batch: 0 | i:  1600 | LR: 0.00100 | Loss Val: 207.488 | Loss Avg: 235.587\n",
      "Epoch:  0 | batch: 0 | i:  1700 | LR: 0.00100 | Loss Val: 207.338 | Loss Avg: 233.931\n",
      "Epoch:  0 | batch: 0 | i:  1800 | LR: 0.00100 | Loss Val: 207.363 | Loss Avg: 232.455\n",
      "Epoch:  0 | batch: 0 | i:  1900 | LR: 0.00100 | Loss Val: 207.238 | Loss Avg: 231.131\n",
      "Epoch:  0 | batch: 0 | i:  2000 | LR: 0.00010 | Loss Val: 207.217 | Loss Avg: 229.936\n",
      "Epoch:  0 | batch: 0 | i:  2100 | LR: 0.00010 | Loss Val: 207.102 | Loss Avg: 228.850\n",
      "Epoch:  0 | batch: 0 | i:  2200 | LR: 0.00010 | Loss Val: 207.104 | Loss Avg: 227.862\n",
      "Epoch:  0 | batch: 0 | i:  2300 | LR: 0.00010 | Loss Val: 207.096 | Loss Avg: 226.959\n",
      "Epoch:  0 | batch: 0 | i:  2400 | LR: 0.00010 | Loss Val: 207.087 | Loss Avg: 226.132\n",
      "Epoch:  0 | batch: 0 | i:  2500 | LR: 0.00010 | Loss Val: 207.089 | Loss Avg: 225.370\n",
      "Epoch:  0 | batch: 0 | i:  2600 | LR: 0.00010 | Loss Val: 207.077 | Loss Avg: 224.667\n",
      "Epoch:  0 | batch: 0 | i:  2700 | LR: 0.00010 | Loss Val: 207.074 | Loss Avg: 224.016\n",
      "Epoch:  0 | batch: 0 | i:  2800 | LR: 0.00010 | Loss Val: 207.071 | Loss Avg: 223.411\n",
      "Epoch:  0 | batch: 0 | i:  2900 | LR: 0.00010 | Loss Val: 207.059 | Loss Avg: 222.848\n",
      "Max_Loss: 207.0552030294939\n",
      "Epoch:  0 | batch: 1 | i:     0 | LR: 0.01000 | Loss Val: 2655.428 | Loss Avg: 223.138\n",
      "Epoch:  0 | batch: 1 | i:   100 | LR: 0.01000 | Loss Val: 285.145 | Loss Avg: 227.940\n",
      "Epoch:  0 | batch: 1 | i:   200 | LR: 0.01000 | Loss Val: 268.882 | Loss Avg: 229.400\n",
      "Epoch:  0 | batch: 1 | i:   300 | LR: 0.01000 | Loss Val: 258.345 | Loss Avg: 230.418\n",
      "Epoch:  0 | batch: 1 | i:   400 | LR: 0.01000 | Loss Val: 255.152 | Loss Avg: 231.225\n",
      "Epoch:  0 | batch: 1 | i:   500 | LR: 0.01000 | Loss Val: 254.386 | Loss Avg: 231.890\n",
      "Epoch:  0 | batch: 1 | i:   600 | LR: 0.01000 | Loss Val: 252.375 | Loss Avg: 232.535\n",
      "Epoch:  0 | batch: 1 | i:   700 | LR: 0.01000 | Loss Val: 252.064 | Loss Avg: 233.129\n",
      "Epoch:  0 | batch: 1 | i:   800 | LR: 0.01000 | Loss Val: 252.263 | Loss Avg: 233.627\n",
      "Epoch:  0 | batch: 1 | i:   900 | LR: 0.01000 | Loss Val: 250.995 | Loss Avg: 234.100\n",
      "Epoch:  0 | batch: 1 | i:  1000 | LR: 0.00100 | Loss Val: 250.039 | Loss Avg: 234.564\n",
      "Epoch:  0 | batch: 1 | i:  1100 | LR: 0.00100 | Loss Val: 246.959 | Loss Avg: 234.872\n",
      "Epoch:  0 | batch: 1 | i:  1200 | LR: 0.00100 | Loss Val: 246.901 | Loss Avg: 235.160\n",
      "Epoch:  0 | batch: 1 | i:  1300 | LR: 0.00100 | Loss Val: 246.810 | Loss Avg: 235.432\n",
      "Epoch:  0 | batch: 1 | i:  1400 | LR: 0.00100 | Loss Val: 246.801 | Loss Avg: 235.691\n",
      "Epoch:  0 | batch: 1 | i:  1500 | LR: 0.00100 | Loss Val: 246.654 | Loss Avg: 235.937\n",
      "Epoch:  0 | batch: 1 | i:  1600 | LR: 0.00100 | Loss Val: 246.627 | Loss Avg: 236.171\n",
      "Epoch:  0 | batch: 1 | i:  1700 | LR: 0.00100 | Loss Val: 246.625 | Loss Avg: 236.394\n",
      "Epoch:  0 | batch: 1 | i:  1800 | LR: 0.00100 | Loss Val: 246.543 | Loss Avg: 236.606\n",
      "Epoch:  0 | batch: 1 | i:  1900 | LR: 0.00100 | Loss Val: 246.540 | Loss Avg: 236.810\n",
      "Epoch:  0 | batch: 1 | i:  2000 | LR: 0.00010 | Loss Val: 246.558 | Loss Avg: 237.004\n",
      "Epoch:  0 | batch: 1 | i:  2100 | LR: 0.00010 | Loss Val: 246.352 | Loss Avg: 237.188\n",
      "Epoch:  0 | batch: 1 | i:  2200 | LR: 0.00010 | Loss Val: 246.351 | Loss Avg: 237.364\n",
      "Epoch:  0 | batch: 1 | i:  2300 | LR: 0.00010 | Loss Val: 246.343 | Loss Avg: 237.533\n",
      "Epoch:  0 | batch: 1 | i:  2400 | LR: 0.00010 | Loss Val: 246.347 | Loss Avg: 237.696\n",
      "Epoch:  0 | batch: 1 | i:  2500 | LR: 0.00010 | Loss Val: 246.340 | Loss Avg: 237.854\n",
      "Epoch:  0 | batch: 1 | i:  2600 | LR: 0.00010 | Loss Val: 246.335 | Loss Avg: 238.005\n",
      "Epoch:  0 | batch: 1 | i:  2700 | LR: 0.00010 | Loss Val: 246.334 | Loss Avg: 238.151\n",
      "Epoch:  0 | batch: 1 | i:  2800 | LR: 0.00010 | Loss Val: 246.328 | Loss Avg: 238.292\n",
      "Epoch:  0 | batch: 1 | i:  2900 | LR: 0.00010 | Loss Val: 246.326 | Loss Avg: 238.428\n",
      "Max_Loss: 246.3217896098513\n",
      "Epoch:  0 | batch: 2 | i:     0 | LR: 0.01000 | Loss Val: 2435.030 | Loss Avg: 238.925\n",
      "Epoch:  0 | batch: 2 | i:   100 | LR: 0.01000 | Loss Val: 330.379 | Loss Avg: 242.041\n",
      "Epoch:  0 | batch: 2 | i:   200 | LR: 0.01000 | Loss Val: 312.758 | Loss Avg: 243.289\n",
      "Epoch:  0 | batch: 2 | i:   300 | LR: 0.01000 | Loss Val: 301.393 | Loss Avg: 244.331\n",
      "Epoch:  0 | batch: 2 | i:   400 | LR: 0.01000 | Loss Val: 294.396 | Loss Avg: 245.216\n",
      "Epoch:  0 | batch: 2 | i:   500 | LR: 0.01000 | Loss Val: 292.331 | Loss Avg: 245.952\n",
      "Epoch:  0 | batch: 2 | i:   600 | LR: 0.01000 | Loss Val: 290.502 | Loss Avg: 246.657\n",
      "Epoch:  0 | batch: 2 | i:   700 | LR: 0.01000 | Loss Val: 290.948 | Loss Avg: 247.299\n",
      "Epoch:  0 | batch: 2 | i:   800 | LR: 0.01000 | Loss Val: 288.802 | Loss Avg: 247.883\n",
      "Epoch:  0 | batch: 2 | i:   900 | LR: 0.01000 | Loss Val: 285.511 | Loss Avg: 248.438\n",
      "Epoch:  0 | batch: 2 | i:  1000 | LR: 0.00100 | Loss Val: 286.842 | Loss Avg: 249.021\n",
      "Epoch:  0 | batch: 2 | i:  1100 | LR: 0.00100 | Loss Val: 280.692 | Loss Avg: 249.477\n",
      "Epoch:  0 | batch: 2 | i:  1200 | LR: 0.00100 | Loss Val: 280.210 | Loss Avg: 249.907\n",
      "Epoch:  0 | batch: 2 | i:  1300 | LR: 0.00100 | Loss Val: 279.921 | Loss Avg: 250.320\n",
      "Epoch:  0 | batch: 2 | i:  1400 | LR: 0.00100 | Loss Val: 279.662 | Loss Avg: 250.718\n",
      "Epoch:  0 | batch: 2 | i:  1500 | LR: 0.00100 | Loss Val: 279.511 | Loss Avg: 251.103\n",
      "Epoch:  0 | batch: 2 | i:  1600 | LR: 0.00100 | Loss Val: 279.399 | Loss Avg: 251.477\n",
      "Epoch:  0 | batch: 2 | i:  1700 | LR: 0.00100 | Loss Val: 279.292 | Loss Avg: 251.839\n",
      "Epoch:  0 | batch: 2 | i:  1800 | LR: 0.00100 | Loss Val: 279.258 | Loss Avg: 252.190\n",
      "Epoch:  0 | batch: 2 | i:  1900 | LR: 0.00100 | Loss Val: 279.130 | Loss Avg: 252.532\n",
      "Epoch:  0 | batch: 2 | i:  2000 | LR: 0.00010 | Loss Val: 279.082 | Loss Avg: 252.864\n",
      "Epoch:  0 | batch: 2 | i:  2100 | LR: 0.00010 | Loss Val: 278.934 | Loss Avg: 253.186\n",
      "Epoch:  0 | batch: 2 | i:  2200 | LR: 0.00010 | Loss Val: 278.931 | Loss Avg: 253.500\n",
      "Epoch:  0 | batch: 2 | i:  2300 | LR: 0.00010 | Loss Val: 278.914 | Loss Avg: 253.806\n",
      "Epoch:  0 | batch: 2 | i:  2400 | LR: 0.00010 | Loss Val: 278.915 | Loss Avg: 254.105\n",
      "Epoch:  0 | batch: 2 | i:  2500 | LR: 0.00010 | Loss Val: 278.906 | Loss Avg: 254.397\n",
      "Epoch:  0 | batch: 2 | i:  2600 | LR: 0.00010 | Loss Val: 278.900 | Loss Avg: 254.682\n",
      "Epoch:  0 | batch: 2 | i:  2700 | LR: 0.00010 | Loss Val: 278.898 | Loss Avg: 254.960\n",
      "Epoch:  0 | batch: 2 | i:  2800 | LR: 0.00010 | Loss Val: 278.884 | Loss Avg: 255.232\n",
      "Epoch:  0 | batch: 2 | i:  2900 | LR: 0.00010 | Loss Val: 278.885 | Loss Avg: 255.498\n",
      "Max_Loss: 278.8767112026144\n",
      "Number of poison samples generated: 75\n"
     ]
    }
   ],
   "source": [
    "from art.attacks.poisoning import HiddenTriggerBackdoor\n",
    "#%run Hidden_Trigger_keras.ipynb\n",
    "poison_attack = HiddenTriggerBackdoor(classifier, eps=16/255, target=target, source=source, feature_layer=9, backdoor=backdoor, learning_rate=0.01, decay_coeff = .1, decay_iter = 1000, max_iter=3000, batch_size=25, poison_percent=.015)\n",
    "\n",
    "poison_data, poison_indices = poison_attack.poison(x_train, y_train)\n",
    "print(\"Number of poison samples generated:\", len(poison_data))"
   ]
  },
  {
   "cell_type": "markdown",
   "metadata": {},
   "source": [
    "## Finetune the Model\n",
    "Now, we must finetune the model using the poisoned data and a small number of clean training inputs.  Here, we randomly select an equal number of training inputs from each of the classes."
   ]
  },
  {
   "cell_type": "code",
   "execution_count": 9,
   "metadata": {
    "scrolled": true
   },
   "outputs": [],
   "source": [
    "# Create finetuning dataset\n",
    "dataset_size = 2500\n",
    "num_classes = 10\n",
    "num_per_class = dataset_size/num_classes\n",
    "\n",
    "poison_dataset_inds = []\n",
    "\n",
    "for i in range(num_classes):\n",
    "    class_inds = np.where(np.argmax(y_train,axis=1) == i)[0]\n",
    "    num_select = int(num_per_class)\n",
    "    if np.argmax(target) == i:\n",
    "        num_select = int(num_select - min(num_per_class,len(poison_data)))\n",
    "        poison_dataset_inds.append(poison_indices)\n",
    "        \n",
    "    if num_select != 0:\n",
    "        poison_dataset_inds.append(np.random.choice(class_inds, num_select, replace=False))\n",
    "    \n",
    "poison_dataset_inds = np.concatenate(poison_dataset_inds)\n",
    "\n",
    "poison_x = np.copy(x_train)\n",
    "poison_x[poison_indices] = poison_data\n",
    "poison_x = poison_x[poison_dataset_inds]\n",
    "\n",
    "poison_y = np.copy(y_train)[poison_dataset_inds]"
   ]
  },
  {
   "cell_type": "code",
   "execution_count": 10,
   "metadata": {},
   "outputs": [
    {
     "name": "stdout",
     "output_type": "stream",
     "text": [
      "Model: \"sequential\"\n",
      "_________________________________________________________________\n",
      "Layer (type)                 Output Shape              Param #   \n",
      "=================================================================\n",
      "conv2d (Conv2D)              (None, 32, 32, 32)        896       \n",
      "_________________________________________________________________\n",
      "conv2d_1 (Conv2D)            (None, 30, 30, 32)        9248      \n",
      "_________________________________________________________________\n",
      "max_pooling2d (MaxPooling2D) (None, 15, 15, 32)        0         \n",
      "_________________________________________________________________\n",
      "dropout (Dropout)            (None, 15, 15, 32)        0         \n",
      "_________________________________________________________________\n",
      "conv2d_2 (Conv2D)            (None, 15, 15, 64)        18496     \n",
      "_________________________________________________________________\n",
      "conv2d_3 (Conv2D)            (None, 13, 13, 64)        36928     \n",
      "_________________________________________________________________\n",
      "max_pooling2d_1 (MaxPooling2 (None, 6, 6, 64)          0         \n",
      "_________________________________________________________________\n",
      "dropout_1 (Dropout)          (None, 6, 6, 64)          0         \n",
      "_________________________________________________________________\n",
      "flatten (Flatten)            (None, 2304)              0         \n",
      "_________________________________________________________________\n",
      "dense (Dense)                (None, 512)               1180160   \n",
      "_________________________________________________________________\n",
      "dropout_2 (Dropout)          (None, 512)               0         \n",
      "_________________________________________________________________\n",
      "dense_1 (Dense)              (None, 10)                5130      \n",
      "=================================================================\n",
      "Total params: 1,250,858\n",
      "Trainable params: 0\n",
      "Non-trainable params: 1,250,858\n",
      "_________________________________________________________________\n"
     ]
    }
   ],
   "source": [
    "model = tf.keras.models.load_model(temp_model_dir.name + '/keras_model')\n",
    "temp_model_dir.cleanup() # Remove the temporary directory after loading the checkpoint\n",
    "\n",
    "model.trainable = False\n",
    "model.compile(loss=losses.CategoricalCrossentropy(from_logits=True), optimizer=\"adam\", metrics=[\"accuracy\"])\n",
    "model.summary()"
   ]
  },
  {
   "cell_type": "code",
   "execution_count": 11,
   "metadata": {},
   "outputs": [
    {
     "name": "stdout",
     "output_type": "stream",
     "text": [
      "Accuracy on benign test examples: 76.08%\n"
     ]
    }
   ],
   "source": [
    "classifier = KerasClassifier(clip_values=(min_, max_), model=model)\n",
    "predictions = classifier.predict(x_test)\n",
    "accuracy = np.sum(np.argmax(predictions, axis=1) == np.argmax(y_test, axis=1)) / len(y_test)\n",
    "print(\"Accuracy on benign test examples: {}%\".format(accuracy * 100))"
   ]
  },
  {
   "cell_type": "code",
   "execution_count": 12,
   "metadata": {
    "scrolled": true
   },
   "outputs": [
    {
     "name": "stdout",
     "output_type": "stream",
     "text": [
      "Model: \"model\"\n",
      "_________________________________________________________________\n",
      "Layer (type)                 Output Shape              Param #   \n",
      "=================================================================\n",
      "conv2d_input (InputLayer)    [(None, 32, 32, 3)]       0         \n",
      "_________________________________________________________________\n",
      "conv2d (Conv2D)              (None, 32, 32, 32)        896       \n",
      "_________________________________________________________________\n",
      "conv2d_1 (Conv2D)            (None, 30, 30, 32)        9248      \n",
      "_________________________________________________________________\n",
      "max_pooling2d (MaxPooling2D) (None, 15, 15, 32)        0         \n",
      "_________________________________________________________________\n",
      "dropout (Dropout)            (None, 15, 15, 32)        0         \n",
      "_________________________________________________________________\n",
      "conv2d_2 (Conv2D)            (None, 15, 15, 64)        18496     \n",
      "_________________________________________________________________\n",
      "conv2d_3 (Conv2D)            (None, 13, 13, 64)        36928     \n",
      "_________________________________________________________________\n",
      "max_pooling2d_1 (MaxPooling2 (None, 6, 6, 64)          0         \n",
      "_________________________________________________________________\n",
      "dropout_1 (Dropout)          (None, 6, 6, 64)          0         \n",
      "_________________________________________________________________\n",
      "flatten (Flatten)            (None, 2304)              0         \n",
      "_________________________________________________________________\n",
      "dense (Dense)                (None, 512)               1180160   \n",
      "_________________________________________________________________\n",
      "dropout_2 (Dropout)          (None, 512)               0         \n",
      "_________________________________________________________________\n",
      "dense_2 (Dense)              (None, 10)                5130      \n",
      "=================================================================\n",
      "Total params: 1,250,858\n",
      "Trainable params: 5,130\n",
      "Non-trainable params: 1,245,728\n",
      "_________________________________________________________________\n"
     ]
    }
   ],
   "source": [
    "finetune_model = tf.keras.layers.Dense(10)(model.layers[-2].output)\n",
    "finetune_model = tf.keras.Model(inputs=model.inputs, outputs=finetune_model)\n",
    "finetune_model.summary()\n",
    "\n",
    "lr = 0.5\n",
    "optimizer = tf.keras.optimizers.Adam(learning_rate=lr)\n",
    "\n",
    "finetune_model.compile(loss=losses.CategoricalCrossentropy(from_logits=True), optimizer=optimizer, metrics=[\"accuracy\"])\n",
    "finetune_classifier = KerasClassifier(clip_values=(min_, max_), model=finetune_model, use_logits=True)"
   ]
  },
  {
   "cell_type": "code",
   "execution_count": 13,
   "metadata": {},
   "outputs": [
    {
     "name": "stdout",
     "output_type": "stream",
     "text": [
      "Accuracy on benign test examples: 4.87%\n",
      "Accuracy on benign trigger test examples: 9.4%\n",
      "Accuracy on poison trigger test examples: 15.5%\n",
      "Success on poison trigger test examples: 8.7%\n",
      "\n",
      "Training Epoch 0\n",
      "Train on 2500 samples\n",
      "2500/2500 [==============================] - 0s 102us/sample - loss: 6.9716 - accuracy: 0.6436\n",
      "Accuracy on benign test examples: 72.39999999999999%\n",
      "Accuracy on benign trigger test examples: 41.6%\n",
      "Accuracy on poison trigger test examples: 7.8%\n",
      "Success on poison trigger test examples: 62.6%\n",
      "\n",
      "Training Epoch 1\n",
      "Train on 2500 samples\n",
      "2500/2500 [==============================] - 0s 88us/sample - loss: 5.9911 - accuracy: 0.7324\n",
      "Accuracy on benign test examples: 73.72%\n",
      "Accuracy on benign trigger test examples: 49.1%\n",
      "Accuracy on poison trigger test examples: 8.3%\n",
      "Success on poison trigger test examples: 66.10000000000001%\n",
      "\n",
      "Training Epoch 2\n",
      "Train on 2500 samples\n",
      "2500/2500 [==============================] - 0s 90us/sample - loss: 5.7844 - accuracy: 0.7356\n",
      "Accuracy on benign test examples: 73.72%\n",
      "Accuracy on benign trigger test examples: 50.6%\n",
      "Accuracy on poison trigger test examples: 8.4%\n",
      "Success on poison trigger test examples: 66.8%\n",
      "\n",
      "Training Epoch 3\n",
      "Train on 2500 samples\n",
      "2500/2500 [==============================] - 0s 92us/sample - loss: 5.6905 - accuracy: 0.7492\n"
     ]
    }
   ],
   "source": [
    "trigger_test_inds = np.where(np.all(y_test == source, axis=1))[0]\n",
    "\n",
    "test_poisoned_samples, test_poisoned_labels  = backdoor.poison(x_test[trigger_test_inds], y_test[trigger_test_inds])\n",
    "\n",
    "\n",
    "for i in range(4):\n",
    "    predictions = finetune_classifier.predict(x_test)\n",
    "    accuracy = np.sum(np.argmax(predictions, axis=1) == np.argmax(y_test, axis=1)) / len(y_test)\n",
    "    print(\"Accuracy on benign test examples: {}%\".format(accuracy * 100))\n",
    "    \n",
    "    predictions = finetune_classifier.predict(x_test[trigger_test_inds])\n",
    "    b_accuracy = np.sum(np.argmax(predictions, axis=1) == np.argmax(y_test[trigger_test_inds], axis=1)) / len(trigger_test_inds)\n",
    "    print(\"Accuracy on benign trigger test examples: {}%\".format(b_accuracy * 100))\n",
    "    \n",
    "    predictions = finetune_classifier.predict(test_poisoned_samples)\n",
    "    p_accuracy = np.sum(np.argmax(predictions, axis=1) == np.argmax(test_poisoned_labels,axis=1)) / len(test_poisoned_labels)\n",
    "    print(\"Accuracy on poison trigger test examples: {}%\".format(p_accuracy * 100))\n",
    "    p_success = np.sum(np.argmax(predictions, axis=1) == np.argmax(target)) / len(test_poisoned_labels)\n",
    "    print(\"Success on poison trigger test examples: {}%\".format(p_success * 100))\n",
    "    print()\n",
    "    print(\"Training Epoch\", i)\n",
    "    if i != 0:\n",
    "        lr *= 0.1\n",
    "        optimizer = tf.keras.optimizers.Adam(learning_rate=lr)\n",
    "        #optimizer = tf.keras.optimizers.SGD(learning_rate=lr, momentum=0.9)\n",
    "        finetune_model.compile(loss=losses.CategoricalCrossentropy(from_logits=True), optimizer=optimizer, metrics=[\"accuracy\"])\n",
    "    finetune_classifier = KerasClassifier(clip_values=(min_, max_), model=finetune_model, use_logits=True)\n",
    "\n",
    "    finetune_classifier.fit(poison_x, poison_y, nb_epochs=1)\n"
   ]
  },
  {
   "cell_type": "code",
   "execution_count": 14,
   "metadata": {},
   "outputs": [
    {
     "name": "stdout",
     "output_type": "stream",
     "text": [
      "Final Performance\n",
      "Accuracy on benign test examples: 73.72999999999999%\n",
      "Accuracy on benign trigger test examples: 50.6%\n",
      "Accuracy on poison trigger test examples: 8.4%\n",
      "Success on poison trigger test examples: 66.7%\n"
     ]
    }
   ],
   "source": [
    "print(\"Final Performance\")\n",
    "predictions = finetune_classifier.predict(x_test)\n",
    "accuracy = np.sum(np.argmax(predictions, axis=1) == np.argmax(y_test, axis=1)) / len(y_test)\n",
    "print(\"Accuracy on benign test examples: {}%\".format(accuracy * 100))\n",
    "\n",
    "predictions = finetune_classifier.predict(x_test[trigger_test_inds])\n",
    "b_accuracy = np.sum(np.argmax(predictions, axis=1) == np.argmax(y_test[trigger_test_inds], axis=1)) / len(trigger_test_inds)\n",
    "print(\"Accuracy on benign trigger test examples: {}%\".format(b_accuracy * 100))\n",
    "\n",
    "predictions = finetune_classifier.predict(test_poisoned_samples)\n",
    "p_accuracy = np.sum(np.argmax(predictions, axis=1) == np.argmax(test_poisoned_labels,axis=1)) / len(test_poisoned_labels)\n",
    "print(\"Accuracy on poison trigger test examples: {}%\".format(p_accuracy * 100))\n",
    "p_success = np.sum(np.argmax(predictions, axis=1) == np.argmax(target)) / len(test_poisoned_labels)\n",
    "print(\"Success on poison trigger test examples: {}%\".format(p_success * 100))"
   ]
  },
  {
   "cell_type": "code",
   "execution_count": null,
   "metadata": {},
   "outputs": [],
   "source": []
  }
 ],
 "metadata": {
  "kernelspec": {
   "display_name": "Python 3 (ipykernel)",
   "language": "python",
   "name": "python3"
  },
  "language_info": {
   "codemirror_mode": {
    "name": "ipython",
    "version": 3
   },
   "file_extension": ".py",
   "mimetype": "text/x-python",
   "name": "python",
   "nbconvert_exporter": "python",
   "pygments_lexer": "ipython3",
   "version": "3.9.7"
  }
 },
 "nbformat": 4,
 "nbformat_minor": 4
}
