{
 "cells": [
  {
   "cell_type": "markdown",
   "metadata": {},
   "source": [
    "# Load and Poison Data"
   ]
  },
  {
   "cell_type": "code",
   "execution_count": 18,
   "metadata": {},
   "outputs": [],
   "source": [
    "from __future__ import absolute_import, division, print_function, unicode_literals\n",
    "\n",
    "import os, sys\n",
    "from os.path import abspath\n",
    "\n",
    "module_path = os.path.abspath(os.path.join('..'))\n",
    "if module_path not in sys.path:\n",
    "    sys.path.append(module_path)\n",
    "\n",
    "from config import DATA_PATH\n",
    "\n",
    "import keras.backend as k\n",
    "from keras.models import Sequential\n",
    "from keras.layers import Dense, Flatten, Conv2D, MaxPooling2D, Activation, Dropout\n",
    "import numpy as np\n",
    "import matplotlib.pyplot as plt\n",
    "%matplotlib inline\n",
    "from mpl_toolkits import mplot3d\n",
    "\n",
    "from art.classifiers import KerasClassifier\n",
    "from art.utils import load_mnist_raw, preprocess\n",
    "from art.poison_detection import ActivationDefense\n",
    "from examples.mnist_poison_detection import generate_backdoor"
   ]
  },
  {
   "cell_type": "markdown",
   "metadata": {},
   "source": [
    "### Load MNIST data and take a random sample to reduce runtime"
   ]
  },
  {
   "cell_type": "code",
   "execution_count": 19,
   "metadata": {},
   "outputs": [],
   "source": [
    "(x_raw, y_raw), (x_raw_test, y_raw_test), min_, max_ = load_mnist_raw()\n",
    "\n",
    "# Random Selection:\n",
    "n_train = np.shape(x_raw)[0]\n",
    "num_selection = 7500\n",
    "random_selection_indices = np.random.choice(n_train, num_selection)\n",
    "x_raw = x_raw[random_selection_indices]\n",
    "y_raw = y_raw[random_selection_indices]"
   ]
  },
  {
   "cell_type": "markdown",
   "metadata": {},
   "source": [
    "### Poison training data"
   ]
  },
  {
   "cell_type": "code",
   "execution_count": 20,
   "metadata": {},
   "outputs": [],
   "source": [
    "# Poison training data\n",
    "percent_poison = .33\n",
    "(is_poison_train, x_poisoned_raw, y_poisoned_raw) = generate_backdoor(x_raw, y_raw, percent_poison)\n",
    "x_train, y_train = preprocess(x_poisoned_raw, y_poisoned_raw)\n",
    "# Add channel axis:\n",
    "x_train = np.expand_dims(x_train, axis=3)\n"
   ]
  },
  {
   "cell_type": "markdown",
   "metadata": {},
   "source": [
    "### Poison test data"
   ]
  },
  {
   "cell_type": "code",
   "execution_count": 21,
   "metadata": {},
   "outputs": [],
   "source": [
    "# Poison test data\n",
    "(is_poison_test, x_poisoned_raw_test, y_poisoned_raw_test) = generate_backdoor(x_raw_test, y_raw_test, percent_poison)\n",
    "x_test, y_test = preprocess(x_poisoned_raw_test, y_poisoned_raw_test)\n",
    "# Add channel axis:\n",
    "x_test = np.expand_dims(x_test, axis=3)"
   ]
  },
  {
   "cell_type": "markdown",
   "metadata": {},
   "source": [
    "### Shuffle training data"
   ]
  },
  {
   "cell_type": "code",
   "execution_count": 22,
   "metadata": {},
   "outputs": [],
   "source": [
    "# Shuffle training data\n",
    "n_train = np.shape(y_train)[0]\n",
    "shuffled_indices = np.arange(n_train)\n",
    "np.random.shuffle(shuffled_indices)\n",
    "x_train = x_train[shuffled_indices]\n",
    "y_train = y_train[shuffled_indices]\n",
    "is_poison_train = is_poison_train[shuffled_indices]\n",
    "\n",
    "x_poisoned_raw = x_poisoned_raw[shuffled_indices]\n",
    "y_poisoned_raw = y_poisoned_raw[shuffled_indices]"
   ]
  },
  {
   "cell_type": "markdown",
   "metadata": {},
   "source": [
    "# Specify and train model"
   ]
  },
  {
   "cell_type": "code",
   "execution_count": 23,
   "metadata": {},
   "outputs": [],
   "source": [
    "# Create Keras convolutional neural network - basic architecture from Keras examples\n",
    "# Source here: https://github.com/keras-team/keras/blob/master/examples/mnist_cnn.py\n",
    "k.set_learning_phase(1)\n",
    "model = Sequential()\n",
    "model.add(Conv2D(32, kernel_size=(3, 3), activation='relu', input_shape=x_train.shape[1:]))\n",
    "model.add(Conv2D(64, (3, 3), activation='relu'))\n",
    "model.add(MaxPooling2D(pool_size=(2, 2)))\n",
    "model.add(Dropout(0.25))\n",
    "model.add(Flatten())\n",
    "model.add(Dense(128, activation='relu'))\n",
    "model.add(Dropout(0.5))\n",
    "model.add(Dense(10, activation='softmax'))\n",
    "\n",
    "model.compile(loss='categorical_crossentropy', optimizer='adam', metrics=['accuracy'])"
   ]
  },
  {
   "cell_type": "code",
   "execution_count": 24,
   "metadata": {},
   "outputs": [
    {
     "name": "stdout",
     "output_type": "stream",
     "text": [
      "Epoch 1/5\n",
      "88/87 [==============================] - 14s 160ms/step - loss: 1.2624 - acc: 0.5432\n",
      "Epoch 2/5\n",
      "88/87 [==============================] - 15s 166ms/step - loss: 0.4085 - acc: 0.8724\n",
      "Epoch 3/5\n",
      "88/87 [==============================] - 15s 175ms/step - loss: 0.2569 - acc: 0.9248\n",
      "Epoch 4/5\n",
      "88/87 [==============================] - 15s 176ms/step - loss: 0.1969 - acc: 0.9382\n",
      "Epoch 5/5\n",
      "88/87 [==============================] - 16s 177ms/step - loss: 0.1527 - acc: 0.9532\n"
     ]
    }
   ],
   "source": [
    "classifier = KerasClassifier((min_, max_), model=model)\n",
    "\n",
    "classifier.fit(x_train, y_train, nb_epochs=5, batch_size=128)"
   ]
  },
  {
   "cell_type": "markdown",
   "metadata": {},
   "source": [
    "# Evaluate model and show classification samples"
   ]
  },
  {
   "cell_type": "markdown",
   "metadata": {},
   "source": [
    "### Evaluation on clean test samples"
   ]
  },
  {
   "cell_type": "code",
   "execution_count": 25,
   "metadata": {},
   "outputs": [
    {
     "name": "stdout",
     "output_type": "stream",
     "text": [
      "\n",
      "Clean test set accuracy: 94.42%\n"
     ]
    }
   ],
   "source": [
    "clean_x_test = x_test[is_poison_test == 0]\n",
    "clean_y_test = y_test[is_poison_test == 0]\n",
    "\n",
    "clean_preds = np.argmax(classifier.predict(clean_x_test), axis=1)\n",
    "clean_correct = np.sum(clean_preds == np.argmax(clean_y_test, axis=1))\n",
    "clean_total = clean_y_test.shape[0]\n",
    "\n",
    "clean_acc = clean_correct / clean_total\n",
    "print(\"\\nClean test set accuracy: %.2f%%\" % (clean_acc * 100))"
   ]
  },
  {
   "cell_type": "markdown",
   "metadata": {},
   "source": [
    "### Display and classify clean test sample"
   ]
  },
  {
   "cell_type": "code",
   "execution_count": 26,
   "metadata": {},
   "outputs": [],
   "source": [
    "# Display image, label, and prediction for a clean sample to show how the poisoned model classifies a clean sample\n",
    "\n",
    "# random_clean = np.random.randint(clean_total)\n",
    "# clean_img = x_test[is_poison_test == 0][random_clean].squeeze()\n",
    "# plt.imshow(clean_img)\n",
    "# plt.show()\n",
    "# clean_label = y_test[is_poison_test == 0][random_clean]\n",
    "# print(\"Label: \" + str(np.argmax(clean_label)))\n",
    "# print(\"Prediction: \" + str(clean_preds[random_clean]))"
   ]
  },
  {
   "cell_type": "code",
   "execution_count": 27,
   "metadata": {},
   "outputs": [
    {
     "data": {
      "image/png": "[encoded data removed]",
      "text/plain": [
       "<matplotlib.figure.Figure at 0x1a209277b8>"
      ]
     },
     "metadata": {},
     "output_type": "display_data"
    },
    {
     "name": "stdout",
     "output_type": "stream",
     "text": [
      "Prediction: 0\n"
     ]
    }
   ],
   "source": [
    "# Display image, label, and prediction for a clean sample to show how the poisoned model classifies a clean sample\n",
    "\n",
    "c = 0 # class to display\n",
    "i = 0 # image of the class to display\n",
    "\n",
    "c_idx = np.where(np.argmax(clean_y_test,1) == c)[0][i] # index of the image in clean arrays\n",
    "\n",
    "plt.imshow(clean_x_test[c_idx].squeeze())\n",
    "plt.show()\n",
    "clean_label = c\n",
    "print(\"Prediction: \" + str(clean_preds[c_idx]))"
   ]
  },
  {
   "cell_type": "markdown",
   "metadata": {},
   "source": [
    "### Evaluate model on poisoned test samples"
   ]
  },
  {
   "cell_type": "code",
   "execution_count": 28,
   "metadata": {},
   "outputs": [
    {
     "name": "stdout",
     "output_type": "stream",
     "text": [
      "\n",
      "Poisonous test set accuracy (i.e. effectiveness of poison): 91.41%\n"
     ]
    }
   ],
   "source": [
    "poison_x_test = x_test[is_poison_test]\n",
    "poison_y_test = y_test[is_poison_test]\n",
    "\n",
    "poison_preds = np.argmax(classifier.predict(poison_x_test), axis=1)\n",
    "poison_correct = np.sum(poison_preds == np.argmax(poison_y_test, axis=1))\n",
    "poison_total = poison_y_test.shape[0]\n",
    "\n",
    "poison_acc = poison_correct / poison_total\n",
    "print(\"\\nPoisonous test set accuracy (i.e. effectiveness of poison): %.2f%%\" % (poison_acc * 100))"
   ]
  },
  {
   "cell_type": "markdown",
   "metadata": {},
   "source": [
    "### Display and classify poisoned test sample"
   ]
  },
  {
   "cell_type": "code",
   "execution_count": 29,
   "metadata": {},
   "outputs": [],
   "source": [
    "# Display image, label, and prediction for a poisoned image to see the backdoor working\n",
    "\n",
    "# random_poison = np.random.randint(poison_total)\n",
    "# poison_img = x_test[is_poison_test][random_poison].squeeze()\n",
    "# plt.imshow(poison_img)\n",
    "# plt.show()\n",
    "# poison_label = y_test[is_poison_test][random_poison]\n",
    "# print(\"Poisoned label: \" + str(np.argmax(poison_label)))\n",
    "# print(\"Prediction: \" + str(poison_preds[random_poison]))"
   ]
  },
  {
   "cell_type": "code",
   "execution_count": 30,
   "metadata": {},
   "outputs": [
    {
     "data": {
      "image/png": "[encoded data removed]",
      "text/plain": [
       "<matplotlib.figure.Figure at 0x1a24649c18>"
      ]
     },
     "metadata": {},
     "output_type": "display_data"
    },
    {
     "name": "stdout",
     "output_type": "stream",
     "text": [
      "Prediction: 1\n"
     ]
    }
   ],
   "source": [
    "# Display image, label, and prediction for a poisoned image to see the backdoor working\n",
    "\n",
    "c = 1 # class to display\n",
    "i = 0 # image of the class to display\n",
    "\n",
    "c_idx = np.where(np.argmax(poison_y_test,1) == c)[0][i] # index of the image in poison arrays\n",
    "\n",
    "plt.imshow(poison_x_test[c_idx].squeeze())\n",
    "plt.show()\n",
    "poison_label = c\n",
    "print(\"Prediction: \" + str(poison_preds[c_idx]))"
   ]
  },
  {
   "cell_type": "markdown",
   "metadata": {},
   "source": [
    "### Evaluate accuracy on entire test set"
   ]
  },
  {
   "cell_type": "code",
   "execution_count": 31,
   "metadata": {},
   "outputs": [
    {
     "name": "stdout",
     "output_type": "stream",
     "text": [
      "\n",
      "Overall test set accuracy (i.e. effectiveness of poison): 93.43%\n"
     ]
    }
   ],
   "source": [
    "total_correct = clean_correct + poison_correct\n",
    "total = clean_total + poison_total\n",
    "\n",
    "total_acc = total_correct / total\n",
    "print(\"\\nOverall test set accuracy (i.e. effectiveness of poison): %.2f%%\" % (total_acc * 100))\n"
   ]
  },
  {
   "cell_type": "markdown",
   "metadata": {},
   "source": [
    "# Detect Poison using Activation Defense"
   ]
  },
  {
   "cell_type": "code",
   "execution_count": 34,
   "metadata": {
    "scrolled": true
   },
   "outputs": [],
   "source": [
    "defense = ActivationDefense(classifier, x_train, y_train)"
   ]
  },
  {
   "cell_type": "code",
   "execution_count": 37,
   "metadata": {},
   "outputs": [
    {
     "name": "stdout",
     "output_type": "stream",
     "text": [
      "Analysis completed\n"
     ]
    }
   ],
   "source": [
    "confidence_level, is_clean_lst = defense.detect_poison(n_clusters=2,\n",
    "                                                       ndims=10,\n",
    "                                                       reduce=\"PCA\")\n",
    "print(\"Analysis completed\")"
   ]
  },
  {
   "cell_type": "markdown",
   "metadata": {},
   "source": [
    "# Evaluate Results"
   ]
  },
  {
   "cell_type": "code",
   "execution_count": 43,
   "metadata": {},
   "outputs": [
    {
     "name": "stdout",
     "output_type": "stream",
     "text": [
      "------------------- Results using size metric -------------------\n",
      "\n",
      "Error rates per class:\n",
      "-------------------0---------------\n",
      "true-positive rate: 365/365=100\n",
      "true-negative rate: 740/742=99.7\n",
      "false-positive rate: 2/742=0.27\n",
      "false-negative rate: 0/365=0\n",
      "-------------------1---------------\n",
      "true-positive rate: 413/426=96.9\n",
      "true-negative rate: 865/865=100\n",
      "false-positive rate: 0/865=0\n",
      "false-negative rate: 13/426=3.05\n",
      "-------------------2---------------\n",
      "true-positive rate: 363/364=99.7\n",
      "true-negative rate: 728/739=98.5\n",
      "false-positive rate: 11/739=1.49\n",
      "false-negative rate: 1/364=0.275\n",
      "-------------------3---------------\n",
      "true-positive rate: 403/403=100\n",
      "true-negative rate: 793/818=96.9\n",
      "false-positive rate: 25/818=3.06\n",
      "false-negative rate: 0/403=0\n",
      "-------------------4---------------\n",
      "true-positive rate: 362/362=100\n",
      "true-negative rate: 730/735=99.3\n",
      "false-positive rate: 5/735=0.68\n",
      "false-negative rate: 0/362=0\n",
      "-------------------5---------------\n",
      "true-positive rate: 350/350=100\n",
      "true-negative rate: 702/711=98.7\n",
      "false-positive rate: 9/711=1.27\n",
      "false-negative rate: 0/350=0\n",
      "-------------------6---------------\n",
      "true-positive rate: 336/336=100\n",
      "true-negative rate: 676/683=99\n",
      "false-positive rate: 7/683=1.02\n",
      "false-negative rate: 0/336=0\n",
      "-------------------7---------------\n",
      "true-positive rate: 375/376=99.7\n",
      "true-negative rate: 762/763=99.9\n",
      "false-positive rate: 1/763=0.131\n",
      "false-negative rate: 1/376=0.266\n",
      "-------------------8---------------\n",
      "true-positive rate: 363/370=98.1\n",
      "true-negative rate: 751/752=99.9\n",
      "false-positive rate: 1/752=0.133\n",
      "false-negative rate: 7/370=1.89\n",
      "-------------------9---------------\n",
      "true-positive rate: 340/341=99.7\n",
      "true-negative rate: 687/692=99.3\n",
      "false-positive rate: 5/692=0.723\n",
      "false-negative rate: 1/341=0.293\n"
     ]
    }
   ],
   "source": [
    "# Evaluate method when ground truth is known:\n",
    "print(\"------------------- Results using size metric -------------------\")\n",
    "is_clean = (is_poison_train == 0)\n",
    "confusion_matrix = defense.evaluate_defense(is_clean)\n",
    "# print(\"Evaluation defense results: \")\n",
    "# import pprint\n",
    "# pprint.pprint(confusion_matrix)"
   ]
  },
  {
   "cell_type": "markdown",
   "metadata": {},
   "source": [
    "# Visualize Activations"
   ]
  },
  {
   "cell_type": "markdown",
   "metadata": {},
   "source": [
    "### Get clustering and reduce activations to 3 dimensions using PCA"
   ]
  },
  {
   "cell_type": "code",
   "execution_count": 44,
   "metadata": {},
   "outputs": [],
   "source": [
    "[clusters_by_class, _] = defense.cluster_activations()\n",
    "\n",
    "defense.set_params(**{'ndims': 3})\n",
    "[_, red_activations_by_class] = defense.cluster_activations()"
   ]
  },
  {
   "cell_type": "markdown",
   "metadata": {},
   "source": [
    "### Visualize activations colored by clustering"
   ]
  },
  {
   "cell_type": "code",
   "execution_count": 45,
   "metadata": {},
   "outputs": [
    {
     "data": {
      "image/png": "[encoded data removed]",
      "text/plain": [
       "<matplotlib.figure.Figure at 0x1a20fc56a0>"
      ]
     },
     "metadata": {},
     "output_type": "display_data"
    }
   ],
   "source": [
    "c=0\n",
    "red_activations = red_activations_by_class[c]\n",
    "clusters = clusters_by_class[c]\n",
    "fig = plt.figure()\n",
    "ax = plt.axes(projection='3d')\n",
    "colors=[\"#0000FF\", \"#00FF00\"]\n",
    "for i, act in enumerate(red_activations):\n",
    "    ax.scatter3D(act[0], act[1], act[2], color = colors[clusters[i]])"
   ]
  },
  {
   "cell_type": "code",
   "execution_count": null,
   "metadata": {},
   "outputs": [],
   "source": []
  }
 ],
 "metadata": {
  "kernelspec": {
   "display_name": "Python 3",
   "language": "python",
   "name": "python3"
  },
  "language_info": {
   "codemirror_mode": {
    "name": "ipython",
    "version": 3
   },
   "file_extension": ".py",
   "mimetype": "text/x-python",
   "name": "python",
   "nbconvert_exporter": "python",
   "pygments_lexer": "ipython3",
   "version": "3.6.4"
  }
 },
 "nbformat": 4,
 "nbformat_minor": 2
}
